{
 "cells": [
  {
   "cell_type": "code",
   "execution_count": 13,
   "metadata": {
    "collapsed": false,
    "deletable": true,
    "editable": true
   },
   "outputs": [],
   "source": [
    "__author__ = \"Ehsaneddin Asgari\"\n",
    "__copyright__ = \"Copyright 2017, HH-HZI Project\"\n",
    "__license__ = \"GPL\"\n",
    "__version__ = \"1.0.0\"\n",
    "__maintainer__ = \"Ehsaneddin Asgari\"\n",
    "__email__ = \"asgari@berkeley.edu ehsaneddin.asgari@helmholtz-hzi.de\"\n",
    "\n",
    "def create_table(dict_results,average_dict):\n",
    "    \n",
    "    text = \"\"\"\\\\begin{table}\n",
    "    \\centering\n",
    "    \\\\resizebox{\\columnwidth}{!}\n",
    "    {\\\\begin{tabular}{|l|c|c|c|c|c|c|c||c|c|c|c|c|}           \\hline \n",
    "    \\multirow{2}{*}{Drug} & \\multirow{2}{*}{$\\# $R} & \\multirow{2}{*}{$\\# \\\\neg$R} & \\multicolumn{5}{c||}{Random Forest} & \\multicolumn{5}{c|}{SVM - Linear} \\\\\\   \\cline{4-13}\n",
    "     & &  &{Prec.} & {Rec.} & {F1} & {TNR} & {ACC} & {Prec.} & {Rec.} & {F1} & {TNR} & {ACC}\\\\\\   \\hline \"\"\"\n",
    "    keys=list(dict_results.keys())\n",
    "    keys.sort()\n",
    "    for k in keys:\n",
    "        res_dict=dict_results[k]\n",
    "        text+=\" {\"+k+\"}  & \"+ str(round(res_dict['R'],2))+\" & \"+ str(round(res_dict['NR'],2))+\"\"\" & \"\"\"+ str(round(res_dict['Prec'],2)) +\"\"\" & \"\"\"+ str(round(res_dict['TPR/Rec'],2)) +\"\"\" & \"\"\"+ str(round(res_dict['F'],2)) +\"\"\" & \"\"\"+ str(round(res_dict['TNR'],2)) +\"\"\" & \"\"\"+ str(round(res_dict['ACC'],2)) +\"\"\" & & & & & \\\\\\ \\hline \"\"\"     \n",
    "\n",
    "    text+=\" \\hline{Average}  & \"+ average_dict['R']+\" & \"+ average_dict['NR']+\"\"\" & \"\"\"+ average_dict['Prec'] +\"\"\" & \"\"\"+ average_dict['TPR/Rec'] +\"\"\" & \"\"\"+ average_dict['F'] +\"\"\" & \"\"\"+ average_dict['TNR'] +\"\"\" & \"\"\"+ average_dict['ACC'] +\"\"\" & & & & & \\\\\\ \\hline \"\"\"     \n",
    "    text+=\"\"\" \\end{tabular}}\n",
    "     \\end{table}\"\"\"\n",
    "    return text"
   ]
  },
  {
   "cell_type": "code",
   "execution_count": null,
   "metadata": {
    "collapsed": true,
    "deletable": true,
    "editable": true
   },
   "outputs": [],
   "source": [
    "from file_utility import  FileUtility\n",
    "from data_access_utility import ABRAccessUtility\n",
    "import numpy as np\n",
    "\n",
    "ABRAccess=ABRAccessUtility('/mounts/data/proj/asgari/github_data/data/pseudomonas/data_v2/extracted_features/',['genePA','geneexp','SNPs'])\n",
    "\n",
    "results=dict()\n",
    "for drug in ABRAccess.drugs:\n",
    "    results[drug]=dict()\n",
    "    res=FileUtility.load_obj('/mounts/data/proj/asgari/github_repos/abr_prediction/results/classification/random_forest/param1/genePA_'+drug+'.pickle')\n",
    "    TP=res.count((1,1))\n",
    "    TN=res.count((0,0))\n",
    "    FP=res.count((0,1))\n",
    "    FN=res.count((1,0))\n",
    "    TPR_recal=TP/(TP+FN)\n",
    "    PRE=TP/(TP+FP)\n",
    "    TNR=TN/(TN+FP)\n",
    "    ACC=(TP+TN)/(TN+FP+FN+TP)\n",
    "    if PRE ==0 or TPR_recal==0:\n",
    "        F==0\n",
    "    else:\n",
    "        F=2/(1/PRE+1/TPR_recal)\n",
    "    R=TP+FN\n",
    "    NR=TN+FP\n",
    "    results[drug]['R']=(R)\n",
    "    results[drug]['NR']=(NR)\n",
    "    results[drug]['Prec']=(round(PRE,2))\n",
    "    results[drug]['TPR/Rec']=(round(TPR_recal,2))\n",
    "    results[drug]['TNR']=(round(TNR,2))\n",
    "    results[drug]['ACC']=(round(ACC,2))\n",
    "    results[drug]['F']=(round(F,2))\n",
    "\n",
    "average_dict=dict()\n",
    "average_dict['R']=str(round(np.mean([results[drug]['R'] for drug in ABRAccess.drugs]),1))\n",
    "average_dict['NR']=str(round(np.mean([results[drug]['NR'] for drug in ABRAccess.drugs]),2))\n",
    "average_dict['Prec']=str(round(np.mean([results[drug]['Prec'] for drug in ABRAccess.drugs]),2))\n",
    "average_dict['TPR/Rec']=str(round(np.mean([results[drug]['TPR/Rec'] for drug in ABRAccess.drugs]),2))\n",
    "average_dict['TNR']=str(round(np.mean([results[drug]['TNR'] for drug in ABRAccess.drugs]),2))\n",
    "average_dict['ACC']=str(round(np.mean([results[drug]['ACC'] for drug in ABRAccess.drugs]),2))\n",
    "average_dict['F']=str(round(np.mean([results[drug]['F'] for drug in ABRAccess.drugs]),2))\n",
    "\n",
    "\n",
    "f=open('table.txt','w')\n",
    "f.write(create_table(results,average_dict))\n",
    "f.close()\n"
   ]
  },
  {
   "cell_type": "code",
   "execution_count": 33,
   "metadata": {
    "collapsed": false,
    "deletable": true,
    "editable": true
   },
   "outputs": [
    {
     "name": "stdout",
     "output_type": "stream",
     "text": [
      "Data access created..\n",
      "Ciprofloxacin {'PRE': (0.75531451563388097, 0.013050976525366027), 'F1': (0.78975293752689235, 0.010403157934123438), 'REC': (0.82865328942448302, 0.01353971522573327)}\n",
      "Tobramycin {'PRE': (0.85146455485024286, 0.014589331487736954), 'REC': (0.68116290038451166, 0.019099523781184846), 'F1': (0.75694485832999225, 0.012699380575994451)}\n",
      "Colistin {'PRE': (0.33693934572426448, 0.057015143906079604), 'F1': (0.19924578803103882, 0.027119355123037769), 'REC': (0.14169571391388652, 0.026938580453312804)}\n",
      "Ceftazidim {'PRE': (0.69917169778540189, 0.013077469346990792), 'REC': (0.82482130195614212, 0.009313787733649697), 'F1': (0.75572205540189807, 0.0083524965551777415)}\n",
      "Meropenem {'PRE': (0.78476557402719593, 0.0061353402567038591), 'F1': (0.85465205673201616, 0.0038174696408419472), 'REC': (0.9381761524168446, 0.0060830713646576788)}\n"
     ]
    }
   ],
   "source": [
    "from file_utility import  FileUtility\n",
    "from data_access_utility import ABRAccessUtility\n",
    "import numpy as np\n",
    "\n",
    "ABRAccess=ABRAccessUtility('/mounts/data/proj/asgari/github_data/data/pseudomonas/data_v2/extracted_features/',['genePA','geneexp','SNPs'])\n",
    "\n",
    "results=dict()\n",
    "for drug in ABRAccess.drugs:\n",
    "    results[drug]=dict()\n",
    "    try:\n",
    "        res=FileUtility.load_obj('/mounts/data/proj/asgari/github_repos/abr_prediction/results/classification/random_forest/param1/seq_6_gram_'+drug+'.pickle')\n",
    "        print (drug,res)\n",
    "    except:\n",
    "        print (drug)"
   ]
  }
 ],
 "metadata": {
  "kernelspec": {
   "display_name": "Python 3",
   "language": "python",
   "name": "python3"
  },
  "language_info": {
   "codemirror_mode": {
    "name": "ipython",
    "version": 3
   },
   "file_extension": ".py",
   "mimetype": "text/x-python",
   "name": "python",
   "nbconvert_exporter": "python",
   "pygments_lexer": "ipython3",
   "version": "3.4.6"
  }
 },
 "nbformat": 4,
 "nbformat_minor": 2
}
