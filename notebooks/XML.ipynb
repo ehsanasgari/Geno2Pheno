{
 "cells": [
  {
   "cell_type": "code",
   "execution_count": 1,
   "metadata": {
    "collapsed": true
   },
   "outputs": [],
   "source": [
    "from xml.dom import minidom\n"
   ]
  },
  {
   "cell_type": "code",
   "execution_count": 2,
   "metadata": {
    "collapsed": true
   },
   "outputs": [],
   "source": [
    "xmldoc = minidom.parse('../GenML/sample.genml')"
   ]
  },
  {
   "cell_type": "code",
   "execution_count": 3,
   "metadata": {},
   "outputs": [],
   "source": [
    "predicts=xmldoc.getElementsByTagName('predict')"
   ]
  },
  {
   "cell_type": "code",
   "execution_count": 43,
   "metadata": {},
   "outputs": [
    {
     "name": "stdout",
     "output_type": "stream",
     "text": [
      "<bound method Element.getAttribute of <DOM Element: label at 0x7fa080ebd048>>\n",
      "<bound method Element.getAttribute of <DOM Element: label at 0x7fa080ebd0e0>>\n",
      "<bound method Element.getAttribute of <DOM Element: label at 0x7fa080ebd178>>\n"
     ]
    }
   ],
   "source": [
    "for predict in predicts:\n",
    "    labels=predict.getElementsByTagName('labels')[0]\n",
    "    for label in labels.getElementsByTagName('label'):\n",
    "        print(label.getAttribute)"
   ]
  },
  {
   "cell_type": "code",
   "execution_count": 46,
   "metadata": {},
   "outputs": [
    {
     "name": "stdout",
     "output_type": "stream",
     "text": [
      "1\n",
      "Human_infection\n",
      "1\n",
      "Human_invasive\n",
      "0\n",
      "Human_carriage\n"
     ]
    }
   ],
   "source": [
    "labels=predict.getElementsByTagName('labels')[0].getElementsByTagName('label')\n",
    "mapping=dict()\n",
    "for label in labels:\n",
    "    print(label.attributes['value'].value)\n",
    "    print(label.firstChild.nodeValue.strip())"
   ]
  },
  {
   "cell_type": "code",
   "execution_count": 42,
   "metadata": {},
   "outputs": [
    {
     "name": "stdout",
     "output_type": "stream",
     "text": [
      "macrof1\n"
     ]
    }
   ],
   "source": [
    "classifiers=[]\n",
    "for predict in predicts:\n",
    "    print(predict.getElementsByTagName('optimize')[0].firstChild.nodeValue.strip())"
   ]
  },
  {
   "cell_type": "code",
   "execution_count": 26,
   "metadata": {},
   "outputs": [
    {
     "data": {
      "text/plain": [
       "[]"
      ]
     },
     "execution_count": 26,
     "metadata": {},
     "output_type": "execute_result"
    }
   ],
   "source": [
    "            labels=predict.getElementsByTagName('labels')[0].getElementsByTagName('label')\n",
    "            mapping=dict()\n",
    "            for label in labels:\n",
    "                val=label[0].attributes['value'].value"
   ]
  },
  {
   "cell_type": "code",
   "execution_count": null,
   "metadata": {
    "collapsed": true
   },
   "outputs": [],
   "source": []
  }
 ],
 "metadata": {
  "kernelspec": {
   "display_name": "Python 3",
   "language": "python",
   "name": "python3"
  },
  "language_info": {
   "codemirror_mode": {
    "name": "ipython",
    "version": 3
   },
   "file_extension": ".py",
   "mimetype": "text/x-python",
   "name": "python",
   "nbconvert_exporter": "python",
   "pygments_lexer": "ipython3",
   "version": "3.5.2"
  }
 },
 "nbformat": 4,
 "nbformat_minor": 2
}
