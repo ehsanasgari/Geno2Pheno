{
 "cells": [
  {
   "cell_type": "code",
   "execution_count": 11,
   "metadata": {
    "collapsed": false,
    "deletable": true,
    "editable": true
   },
   "outputs": [],
   "source": [
    "import sys\n",
    "sys.path.append('../')\n",
    "from data_access.data_access_utility import ABRDataAccess\n",
    "from classifier.classical_classifiers import SVM, RFClassifier, KNN"
   ]
  },
  {
   "cell_type": "code",
   "execution_count": 4,
   "metadata": {
    "collapsed": false,
    "deletable": true,
    "editable": true
   },
   "outputs": [
    {
     "name": "stdout",
     "output_type": "stream",
     "text": [
      "Data access created..\n",
      "@@@/mounts/data/proj/asgari/dissertation/datasets/deepbio/pseudomonas/data_v3/snps_nonsyn_trimmed_feature_vect.npz\n",
      "@@@/mounts/data/proj/asgari/dissertation/datasets/deepbio/pseudomonas/data_v3/gpa_feature_vect.npz\n",
      "@@@/mounts/data/proj/asgari/dissertation/datasets/deepbio/pseudomonas/data_v3/genexp_norm01_feature_vect.npz\n"
     ]
    }
   ],
   "source": [
    "feature_list=['snps_nonsyn_trimmed','gpa','genexp_norm01']\n",
    "ABRAccess=ABRDataAccess('/mounts/data/proj/asgari/dissertation/datasets/deepbio/pseudomonas/data_v3/',feature_list)\n",
    "\n",
    "drug_idx=2\n",
    "drug_vect=['Ciprofloxacin', 'Tobramycin', 'Colistin', 'Ceftazidim', 'Meropenem']\n",
    "drug=drug_vect[drug_idx]\n",
    "X,Y,features, iso=ABRAccess.get_xy_prediction_mats(drug,mapping={'0': 0, '0.0': 0, '1': 1, '1.0': 1})\n"
   ]
  },
  {
   "cell_type": "code",
   "execution_count": 12,
   "metadata": {
    "collapsed": false,
    "deletable": true,
    "editable": true
   },
   "outputs": [],
   "source": [
    "\n",
    "import sys\n",
    "sys.path.append('../')\n",
    "\n",
    "import numpy\n",
    "import pandas\n",
    "from keras.models import Sequential\n",
    "from keras.layers import Dense, Dropout, Activation\n",
    "from keras.layers import Convolution2D, MaxPooling2D, Flatten, Dense\n",
    "from keras.layers import Conv1D, GlobalMaxPooling1D\n",
    "from keras.wrappers.scikit_learn import KerasClassifier\n",
    "from keras.utils import np_utils\n",
    "from sklearn.model_selection import cross_val_score\n",
    "from sklearn.model_selection import KFold\n",
    "from sklearn.preprocessing import LabelEncoder\n",
    "from sklearn.pipeline import Pipeline\n",
    "from utility.file_utility import FileUtility\n",
    "import numpy as np\n",
    "from sklearn.model_selection import StratifiedKFold\n",
    "from sklearn.metrics import f1_score, precision_score, recall_score\n",
    "from gensim.models.wrappers import FastText\n",
    "import itertools\n",
    "import os\n",
    "import matplotlib.pyplot as plt\n",
    "import matplotlib\n",
    "\n",
    "\n",
    "class DNNAMRClassifier(object):\n",
    "    \n",
    "    def __init__(self, X,Y, model_arch=[500]):\n",
    "        # rep. X\n",
    "        self.X=X\n",
    "        # encoding Y\n",
    "        self.Y=Y\n",
    "        self.C=len(set(Y))\n",
    "        encoder = LabelEncoder()\n",
    "        encoder.fit(Y)\n",
    "        self.encoded_Y = encoder.transform(Y)\n",
    "        self.onehot_y = np_utils.to_categorical(self.encoded_Y)\n",
    "        # model's arch\n",
    "        self.model_arch=model_arch\n",
    "    \n",
    "    def get_MLP_model(self):\n",
    "        # creating the model\n",
    "        model = Sequential()\n",
    "        for layer_idx, h_layer_size in enumerate(self.model_arch):\n",
    "            if layer_idx==0:\n",
    "                model.add(Dense(h_layer_size, input_dim=self.X.shape[1], activation='relu'))\n",
    "            else:\n",
    "                if h_layer_size < 1:\n",
    "                    model.add(Dropout(h_layer_size))\n",
    "                else:\n",
    "                    model.add(Dense(h_layer_size, activation='relu'))\n",
    "        model.add(Dense(self.C, activation='softmax'))        \n",
    "        # Compile model\n",
    "        model.compile(loss='categorical_crossentropy', optimizer='adam', metrics=['accuracy'])\n",
    "        return model\n",
    "    \n",
    "    def get_EMB_MLP_model(self):\n",
    "        # creating the model\n",
    "        model = Sequential()\n",
    "        embedding=np.load('../../datasets/processed_data/embedding/WV_16s.npz')['arr_0']\n",
    "        model.add(Dense(embedding.shape[1], input_dim=self.X.shape[1],  weights = [embedding, np.array([0]*1000)], trainable=False , activation='linear'))\n",
    "        for layer_idx, h_layer_size in enumerate(self.model_arch):\n",
    "            if h_layer_size < 1:\n",
    "                model.add(Dropout(h_layer_size))\n",
    "            else:\n",
    "                model.add(Dense(h_layer_size, activation='relu'))\n",
    "        model.add(Dense(self.C, activation='softmax'))        \n",
    "        # Compile model\n",
    "        model.compile(loss='categorical_crossentropy', optimizer='adam', metrics=['accuracy'])\n",
    "        self.model_arch=[1000]+self.model_arch\n",
    "        return model\n",
    "    \n",
    "    def get_pretrained_model(self, file_name, trainable):\n",
    "        pretrained_weights=FileUtility.load_obj(file_name)\n",
    "        \n",
    "        h_sizes=[float(x) for x in file_name.split('/')[-1].split('_')[3].split('-')]\n",
    "        model = Sequential()\n",
    "        for layer_idx, h_layer_size in enumerate(h_sizes):\n",
    "            if layer_idx==0:\n",
    "                model.add(Dense(int(h_layer_size), input_dim=self.X.shape[1], weights=pretrained_weights[0],  activation='relu', trainable=trainable))\n",
    "            else:\n",
    "                if h_layer_size < 1:\n",
    "                    model.add(Dropout(h_layer_size, weights=pretrained_weights[layer_idx], trainable=trainable))\n",
    "                else:\n",
    "                    model.add(Dense(int(h_layer_size), weights=pretrained_weights[layer_idx], activation='relu', trainable=trainable))\n",
    "        if self.model_arch:\n",
    "            for layer_idx, h_layer_size in enumerate(self.model_arch):\n",
    "                if h_layer_size < 1:\n",
    "                    model.add(Dropout(h_layer_size))\n",
    "                else:\n",
    "                    model.add(Dense(h_layer_size, activation='relu'))\n",
    "        model.add(Dense(self.C, activation='softmax'))\n",
    "        model.compile(loss='categorical_crossentropy', optimizer='adam', metrics=['accuracy'])\n",
    "        return model\n",
    "        \n",
    "    \n",
    "    def cross_validation(self, result_filename, gpu_dev='2', n_fold=5, epochs=50, batch_size=100, model_strct='mlp', pretrained_model=False, trainable=False):\n",
    "\n",
    "        os.environ[\"CUDA_VISIBLE_DEVICES\"] = gpu_dev\n",
    "        \n",
    "        skf = StratifiedKFold(n_splits=n_fold, shuffle=True)\n",
    "\n",
    "        p_micro=[]\n",
    "        p_macro=[]\n",
    "        r_micro=[]\n",
    "        r_macro=[]\n",
    "        f1_micro=[]\n",
    "        f1_macro=[]\n",
    "\n",
    "        for train_index, valid_index in skf.split(self.X, self.Y):\n",
    "            print ('\\n Evaluation on a new fold is now get started ..')\n",
    "            X_train=self.X[train_index,:]\n",
    "            y_train=self.onehot_y[train_index,:]\n",
    "            y_class_train=self.encoded_Y[train_index]\n",
    "            X_valid=self.X[valid_index,:]\n",
    "            y_valid=self.onehot_y[valid_index,:]\n",
    "            y_class_valid=self.encoded_Y[valid_index]\n",
    "            \n",
    "            if pretrained_model:\n",
    "                model=self.get_pretrained_model(model_strct, trainable)\n",
    "            else:\n",
    "                if model_strct=='mlp':\n",
    "                    model=self.get_MLP_model()\n",
    "                if model_strct=='embmlp':\n",
    "                    model=self.get_EMB_MLP_model()\n",
    "            \n",
    "            # fitting\n",
    "            history = model.fit(X_train, y_train, epochs=epochs, batch_size=batch_size,shuffle=True, validation_data=(X_valid, y_valid), verbose=0)\n",
    "            pred=model.predict_classes(X_valid)\n",
    "            # score-calculations\n",
    "            f1_micro.append(f1_score(pred, y_class_valid, average='micro'))\n",
    "            f1_macro.append(f1_score(pred, y_class_valid, average='macro'))\n",
    "            p_micro.append(precision_score(pred, y_class_valid, average='micro'))\n",
    "            p_macro.append(precision_score(pred, y_class_valid, average='macro'))\n",
    "            r_micro.append(recall_score(pred, y_class_valid, average='micro'))\n",
    "            r_macro.append(recall_score(pred, y_class_valid, average='macro'))\n",
    "\n",
    "        # mean values\n",
    "        f1mac=np.mean(f1_macro)\n",
    "        f1mic=np.mean(f1_micro)\n",
    "        prmac=np.mean(p_macro)\n",
    "        prmic=np.mean(p_micro)\n",
    "        remac=np.mean(r_macro)\n",
    "        remic=np.mean(r_micro)\n",
    "        # std values\n",
    "        sf1mac=np.std(f1_macro)\n",
    "        sf1mic=np.std(f1_micro)\n",
    "        sprmac=np.std(p_macro)\n",
    "        sprmic=np.std(p_micro)\n",
    "        sremac=np.std(r_macro)\n",
    "        sremic=np.std(r_micro)\n",
    "        # table\n",
    "        latex_line=' & '.join([str(np.round(x,2))+' $\\\\pm$ '+str(np.round(y,2)) for x,y in [[prmic, sprmic], [remic, sremic], [f1mic, sf1mic], [prmac, sprmac], [remac, sremac], [f1mac, sf1mac] ]])      \n",
    "        \n",
    "        print (latex_line)\n",
    "        \n",
    "        \n",
    "        \n",
    "        history_dict = history.history\n",
    "        loss_values = history_dict['loss']\n",
    "        val_loss_values = history_dict['val_loss']\n",
    "        epochs = range(1, len(loss_values) + 1)\n",
    "\n",
    "        if pretrained_model:\n",
    "            model_strct='pretrained'\n",
    "            #print (model.summary())\n",
    "        FileUtility.save_obj('_'.join([result_filename, model_strct,'-'.join([str(x) for x in self.model_arch]), str(np.round(f1mac,2))]), [latex_line, p_micro, r_micro, f1_micro, p_macro, r_macro, f1_macro, (loss_values, val_loss_values, epochs)])\n",
    "        \n",
    "        weights=[]\n",
    "        for x in model.layers:\n",
    "            weights.append(x.get_weights())\n",
    "        \n",
    "        FileUtility.save_obj('_'.join([result_filename, 'layers', model_strct,'-'.join([str(x) for x in self.model_arch]), str(np.round(f1mac,2))]), weights)\n",
    "        FileUtility.save_list('_'.join([result_filename, 'train_index', model_strct,'-'.join([str(x) for x in self.model_arch]), str(np.round(f1mac,2))]),train_index)\n",
    "        FileUtility.save_list('_'.join([result_filename, 'test_index', model_strct,'-'.join([str(x) for x in self.model_arch]), str(np.round(f1mac,2))]),valid_index)    \n",
    "\n",
    "    @staticmethod\n",
    "    def load_history(filename, fileout):\n",
    "        [latex_line, p_micro, r_micro, f1_micro, p_macro, r_macro, f1_macro, history]=FileUtility.load_obj(filename)\n",
    "        (loss_values, val_loss_values, epochs)=history\n",
    "        matplotlib.rcParams['mathtext.fontset'] = 'stix'\n",
    "        matplotlib.rcParams['font.family'] = 'STIXGeneral'\n",
    "        matplotlib.rcParams['mathtext.fontset'] = 'custom'\n",
    "        matplotlib.rcParams['mathtext.rm'] = 'Bitstream Vera Sans'\n",
    "        matplotlib.rcParams['mathtext.it'] = 'Bitstream Vera Sans:italic'\n",
    "        matplotlib.rcParams['mathtext.bf'] = 'Bitstream Vera Sans:bold'\n",
    "        matplotlib.rcParams[\"axes.edgecolor\"] = \"black\"\n",
    "        matplotlib.rcParams[\"axes.linewidth\"] = 0.6\n",
    "        plt.rc('text', usetex=True)\n",
    "        plt.plot(epochs, loss_values, 'ro', label='Loss for train set')\n",
    "        plt.plot(epochs, val_loss_values, 'b+', label='Loss for test set')\n",
    "        plt.xlabel('Epochs')\n",
    "        plt.ylabel('Loss')\n",
    "        plt.legend(loc=1, prop={'size': 8},ncol=1, edgecolor='black', facecolor='white', frameon=True)\n",
    "        plt.title('Loss with respect to the number of epochs for train and test sets')\n",
    "        plt.savefig(fileout+'.pdf')\n",
    "        plt.show()\n",
    "        \n",
    "        \n",
    "    @staticmethod\n",
    "    def make_activation_function(file_name, X, last_layer=None):\n",
    "        pretrained_weights=FileUtility.load_obj(file_name)\n",
    "        if last_layer:\n",
    "            h_sizes=[float(x) for x in file_name.split('/')[-1].split('_')[3].split('-')]+[last_layer]\n",
    "        else:\n",
    "            h_sizes=[float(x) for x in file_name.split('/')[-1].split('_')[3].split('-')]\n",
    "        model = Sequential()\n",
    "        for layer_idx, h_layer_size in enumerate(h_sizes):\n",
    "            if layer_idx==0:\n",
    "                model.add(Dense(int(h_layer_size), input_dim=X.shape[1], weights=pretrained_weights[0],  activation='relu'))\n",
    "            else:\n",
    "                if h_layer_size < 1:\n",
    "                    model.add(Dropout(h_layer_size, weights=pretrained_weights[layer_idx]))\n",
    "                else:\n",
    "                    if layer_idx == len(h_sizes)-1 and last_layer:\n",
    "                        model.add(Dense(int(h_layer_size), weights=pretrained_weights[layer_idx], activation='softmax'))\n",
    "                    else:\n",
    "                        model.add(Dense(int(h_layer_size), weights=pretrained_weights[layer_idx], activation='relu'))\n",
    "        activations = model.predict(X)\n",
    "        np.savetxt(file_name.replace(file_name.split('/')[-1].split('_')[0],'activationlayer'),activations)\n",
    "        return activations\n",
    "    \n",
    "    \n",
    "    @staticmethod\n",
    "    def result_visualization(filename):\n",
    "        [latex_line, p_micro, r_micro, f1_micro, p_macro, r_macro, f1_macro, (loss_values, val_loss_values, epochs)]=FileUtility.load_obj(filename)\n",
    "        print(latex_line)\n",
    "\n",
    "\n"
   ]
  },
  {
   "cell_type": "code",
   "execution_count": null,
   "metadata": {
    "collapsed": false
   },
   "outputs": [
    {
     "name": "stdout",
     "output_type": "stream",
     "text": [
      "\n",
      " Evaluation on a new fold is now get started ..\n",
      "128/128 [==============================] - 0s     \b\b\b\b\b\b\b\b\b\b\b\b\b\b\b\b\b\b\b\b\b\b\b\b\b\b\b\b\b\b\b\b\b\b\b\b\b\b\b\b\b\b\b\b\b\b\b\b\b\b\b\b\b\b\b\b\b\b\b\b\b\b\b\b\b\b\b\b\b\b\b\b\b\b\b\b\b\b\b\b\b\b\b\b\b\b\b\b\b\b\b\b\b\b\b\b\b\b\b\b\b\b\b\b\b\b\b\b\b\b\b\b\b\b\b\b\b\b\b\b\b\b\b\b\b\b\b\b\b\b\b\b\b\b\b\b\b\b\b\b\b\b\b\b\b\b\b\b\b\b\n",
      "\n",
      " Evaluation on a new fold is now get started ..\n"
     ]
    },
    {
     "name": "stderr",
     "output_type": "stream",
     "text": [
      "/mounts/Users/student/asgari/.local/lib/python3.4/site-packages/sklearn/metrics/classification.py:1137: UndefinedMetricWarning: F-score is ill-defined and being set to 0.0 in labels with no true samples.\n",
      "  'recall', 'true', average, warn_for)\n",
      "/mounts/Users/student/asgari/.local/lib/python3.4/site-packages/sklearn/metrics/classification.py:1137: UndefinedMetricWarning: Recall is ill-defined and being set to 0.0 in labels with no true samples.\n",
      "  'recall', 'true', average, warn_for)\n"
     ]
    }
   ],
   "source": [
    "for drug_idx in [0,1,2,3,4]:\n",
    "    drug_vect=['Ciprofloxacin', 'Tobramycin', 'Colistin', 'Ceftazidim', 'Meropenem']\n",
    "    drug=drug_vect[drug_idx]\n",
    "    X,Y,features, iso=ABRAccess.get_xy_prediction_mats(drug,mapping={'0': 0, '0.0': 0, '1': 1, '1.0': 1})\n",
    "    DNN=DNNAMRClassifier(X.toarray(),Y,model_arch=[1000,0.2,512])\n",
    "    DNN.cross_validation('../results/classification/dnn/classifier_'+drug, gpu_dev='2', n_fold=3, epochs=30, batch_size=3, model_strct='mlp')\n",
    "\n"
   ]
  },
  {
   "cell_type": "code",
   "execution_count": 9,
   "metadata": {
    "collapsed": false,
    "deletable": true,
    "editable": true
   },
   "outputs": [
    {
     "ename": "AttributeError",
     "evalue": "'DNNAMRClassifier' object has no attribute 'history'",
     "output_type": "error",
     "traceback": [
      "\u001b[0;31m---------------------------------------------------------------------------\u001b[0m",
      "\u001b[0;31mAttributeError\u001b[0m                            Traceback (most recent call last)",
      "\u001b[0;32m<ipython-input-9-4594c90c4c23>\u001b[0m in \u001b[0;36m<module>\u001b[0;34m()\u001b[0m\n\u001b[0;32m----> 1\u001b[0;31m \u001b[0mhistory\u001b[0m\u001b[0;34m=\u001b[0m\u001b[0mDNN\u001b[0m\u001b[0;34m.\u001b[0m\u001b[0mhistory\u001b[0m\u001b[0;34m\u001b[0m\u001b[0m\n\u001b[0m\u001b[1;32m      2\u001b[0m \u001b[0mhistory_dict\u001b[0m \u001b[0;34m=\u001b[0m \u001b[0mhistory\u001b[0m\u001b[0;34m.\u001b[0m\u001b[0mhistory\u001b[0m\u001b[0;34m\u001b[0m\u001b[0m\n\u001b[1;32m      3\u001b[0m \u001b[0mloss_values\u001b[0m \u001b[0;34m=\u001b[0m \u001b[0mhistory_dict\u001b[0m\u001b[0;34m[\u001b[0m\u001b[0;34m'loss'\u001b[0m\u001b[0;34m]\u001b[0m\u001b[0;34m\u001b[0m\u001b[0m\n\u001b[1;32m      4\u001b[0m \u001b[0mval_loss_values\u001b[0m \u001b[0;34m=\u001b[0m \u001b[0mhistory_dict\u001b[0m\u001b[0;34m[\u001b[0m\u001b[0;34m'val_loss'\u001b[0m\u001b[0;34m]\u001b[0m\u001b[0;34m\u001b[0m\u001b[0m\n\u001b[1;32m      5\u001b[0m \u001b[0mepochs\u001b[0m \u001b[0;34m=\u001b[0m \u001b[0mrange\u001b[0m\u001b[0;34m(\u001b[0m\u001b[0;36m1\u001b[0m\u001b[0;34m,\u001b[0m \u001b[0mlen\u001b[0m\u001b[0;34m(\u001b[0m\u001b[0mloss_values\u001b[0m\u001b[0;34m)\u001b[0m \u001b[0;34m+\u001b[0m \u001b[0;36m1\u001b[0m\u001b[0;34m)\u001b[0m\u001b[0;34m\u001b[0m\u001b[0m\n",
      "\u001b[0;31mAttributeError\u001b[0m: 'DNNAMRClassifier' object has no attribute 'history'"
     ]
    }
   ],
   "source": [
    "history=DNN.history\n",
    "history_dict = history.history\n",
    "loss_values = history_dict['loss']\n",
    "val_loss_values = history_dict['val_loss']\n",
    "epochs = range(1, len(loss_values) + 1)"
   ]
  },
  {
   "cell_type": "code",
   "execution_count": 219,
   "metadata": {
    "collapsed": false,
    "deletable": true,
    "editable": true
   },
   "outputs": [
    {
     "data": {
      "image/png": "[encoded data removed]",
      "text/plain": [
       "<matplotlib.figure.Figure at 0x7f7d47d9be48>"
      ]
     },
     "metadata": {},
     "output_type": "display_data"
    }
   ],
   "source": [
    "matplotlib.rcParams['mathtext.fontset'] = 'stix'\n",
    "matplotlib.rcParams['font.family'] = 'STIXGeneral'\n",
    "matplotlib.rcParams['mathtext.fontset'] = 'custom'\n",
    "matplotlib.rcParams['mathtext.rm'] = 'Bitstream Vera Sans'\n",
    "matplotlib.rcParams['mathtext.it'] = 'Bitstream Vera Sans:italic'\n",
    "matplotlib.rcParams['mathtext.bf'] = 'Bitstream Vera Sans:bold'\n",
    "matplotlib.rcParams[\"axes.edgecolor\"] = \"black\"\n",
    "matplotlib.rcParams[\"axes.linewidth\"] = 0.6\n",
    "plt.rc('text', usetex=True)\n",
    "plt.plot(epochs, loss_values, 'ro', label='Loss for train set')\n",
    "plt.plot(epochs, val_loss_values, 'b+', label='Loss for test set')\n",
    "plt.xlabel('Epochs')\n",
    "plt.ylabel('Loss')\n",
    "plt.legend(loc=1, prop={'size': 8},ncol=1, edgecolor='black', facecolor='white', frameon=True)\n",
    "plt.title('Loss with respect to the number of epochs for train and test sets')\n",
    "plt.show()\n",
    "        "
   ]
  },
  {
   "cell_type": "code",
   "execution_count": 220,
   "metadata": {
    "collapsed": false,
    "deletable": true,
    "editable": true
   },
   "outputs": [],
   "source": [
    "Y_hat=DNN.model.predict_on_batch(X[1:6,:])"
   ]
  },
  {
   "cell_type": "code",
   "execution_count": 221,
   "metadata": {
    "collapsed": false,
    "deletable": true,
    "editable": true
   },
   "outputs": [
    {
     "data": {
      "text/plain": [
       "array([[ 0.        ,  0.        ,  0.        , ...,  0.01805095,\n",
       "        -0.00303337,  0.00430073],\n",
       "       [ 1.        ,  0.        ,  0.        , ..., -0.01002263,\n",
       "         0.01075347, -0.01498816],\n",
       "       [ 0.        ,  0.        ,  0.        , ...,  0.01681682,\n",
       "        -0.01322764,  0.02109493],\n",
       "       [ 0.        ,  0.        ,  0.        , ...,  0.01847024,\n",
       "        -0.01287623,  0.02317673],\n",
       "       [ 0.        ,  0.        ,  1.        , ...,  0.01630178,\n",
       "        -0.00991178,  0.02462367]])"
      ]
     },
     "execution_count": 221,
     "metadata": {},
     "output_type": "execute_result"
    }
   ],
   "source": [
    "X[1:6,:]"
   ]
  },
  {
   "cell_type": "code",
   "execution_count": 222,
   "metadata": {
    "collapsed": false,
    "deletable": true,
    "editable": true
   },
   "outputs": [
    {
     "data": {
      "text/plain": [
       "0.0"
      ]
     },
     "execution_count": 222,
     "metadata": {},
     "output_type": "execute_result"
    }
   ],
   "source": [
    "np.max(Y_hat)"
   ]
  },
  {
   "cell_type": "code",
   "execution_count": 223,
   "metadata": {
    "collapsed": false,
    "deletable": true,
    "editable": true
   },
   "outputs": [
    {
     "data": {
      "text/plain": [
       "array([[ 0.,  0.,  0.,  0.,  0.],\n",
       "       [ 0.,  0.,  0.,  0.,  0.],\n",
       "       [ 0.,  0.,  0.,  0.,  0.],\n",
       "       [ 0.,  0.,  0.,  0.,  0.],\n",
       "       [ 0.,  0.,  0.,  0.,  0.]], dtype=float32)"
      ]
     },
     "execution_count": 223,
     "metadata": {},
     "output_type": "execute_result"
    }
   ],
   "source": [
    "Y_hat"
   ]
  },
  {
   "cell_type": "code",
   "execution_count": null,
   "metadata": {
    "collapsed": true,
    "deletable": true,
    "editable": true
   },
   "outputs": [],
   "source": []
  }
 ],
 "metadata": {
  "kernelspec": {
   "display_name": "Python 3",
   "language": "python",
   "name": "python3"
  },
  "language_info": {
   "codemirror_mode": {
    "name": "ipython",
    "version": 3
   },
   "file_extension": ".py",
   "mimetype": "text/x-python",
   "name": "python",
   "nbconvert_exporter": "python",
   "pygments_lexer": "ipython3",
   "version": "3.4.6"
  }
 },
 "nbformat": 4,
 "nbformat_minor": 2
}
