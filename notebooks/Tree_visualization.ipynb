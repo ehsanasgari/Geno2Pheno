{
 "cells": [
  {
   "cell_type": "code",
   "execution_count": 1,
   "metadata": {
    "collapsed": true
   },
   "outputs": [],
   "source": [
    "import random\n",
    "from ete3 import Tree, TreeStyle, NodeStyle, faces, AttrFace, CircleFace, TextFace, RectFace, random_color, ProfileFace\n",
    "import matplotlib.pyplot as plt\n",
    "import random\n",
    "import matplotlib.patches as mpatches\n",
    "\n",
    "\n",
    "def layout(node):\n",
    "    if node.is_leaf():\n",
    "        # Add node name to laef nodes\n",
    "        N = AttrFace(\"name\", fsize=14, fgcolor=\"black\")\n",
    "        faces.add_face_to_node(N, node, 0)\n",
    "    if \"weight\" in node.features:\n",
    "        # Creates a sphere face whose size is proportional to node's\n",
    "        # feature \"weight\"\n",
    "        C = CircleFace(radius=node.weight, color=\"RoyalBlue\", style=\"sphere\")\n",
    "        # Let's make the sphere transparent\n",
    "        C.opacity = 0.3\n",
    "        # And place as a float face over the tree\n",
    "        faces.add_face_to_node(C, node, 0, position=\"float\")\n",
    "\n",
    "def creatCircle(filename, nwk, colordic, title):\n",
    "\n",
    "    fg_color_map=['#e5bd89' , '#f8e076' , '#da4f38' , '#ffde3b' ,'#990f02' , '#fe7d68' ,'#66042d' , '#301131' ,'#281e5d' , '#042c36' , '#52b2c0' , '#74b62e' , '#32612d' ,'#522915' , '#2d1606' , '#7e7d9c' , '#f59bbf' , '#ffc30b' , '#fffada' , '#01381b' , '#e96210' , '#6c2d7e' , '#050100' , '#5d2c04' , '#6a6880']\n",
    "    bg_color_map=['#d5ba9c' , '#b79266' , '#9b7b55' , '#c97f80' , '#b75556' , '#ae4041' , '#fe664e' , '#cc4a34' , '#cf1d01' , '#ff9934' , '#e57100' , '#ff7f00' , '#d8d828' , '#ffff01' , '#ffff01' , '#355f3b' , '#4b6e50' , '#738f76' , '#aeadcd' , '#a4a3cd' , '#7b7a9a' , '#b28e98' , '#e5b6c6' , '#ffcada']\n",
    "    random.shuffle(bg_color_map)\n",
    "    random.shuffle(fg_color_map)\n",
    "    \n",
    "    plt.clf()\n",
    "    axis_font = {'size':'3'}\n",
    "    plt.rc('xtick', labelsize=0.1)\n",
    "    plt.rc('ytick', labelsize=0.1)\n",
    "    plt.rc({'font.size':0.1})\n",
    "    \n",
    "        \n",
    "    colors=dict()\n",
    "    leg=[]\n",
    "    for idx, value in enumerate(list(set(list(colordic.values())))):\n",
    "        if value=='unknown' or value=='other':\n",
    "            colors[value]='white'\n",
    "        elif idx>= len(bg_color_map):\n",
    "            colors[value]=gen_hex_colour_code()\n",
    "        else:\n",
    "            colors[value]=bg_color_map[idx]\n",
    "        leg.append(mpatches.Patch(color=colors[value], label=value))\n",
    "    \n",
    "    t = Tree(nwk)\n",
    "    # iterate over tree leaves only\n",
    "    for l in t.iter_leaves():\n",
    "        ns = NodeStyle()\n",
    "        ns[\"bgcolor\"] = colors[colordic[l.name]] if l.name in color_dict else 'white'\n",
    "        l.img_style = ns\n",
    "        F=TextFace(l.name)\n",
    "        F.ftype='Times'\n",
    "        l.add_features(profile = [random.random() for x in range(10)])\n",
    "        l.add_features(deviation = [0 for x in range(10)])\n",
    "        l.add_face(ProfileFace(max_v=1, min_v=0.0, center_v=0.5, width=200, height=40, style='heatmap', colorscheme=5), column=0, position=\"aligned\")\n",
    "\n",
    "\n",
    "\n",
    "    # Create an empty TreeStyle\n",
    "    ts = TreeStyle()\n",
    "\n",
    "    # Set our custom layout function\n",
    "    ts.layout_fn = layout\n",
    "\n",
    "    # Draw a tree\n",
    "    ts.mode = \"c\"\n",
    "\n",
    "    # We will add node names manually\n",
    "    ts.show_leaf_name = False\n",
    "    # Show branch data\n",
    "    ts.show_branch_length = True\n",
    "    ts.show_branch_support = True\n",
    "    ts.title.add_face(TextFace(title, fsize=20, ftype='Times'), column=15)\n",
    "    \n",
    "    for k , (value, col) in enumerate(colors.items()):\n",
    "        x=RectFace(8,8, 'black', col)\n",
    "        #x.opacity=0.5\n",
    "        ts.legend.add_face(x, column=8)\n",
    "        ts.legend.add_face(TextFace(' '+value+'   ', fsize=9,ftype='Times'), column=9)\n",
    "\n",
    "    t.render(filename+'.pdf',tree_style=ts,dpi=5000)"
   ]
  },
  {
   "cell_type": "code",
   "execution_count": null,
   "metadata": {
    "collapsed": true
   },
   "outputs": [],
   "source": [
    "color_dict={'unknown':'white'}\n",
    "creatCircle('test',\"(((((((((((SNPs##PA14-09520#mexI-816519-G-A-G-G:0.00,SNPs##PA14-03380-311443-C-A-T-T:0.00):0.00,SNPs##PA14-09520#mexI-816523-A-G-F-S:0.00):0.00,SNPs##PA14-09520#mexI-816524-A-C-F-V:0.00):315.59,(SNPs##intergenic-499696-C-CC-none-none:0.00,SNPs##PA14-03250-292373-G-GGTT-none-none:0.00):315.59):161.55,(((SNPs##PA14-23460#orfN-2040295-G-T-G-G:0.00,SNPs##PA14-03250-291650-T-G#C-none-none:0.00):0.00,SNPs##PA14-31110-2706487-C-CGTGC-none-none:0.00):0.00,SNPs##PA14-72210-6433137-G-GCCA-none-none:0.00):477.14):135.29,((((((SNPs##PA14-30900#trbJ-2683780-G-C#A-none-none:0.00,SNPs##PA14-03270-294747-A-ACCGGGTC-none-none:0.00):0.00,SNPs##PA14-30960#traG-2688715-T-A#C#G-none-none:0.00):0.00,SNPs##PA14-33360-2936680-T-C-L-L:0.00):0.00,SNPs##PA14-46800-4167928-T-TCGGACTGGGCCT-none-none:0.00):0.00,SNPs##PA14-60000-5343644-T-G#A-none-none:0.00):0.00,SNPs##intergenic-1569424-T-TGGCAGAGGGTAGGG-none-none:0.00):612.43):156.03,(((((((SNPs##PA14-18985-1639996-A-G-L-L:0.00,SNPs##PA14-12630-1085033-A-T#G-none-none:0.00):0.00,SNPs##PA14-33080-2897665-C-CCTCACGATC:0.00):0.00,SNPs##PA14-33360-2936371-G-A-G-S:0.00):0.00,SNPs##PA14-33360-2937175-G-GGCGGCGGTG-none-none:0.00):0.00,SNPs##PA14-60130-5356083-C-T-P-L:0.00):0.00,SNPs##intergenic-1735687-CGCGA-CCGCGA-none-none:0.00):0.00,SNPs##intergenic-2492454-G-T-none-none:0.00):768.46):46.46,(((((((SNPs##PA14-30970#bphR-2691734-A-C#T-none-none:0.00,SNPs##PA14-30970#bphR-2691731-G-A#C-none-none:0.00):0.00,SNPs##intergenic-3312141-G-GCACTGAGTCCG:0.00):319.41,SNPs##PA14-33360-2936920-T-G-S-A:319.41):67.42,((SNPs##intergenic-6363884-GAT-GCCAT-none-none:217.25,SNPs##PA14-33610-2971692-G-C#T-none-none:217.25):45.46,(SNPs##PA14-46800-4167735-G-T-V-F:0.00,SNPs##PA14-30850#trbI-2678444-C-T#A-none-none:0.00):262.71):124.12):108.56,((((((SNPs##PA14-28830-2489315-C-A#G-none-none:0.00,SNPs##PA14-28820-2487726-G-T#C-none-none:0.00):0.00,SNPs##PA14-30910#trbE-2683871-C-G-V-L:0.00):0.00,SNPs##PA14-31190-2712270-G-GT-none-none:0.00):0.00,SNPs##PA14-33360-2936176-G-A-A-T:0.00):0.00,SNPs##intergenic-2738241-A-G#C-none-none:0.00):0.00,SNPs##intergenic-4524397-C-CTGCGCCAGGC-none-none:0.00):495.39):146.68,((((((((SNPs##PA14-28820-2486552-C-T#G-none-none:0.00,SNPs##PA14-03380-311122-C-T#G-none-none:0.00):0.00,SNPs##PA14-30910#trbE-2685975-G-A#T-none-none:0.00):0.00,SNPs##PA14-30940#trbB-2687996-G-C-P-R:0.00):0.00,SNPs##PA14-31070-2701901-G-GTTCTCCAA-none-none:0.00):0.00,SNPs##PA14-33360-2936672-A-G#T-none-none:0.00):0.00,SNPs##PA14-46800-4167664-GC-GCTCGATGTTCGGC:0.00):0.00,SNPs##intergenic-3840947-A-AGCCCGAT:0.00):0.00,SNPs##intergenic-4413422-TAC-T-none-none:0.00):642.07):82.27,(((((((((((((SNPs##PA14-31110-2706553-CCT-CGGCCGTT:0.00,SNPs##PA14-12630-1083183-G-A#T-none-none:0.00):0.00,SNPs##PA14-31130-2707197-G-T#A-none-none:0.00):0.00,SNPs##PA14-59530-5296589-C-G-L-L:0.00):0.00,SNPs##PA14-59530-5296592-C-G-T-T:0.00):0.00,SNPs##PA14-59940-5339785-T-G-L-R:0.00):0.00,SNPs##intergenic-2705900-G-GTTTTCCCGC#GC-none-none:0.00):0.00,SNPs##intergenic-2713924-AAGA-AGA-none-none:0.00):0.00,SNPs##intergenic-290670-C-A-none-none:0.00):0.00,SNPs##intergenic-2927039-T-A-none-none:0.00):0.00,SNPs##intergenic-298367-A-G-none-none:0.00):0.00,SNPs##intergenic-309714-A-C#T-none-none:0.00):0.00,SNPs##intergenic-4124656:0.00):0.00,SNPs##intergenic-4402479-ACGGAT-AAATGGGC:0.00):724.33):90.58):65.23,(((((((((SNPs##intergenic-2456815-AGCCGCCCGTGGGCG:0.00,SNPs##PA14-03380-311583-C-T-T-M:0.00):178.55,SNPs##PA14-03380-311330-C-G-L-V:178.55):32.40,(((((SNPs##intergenic-290532-C-G-none-none:0.00,SNPs##PA14-30970#bphR-2691497-G-T#C-none-none:0.00):124.28,SNPs##PA14-03270-295100-C-T-L-F:124.28):26.29,((((((((SNPs##intergenic-1198709-C-G-none-none:0.00,SNPs##intergenic-1198697-A-T-none-none:0.00):0.00,SNPs##intergenic-1198722-A-T-none-none:0.00):0.00,SNPs##intergenic-1198730-C-T-none-none:0.00):0.00,SNPs##intergenic-1198736-G-C-none-none:0.00):0.00,SNPs##intergenic-2678197-C-G-none-none:0.00):0.00,SNPs##intergenic-290517-C-T-none-none:0.00):0.00,SNPs##intergenic-309640-G-A-none-none:0.00):0.00,SNPs##intergenic-309641-T-C-none-none:0.00):150.56):7.21,SNPs##PA14-03380-310426-G-A#T-none-none:157.77):14.94,(SNPs##PA14-31190-2711016-G-C-Q-E:148.10,SNPs##PA14-27220#ohr-2365269-C-CTGGCCGCCC-none-none:148.10):24.62):38.24):103.99,(((SNPs##PA14-30970#bphR-2691733-G-T-R-S:156.58,SNPs##PA14-09520#mexI-816635-C-T-E-K:156.58):38.52,SNPs##intergenic-2492518-G-C#A-none-none:195.10):8.91,(SNPs##intergenic-2677785-C-T-none-none:149.60,SNPs##PA14-31070-2703439-G-T-T-K:149.60):54.42):110.93):6.22,(((((((((((genePA####group-35611:0.00,genePA####group-35602:0.00):0.00,genePA####group-35612:0.00):0.00,genePA####group-35613:0.00):0.00,genePA####group-35614:0.00):0.00,genePA####group-35619:0.00):0.00,genePA####group-35621:0.00):0.00,genePA####group-35624:0.00):0.00,genePA####sigE:0.00):142.83,(((((((((((genePA####group-19113:0.00,genePA####group-19112:0.00):0.00,genePA####group-35599:0.00):0.00,genePA####group-35600:0.00):0.00,genePA####group-35601:0.00):0.00,genePA####group-35606:0.00):0.00,genePA####group-35607:0.00):0.00,genePA####group-35663:0.00):0.00,genePA####group-35664:0.00):0.00,genePA####group-35665:0.00):0.00,genePA####group-8474:0.00):0.00,genePA####tetR-2:0.00):142.83):30.28,genePA####group-40106:173.11):8.23,(((genePA####group-35680:64.06,genePA####group-19115:64.06):14.93,genePA####group-18973:78.99):88.62,(((((((((((((((((((((((((((((((((((((((genePA####group-35626:0.00,genePA####group-35608:0.00):0.00,genePA####group-35627:0.00):0.00,genePA####group-35628:0.00):0.00,genePA####group-35629:0.00):0.00,genePA####group-35630:0.00):0.00,genePA####group-35631:0.00):0.00,genePA####group-35632:0.00):0.00,genePA####group-35633:0.00):0.00,genePA####group-35634:0.00):0.00,genePA####group-35635:0.00):0.00,genePA####group-35636:0.00):0.00,genePA####group-35637:0.00):0.00,genePA####group-35638:0.00):0.00,genePA####group-35639:0.00):0.00,genePA####group-35640:0.00):0.00,genePA####group-35641:0.00):0.00,genePA####group-35642:0.00):0.00,genePA####group-35643:0.00):0.00,genePA####group-35644:0.00):0.00,genePA####group-35645:0.00):0.00,genePA####group-35646:0.00):0.00,genePA####group-35647:0.00):0.00,genePA####group-35648:0.00):0.00,genePA####group-35649:0.00):0.00,genePA####group-35650:0.00):0.00,genePA####group-35651:0.00):0.00,genePA####group-35652:0.00):0.00,genePA####group-35653:0.00):0.00,genePA####group-35654:0.00):0.00,genePA####group-35655:0.00):0.00,genePA####group-35656:0.00):0.00,genePA####group-35657:0.00):0.00,genePA####group-35658:0.00):0.00,genePA####group-35659:0.00):0.00,genePA####group-35660:0.00):0.00,genePA####group-35661:0.00):0.00,genePA####group-35662:0.00):0.00,genePA####group-8344:0.00):0.00,((((genePA####group-19073:0.00,genePA####group-19072:0.00):0.00,genePA####group-34823:0.00):0.00,genePA####group-34824:0.00):0.00,genePA####group-34825:0.00):0.00):167.61):13.74):139.83):126.53,SNPs##PA14-30850#trbI-2679046-G-C#T-none-none:447.70):30.84,(SNPs##PA14-59690-5312272-C-T-L-L:289.13,SNPs##PA14-33360-2936374-G-A-G-S:289.13):189.41):70.18,(((((((((genePA####group-22411:104.03,genePA####group-16942:104.03):38.89,genePA####group-87:142.92):9.01,(genePA####group-25674:0.00,genePA####group-25673:0.00):151.93):13.46,((genePA####group-5832:118.91,genePA####group-33815:118.91):12.94,(genePA####group-18943:0.00,genePA####group-18942:0.00):131.85):33.54):30.98,(genePA####group-586:126.87,genePA####group-14799:126.87):69.50):11.17,genePA####group-30052:207.54):55.77,((genePA####group-24336:83.19,genePA####group-10234:83.19):67.21,((genePA####group-32137:0.00,genePA####group-32136:0.00):61.16,genePA##PA14-02750##sutR-2:61.16):89.25):112.90):87.65,(((genePA####group-17599:0.00,genePA####group-17596:0.00):0.00,genePA####group-17600:0.00):202.95,(SNPs##intergenic-309662-C-G-none-none:0.00,SNPs##intergenic-309650-A-G-none-none:0.00):202.95):148.00):62.60,(SNPs##intergenic-342844-T-G#C-none-none:318.87,SNPs##intergenic-2708739-C-G#T-none-none:318.87):94.68):135.17):180.30,((SNPs##intergenic-2926934-C-T-none-none:173.53,SNPs##PA14-33360-2936012-A-C-D-A:173.53):179.58,SNPs##PA14-31070-2702883-G-GCCCGTTGGTGA-none-none:353.11):375.91):151.13):291.56,(((SNPs##intergenic-5307302-G-GTGTCTCTGG#GTCTCTGG-none-none:0.00,SNPs##PA0976.1-5251483-GA-GCCATTTGGACC:0.00):450.74,SNPs##PA14-28820-2487055-C-T-A-V:450.74):195.48,((((genePA####group-17110:0.00,genePA####group-17109:0.00):81.18,genePA####group-10106:81.18):92.56,SNPs##PA14-28840-2491526-A-G-K-K:173.74):50.19,(((((genePA####group-17113:0.00,genePA####group-17112:0.00):35.52,genePA####group-11930:35.52):33.48,genePA####group-14132:69.00):50.79,((genePA####group-17597:0.00,genePA####group-14373:0.00):0.00,genePA####group-17598:0.00):119.79):35.83,genePA####group-22848:155.61):68.31):422.29):525.49):909.70,((((geneexp##PA14-03390:66.87,geneexp##PA14-03380:66.87):93.25,(geneexp##PA14-03265:39.41,geneexp##PA14-03250:39.41):120.72):38.42,(geneexp##PA14-38180:97.54,geneexp##PA14-28840:97.54):101.00):39.13,((geneexp##PA14-28830:143.56,geneexp##PA14-28820:143.56):40.21,(geneexp##PA14-10120:43.50,geneexp##PA14-10090:43.50):140.27):53.91):1843.73);\",color_dict,'my title')\n"
   ]
  },
  {
   "cell_type": "code",
   "execution_count": null,
   "metadata": {
    "collapsed": true
   },
   "outputs": [],
   "source": []
  }
 ],
 "metadata": {
  "kernelspec": {
   "display_name": "Python 3",
   "language": "python",
   "name": "python3"
  },
  "language_info": {
   "codemirror_mode": {
    "name": "ipython",
    "version": 3
   },
   "file_extension": ".py",
   "mimetype": "text/x-python",
   "name": "python",
   "nbconvert_exporter": "python",
   "pygments_lexer": "ipython3",
   "version": "3.4.6"
  }
 },
 "nbformat": 4,
 "nbformat_minor": 2
}
