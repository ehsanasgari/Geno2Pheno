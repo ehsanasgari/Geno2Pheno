{
 "cells": [
  {
   "cell_type": "code",
   "execution_count": 200,
   "metadata": {},
   "outputs": [],
   "source": [
    "import sys"
   ]
  },
  {
   "cell_type": "code",
   "execution_count": 201,
   "metadata": {},
   "outputs": [],
   "source": [
    "sys.path.append('../')"
   ]
  },
  {
   "cell_type": "code",
   "execution_count": 207,
   "metadata": {},
   "outputs": [],
   "source": [
    "from utility.genotype_file_utility import GenotypeReader\n",
    "from utility.file_utility import FileUtility\n",
    "import numpy as np\n",
    "import pandas as pd\n",
    "from sklearn.preprocessing import MinMaxScaler,StandardScaler\n",
    "import matplotlib.pyplot as plt\n",
    "from scipy.stats import chi2_contingency\n"
   ]
  },
  {
   "cell_type": "code",
   "execution_count": 230,
   "metadata": {},
   "outputs": [],
   "source": [
    "\n",
    "def getIDXs(isolates,df):\n",
    "    isolates_all=df['Isolates'].values.tolist()\n",
    "    return [isolates_all.index(x) for x in isolates]\n",
    "\n",
    "def getIvalue(drug,delta=0.005):\n",
    "    scaler = MinMaxScaler()\n",
    "    df=pd.read_table('/mounts/data/proj/asgari/dissertation/git_repos/Geno2Pheno/data_config/before_march_2018/Final_MICs_16.06.16.txt')\n",
    "    isolates_all=df['Isolates'].values.tolist()\n",
    "    res=df[['Isolates','CIP MIC','TOB MIC','COL MIC','CAZ MIC','MEM MIC']]    \n",
    "    R_S=df[['Unnamed: 2','Unnamed: 4','Unnamed: 6','Unnamed: 8','Unnamed: 10']].as_matrix().tolist()\n",
    "    resistances_before=np.array([[float(str(x).replace('<=','').replace('≤','').replace('<=','').replace('≥','').replace('>=','')) for x in row] for row in res[['CIP MIC','TOB MIC','COL MIC','CAZ MIC','MEM MIC']].as_matrix()])\n",
    "    resistances_after=scaler.fit_transform(resistances_before)\n",
    "    isolates=[x[0] for idx, x in enumerate(list(df[['Isolates']].values))]\n",
    "    drugs=['CIP','TOB','COL','CAZ','MEM']\n",
    "    drugs_name=['Ciprofloxacin','Tobramycin','Colistin','Ceftazidim','Meropenem']\n",
    "    idx=drugs.index(drug)\n",
    "    \n",
    "    ###\n",
    "    I_isolates=df[df['Unnamed: '+str(idx*2+2)]=='I']['Isolates'].values.tolist()\n",
    "    I_idxs=getIDXs(I_isolates,df)\n",
    "    mean_I=np.mean(resistances_after[I_idxs,idx])\n",
    "    \n",
    "    \n",
    "    plt.hist(resistances_after[:,idx], bins='auto')  \n",
    "    plt.title(\"Histogram with 'auto' bins\")\n",
    "    plt.show()\n",
    "    ###\n",
    "    \n",
    "    dfmiss=pd.read_table('miscl_all.txt')\n",
    "    dfmiss=dfmiss[dfmiss['mode']=='expr']\n",
    "    dfmiss=dfmiss[dfmiss['drug']==drugs_name[idx]]\n",
    "    \n",
    "    miss_classified=list(dfmiss['sample'].values)\n",
    "    miss_idxs=getIDXs(miss_classified,df)\n",
    "    miss_idxs_close = np.where(np.abs(resistances_after[miss_idxs,idx]-mean_I)<delta)[0].tolist()\n",
    "    miss_idxs_close = [miss_idxs[i] for i in miss_idxs_close]\n",
    "    miss_idxs_not_close = list(set(miss_idxs) - set(miss_idxs_close))\n",
    "    \n",
    "    all_idxs=list(range(len(isolates_all)))\n",
    "    all_idxs=list(set(all_idxs) - set(I_idxs))\n",
    "    corr_idxs=list(set(all_idxs) - set(miss_idxs))\n",
    "\n",
    "    corr_idxs_close = np.where(np.abs(resistances_after[corr_idxs,idx]-mean_I)<delta)[0].tolist()\n",
    "    corr_idxs_close = [corr_idxs[i] for i in corr_idxs_close]\n",
    "    corr_idxs_not_close = list(set(corr_idxs) - set(corr_idxs_close))\n",
    "    \n",
    "    contig=[[len(miss_idxs_not_close),len(miss_idxs_close)],[len(corr_idxs_not_close),len(corr_idxs_close)]]\n",
    "    contig=np.array(contig)\n",
    "    c, p, dof, expected = chi2_contingency(contig)\n",
    "    return c,p\n"
   ]
  },
  {
   "cell_type": "code",
   "execution_count": 231,
   "metadata": {},
   "outputs": [
    {
     "name": "stderr",
     "output_type": "stream",
     "text": [
      "/usr/lib/python3.6/site-packages/ipykernel_launcher.py:11: FutureWarning: Method .as_matrix will be removed in a future version. Use .values instead.\n",
      "  # This is added back by InteractiveShellApp.init_path()\n",
      "/usr/lib/python3.6/site-packages/ipykernel_launcher.py:12: FutureWarning: Method .as_matrix will be removed in a future version. Use .values instead.\n",
      "  if sys.path[0] == '':\n"
     ]
    },
    {
     "data": {
      "image/png": "[encoded data removed]",
      "text/plain": [
       "<matplotlib.figure.Figure at 0x7f4918a3ddd8>"
      ]
     },
     "metadata": {},
     "output_type": "display_data"
    },
    {
     "data": {
      "text/plain": [
       "(0.002370861913542781, 0.9611651519769914)"
      ]
     },
     "execution_count": 231,
     "metadata": {},
     "output_type": "execute_result"
    }
   ],
   "source": [
    "getIvalue('CIP',delta=0.005)"
   ]
  },
  {
   "cell_type": "code",
   "execution_count": null,
   "metadata": {},
   "outputs": [],
   "source": []
  }
 ],
 "metadata": {
  "kernelspec": {
   "display_name": "Python 3",
   "language": "python",
   "name": "python3"
  },
  "language_info": {
   "codemirror_mode": {
    "name": "ipython",
    "version": 3
   },
   "file_extension": ".py",
   "mimetype": "text/x-python",
   "name": "python",
   "nbconvert_exporter": "python",
   "pygments_lexer": "ipython3",
   "version": "3.6.5"
  }
 },
 "nbformat": 4,
 "nbformat_minor": 2
}
