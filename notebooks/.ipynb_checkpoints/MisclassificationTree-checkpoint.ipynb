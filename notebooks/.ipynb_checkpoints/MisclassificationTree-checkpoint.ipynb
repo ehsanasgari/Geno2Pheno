{
 "cells": [
  {
   "cell_type": "code",
   "execution_count": 1,
   "metadata": {
    "collapsed": true
   },
   "outputs": [],
   "source": [
    "import sys\n",
    "\n",
    "sys.path.append('../')\n",
    "from data_access.data_access_utility import ABRDataAccess\n",
    "from classifier.classical_classifiers import SVM, RFClassifier, KNN\n",
    "from utility.file_utility import FileUtility\n",
    "\n",
    "\n"
   ]
  },
  {
   "cell_type": "code",
   "execution_count": 40,
   "metadata": {
    "collapsed": false
   },
   "outputs": [
    {
     "name": "stdout",
     "output_type": "stream",
     "text": [
      "Data access created..\n",
      "@@@../../amr_results/res_before_5_3_2017/intermediate_reps/snps_nonsyn_trimmed_feature_vect.npz\n",
      "Tobramycin  features  snps_nonsyn_trimmed  Random Forest \n"
     ]
    },
    {
     "name": "stderr",
     "output_type": "stream",
     "text": [
      "/mounts/Users/student/asgari/.local/lib/python3.4/site-packages/sklearn/base.py:311: UserWarning: Trying to unpickle estimator DecisionTreeClassifier from version 0.19.0 when using version 0.19.1. This might lead to breaking code or invalid results. Use at your own risk.\n",
      "  UserWarning)\n",
      "/mounts/Users/student/asgari/.local/lib/python3.4/site-packages/sklearn/base.py:311: UserWarning: Trying to unpickle estimator RandomForestClassifier from version 0.19.0 when using version 0.19.1. This might lead to breaking code or invalid results. Use at your own risk.\n",
      "  UserWarning)\n",
      "/mounts/Users/student/asgari/.local/lib/python3.4/site-packages/sklearn/base.py:311: UserWarning: Trying to unpickle estimator LinearSVC from version 0.19.0 when using version 0.19.1. This might lead to breaking code or invalid results. Use at your own risk.\n",
      "  UserWarning)\n",
      "/mounts/Users/student/asgari/.local/lib/python3.4/site-packages/sklearn/base.py:311: UserWarning: Trying to unpickle estimator KNeighborsClassifier from version 0.19.0 when using version 0.19.1. This might lead to breaking code or invalid results. Use at your own risk.\n",
      "  UserWarning)\n"
     ]
    },
    {
     "name": "stdout",
     "output_type": "stream",
     "text": [
      "Ceftazidim  features  snps_nonsyn_trimmed  Random Forest \n",
      "Ciprofloxacin  features  snps_nonsyn_trimmed  Random Forest \n",
      "Meropenem  features  snps_nonsyn_trimmed  Random Forest \n",
      "Colistin  features  snps_nonsyn_trimmed  Random Forest \n",
      "Data access created..\n",
      "@@@../../amr_results/res_before_5_3_2017/intermediate_reps/gpa_trimmed_feature_vect.npz\n",
      "@@@../../amr_results/res_before_5_3_2017/intermediate_reps/gpa_roary_feature_vect.npz\n",
      "Tobramycin  features  gpa_trimmed and gpa_roary  Random Forest \n",
      "Ceftazidim  features  gpa_trimmed and gpa_roary  Random Forest \n",
      "Ciprofloxacin  features  gpa_trimmed and gpa_roary  Random Forest \n",
      "Meropenem  features  gpa_trimmed and gpa_roary  Random Forest \n",
      "Colistin  features  gpa_trimmed and gpa_roary  Random Forest \n",
      "Data access created..\n",
      "@@@../../amr_results/res_before_5_3_2017/intermediate_reps/genexp_feature_vect.npz\n",
      "Tobramycin  features  genexp  Random Forest \n",
      "Ceftazidim  features  genexp  Random Forest \n",
      "Ciprofloxacin  features  genexp  Random Forest \n",
      "Meropenem  features  genexp  Random Forest \n",
      "Colistin  features  genexp  Random Forest \n"
     ]
    }
   ],
   "source": [
    "cv='standard'\n",
    "vector_dict=dict()\n",
    "coloring_dict=dict()\n",
    "feature_lists=[['snps_nonsyn_trimmed'],['gpa_trimmed','gpa_roary'],['genexp']]\n",
    "for feature_list in feature_lists:\n",
    "    ABRAccess=ABRDataAccess('../../amr_results/res_before_5_3_2017/intermediate_reps/',feature_list)\n",
    "    vector_dict['_'.join(feature_list)]=dict()\n",
    "    coloring_dict['_'.join(feature_list)]=dict()\n",
    "    for drug in ABRAccess.BasicDataObj.drugs:\n",
    "        vector_dict['_'.join(feature_list)][drug]=dict()\n",
    "        coloring_dict['_'.join(feature_list)][drug]=dict()\n",
    "        print(drug , ' features ',' and '.join(feature_list), ' Random Forest ')\n",
    "        X_rep, Y, features, final_isolates = ABRAccess.get_xy_prediction_mats(drug, mapping={'0':0,'0.0':0,'1':1,'1.0':1})\n",
    "        name=drug+'_'.join(feature_list)\n",
    "        # for coloring\n",
    "        true_label_dict={iso:Y[idx] for idx, iso in enumerate(final_isolates)}\n",
    "        coloring_dict['_'.join(feature_list)][drug]=true_label_dict\n",
    "        isolate_index={iso:idx for idx, iso in enumerate(final_isolates)}\n",
    "        [_, _, _,_,_, _,  (pred_RF, Y1,_)]=FileUtility.load_obj('../../amr_results/5_3_2017/classifications_standard/'+name+'_RF.pickle')\n",
    "\n",
    "        [_, _, _, _,_, _, (pred_SVM,Y2,_)]=FileUtility.load_obj('../../amr_results/5_3_2017/classifications_standard/'+name+'_SVM.pickle')\n",
    "\n",
    "        [_, _, _, _,_, _, (pred_KNN,Y3,_)]=FileUtility.load_obj('../../amr_results/5_3_2017/classifications_standard/'+name+'_KNN.pickle')\n",
    "        # vector\n",
    "        vector_dict['_'.join(feature_list)][drug]={isolate:[-1 if true_label_dict[isolate]==pred_RF[isolate_index[isolate]] else 1,-1 if true_label_dict[isolate]==pred_SVM[isolate_index[isolate]] else 1 , -1 if true_label_dict[isolate]==pred_KNN[isolate_index[isolate]] else 1] for isolate in  final_isolates}"
   ]
  },
  {
   "cell_type": "code",
   "execution_count": 41,
   "metadata": {
    "collapsed": false
   },
   "outputs": [],
   "source": [
    "FileUtility.save_obj('misclassification',[vector_dict,coloring_dict])"
   ]
  },
  {
   "cell_type": "markdown",
   "metadata": {},
   "source": [
    "# Create Ensembles"
   ]
  },
  {
   "cell_type": "code",
   "execution_count": 66,
   "metadata": {
    "collapsed": false
   },
   "outputs": [
    {
     "ename": "SyntaxError",
     "evalue": "invalid syntax (<ipython-input-66-cf8dc2499c23>, line 19)",
     "output_type": "error",
     "traceback": [
      "\u001b[0;36m  File \u001b[0;32m\"<ipython-input-66-cf8dc2499c23>\"\u001b[0;36m, line \u001b[0;32m19\u001b[0m\n\u001b[0;31m    ensamble_res['_'.join(feature_list)][drug]=([1 if pred_RF[idx]+pred_SVM[idx]+pred_KNN[idx]>1 else 0  for idx, y enumerate(Y1)],Y)\u001b[0m\n\u001b[0m                                                                                                                            ^\u001b[0m\n\u001b[0;31mSyntaxError\u001b[0m\u001b[0;31m:\u001b[0m invalid syntax\n"
     ]
    }
   ],
   "source": [
    "cv='standard'\n",
    "ensamble_res=dict()\n",
    "feature_lists=[['snps_nonsyn_trimmed'],['gpa_trimmed','gpa_roary'],['genexp'],['snps_nonsyn_trimmed','gpa_trimmed','gpa_roary'],['genexp','gpa_trimmed','gpa_roary'],['genexp','snps_nonsyn_trimmed'],['snps_nonsyn_trimmed','gpa_trimmed','gpa_roary','genexp']]\n",
    "for feature_list in feature_lists:\n",
    "    ABRAccess=ABRDataAccess('../../amr_results/res_before_5_3_2017/intermediate_reps/',feature_list)\n",
    "    ensamble_res['_'.join(feature_list)]=dict()\n",
    "    for drug in ABRAccess.BasicDataObj.drugs:\n",
    "        ensamble_res['_'.join(feature_list)][drug]=[]\n",
    "        print(drug , ' features ',' and '.join(feature_list), ' Random Forest ')\n",
    "        X_rep, Y, features, final_isolates = ABRAccess.get_xy_prediction_mats(drug, mapping={'0':0,'0.0':0,'1':1,'1.0':1})\n",
    "        name=drug+'_'.join(feature_list)\n",
    "        # for coloring\n",
    "        [_, _, _,_,_, _,  (pred_RF, Y1,_)]=FileUtility.load_obj('../../amr_results/5_3_2017/classifications_standard/'+name+'_RF.pickle')\n",
    "\n",
    "        [_, _, _, _,_, _, (pred_SVM,Y2,_)]=FileUtility.load_obj('../../amr_results/5_3_2017/classifications_standard/'+name+'_SVM.pickle')\n",
    "\n",
    "        [_, _, _, _,_, _, (pred_KNN,Y3,_)]=FileUtility.load_obj('../../amr_results/5_3_2017/classifications_standard/'+name+'_KNN.pickle')\n",
    "         \n",
    "        ensamble_res['_'.join(feature_list)][drug]=([1 if pred_RF[idx]+pred_SVM[idx]+pred_KNN[idx]>1 else 0  for idx, y enumerate(Y1)],Y)"
   ]
  },
  {
   "cell_type": "code",
   "execution_count": 51,
   "metadata": {
    "collapsed": false
   },
   "outputs": [],
   "source": [
    "from sklearn.metrics import precision_recall_fscore_support, accuracy_score\n",
    "import pandas as pd\n",
    "\n",
    "def TNR(y_true, y_pred):\n",
    "    '''\n",
    "    :param y_true:\n",
    "    :param y_pred:\n",
    "    :return: True-negative rate\n",
    "    '''\n",
    "    TP = 0\n",
    "    FP = 0\n",
    "    TN = 0\n",
    "    FN = 0\n",
    "    for i in range(len(y_pred)):\n",
    "        if (y_true[i] == y_pred[i]) and y_pred[i] == 1:\n",
    "            TP += 1\n",
    "        if y_pred[i] == 1 and (y_true[i] != y_pred[i]):\n",
    "            FP += 1\n",
    "        if y_true[i] == y_pred[i] and y_pred[i] == 0:\n",
    "            TN += 1\n",
    "        if y_pred[i] == 0 and y_true[i] != y_pred[i]:\n",
    "            FN += 1\n",
    "    return float(TN / (TN + FP))"
   ]
  },
  {
   "cell_type": "code",
   "execution_count": 62,
   "metadata": {
    "collapsed": false
   },
   "outputs": [
    {
     "name": "stderr",
     "output_type": "stream",
     "text": [
      "/mounts/Users/student/asgari/.local/lib/python3.4/site-packages/sklearn/metrics/classification.py:1045: UserWarning: Note that pos_label (set to 0) is ignored when average != 'binary' (got None). You may use labels=[pos_label] to specify a single positive class.\n",
      "  % (pos_label, average), UserWarning)\n"
     ]
    }
   ],
   "source": [
    "table = {'classifier': [], 'drug': [], 'feature':[],'f1_macro':[],'f1_micro':[],'precision_micro':[],'precision_macro':[],'recall_micro':[],'recall_macro':[],'accuracy':[],'tnr':[],'scores_p_0':[],'scores_r_0':[],'scores_f_1_0':[],'scores_p_1':[],'scores_r_1':[],'scores_f_1_1':[]}\n",
    "for feature in list(ensamble_res.keys()):\n",
    "        for drug in list(ensamble_res[feature].keys()):\n",
    "            y_pred, y_true=ensamble_res[feature][drug]\n",
    "            p_mic,r_mic,f_mic,s=precision_recall_fscore_support(y_true, y_pred, average='micro')\n",
    "            p_mac,r_mac,f_mac,s=precision_recall_fscore_support(y_true, y_pred, average='macro')\n",
    "            p_1,r_1,f_1,s=precision_recall_fscore_support(y_true, y_pred, pos_label=1)\n",
    "            p_0,r_0,f_0,s=precision_recall_fscore_support(y_true, y_pred, pos_label=0)\n",
    "            tnr=TNR(y_true, y_pred)\n",
    "            acc=accuracy_score(y_true, y_pred)\n",
    "            table['classifier'].append('Ensemble RF, KNN, SVM')\n",
    "            table['drug'].append(drug)\n",
    "            table['feature'].append(feature)\n",
    "            table['f1_micro'].append(f_mic)\n",
    "            table['f1_macro'].append(f_mac)\n",
    "            table['precision_micro'].append(p_mic)\n",
    "            table['precision_macro'].append(p_mac)\n",
    "            table['recall_micro'].append(r_mic)\n",
    "            table['recall_macro'].append(r_mac)\n",
    "            table['accuracy'].append(acc)\n",
    "            table['tnr'].append(tnr)\n",
    "            table['scores_p_0'].append(p_0)\n",
    "            table['scores_r_0'].append(r_0)\n",
    "            table['scores_p_1'].append(p_1)\n",
    "            table['scores_r_1'].append(r_1)\n",
    "            table['scores_f_1_0'].append(f_0)\n",
    "            table['scores_f_1_1'].append(f_1)\n"
   ]
  },
  {
   "cell_type": "code",
   "execution_count": 63,
   "metadata": {
    "collapsed": false
   },
   "outputs": [],
   "source": [
    "df=pd.DataFrame(data=table,columns=['drug', 'feature','classifier','f1_macro','scores_r_0','f1_micro','accuracy','tnr','precision_micro','precision_macro','recall_micro','recall_macro','scores_p_0','scores_r_0','scores_f_1_0','scores_p_1','scores_r_1','scores_f_1_1'])"
   ]
  },
  {
   "cell_type": "code",
   "execution_count": 64,
   "metadata": {
    "collapsed": false
   },
   "outputs": [],
   "source": [
    "writer = pd.ExcelWriter('ensemble.xlsx')\n",
    "df.to_excel(writer,'block')\n",
    "writer.save()"
   ]
  },
  {
   "cell_type": "code",
   "execution_count": null,
   "metadata": {
    "collapsed": true
   },
   "outputs": [],
   "source": []
  }
 ],
 "metadata": {
  "kernelspec": {
   "display_name": "Python 3",
   "language": "python",
   "name": "python3"
  },
  "language_info": {
   "codemirror_mode": {
    "name": "ipython",
    "version": 3
   },
   "file_extension": ".py",
   "mimetype": "text/x-python",
   "name": "python",
   "nbconvert_exporter": "python",
   "pygments_lexer": "ipython3",
   "version": "3.4.6"
  }
 },
 "nbformat": 4,
 "nbformat_minor": 2
}
