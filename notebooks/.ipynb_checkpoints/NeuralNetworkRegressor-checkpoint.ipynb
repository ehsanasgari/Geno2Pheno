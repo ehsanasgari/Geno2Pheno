{
 "cells": [
  {
   "cell_type": "code",
   "execution_count": 1,
   "metadata": {
    "collapsed": true,
    "deletable": true,
    "editable": true
   },
   "outputs": [],
   "source": [
    "import sys\n",
    "sys.path.append('../')\n",
    "from data_access.data_access_utility import ABRDataAccess\n",
    "from classifier.classical_classifiers import SVM, RFClassifier, KNN"
   ]
  },
  {
   "cell_type": "code",
   "execution_count": 125,
   "metadata": {
    "collapsed": false,
    "deletable": true,
    "editable": true
   },
   "outputs": [
    {
     "name": "stdout",
     "output_type": "stream",
     "text": [
      "Data access created..\n",
      "@@@/mounts/data/proj/asgari/dissertation/datasets/deepbio/pseudomonas/data_v3/snps_nonsyn_trimmed_feature_vect.npz\n",
      "@@@/mounts/data/proj/asgari/dissertation/datasets/deepbio/pseudomonas/data_v3/phylogenetic_feature_vect.npz\n",
      "@@@/mounts/data/proj/asgari/dissertation/datasets/deepbio/pseudomonas/data_v3/continous_mic_vals_feature_vect.npz\n"
     ]
    }
   ],
   "source": [
    "feature_list=['snps_nonsyn_trimmed','phylogenetic','continous_mic_vals']\n",
    "ABRAccess=ABRDataAccess('/mounts/data/proj/asgari/dissertation/datasets/deepbio/pseudomonas/data_v3/',feature_list)\n",
    "X,Y,features=ABRAccess.get_xy_multidrug_prediction_mats()\n",
    "temp=X[:,5::].toarray()\n",
    "Y=X[:,0:5].toarray()\n",
    "X=temp\n",
    "labels_list=features[0:5]\n",
    "features=features[5::]"
   ]
  },
  {
   "cell_type": "code",
   "execution_count": 129,
   "metadata": {
    "collapsed": false,
    "deletable": true,
    "editable": true
   },
   "outputs": [],
   "source": [
    "\n",
    "import sys\n",
    "sys.path.append('../')\n",
    "\n",
    "import numpy\n",
    "import pandas\n",
    "from keras.models import Sequential\n",
    "from keras.layers import Dense, Dropout, Activation\n",
    "from keras.layers import Convolution2D, MaxPooling2D, Flatten, Dense\n",
    "from keras.layers import Conv1D, GlobalMaxPooling1D\n",
    "from keras.wrappers.scikit_learn import KerasClassifier\n",
    "from keras.utils import np_utils\n",
    "from sklearn.model_selection import cross_val_score\n",
    "from sklearn.model_selection import KFold\n",
    "from sklearn.preprocessing import LabelEncoder\n",
    "from sklearn.pipeline import Pipeline\n",
    "from utility.file_utility import FileUtility\n",
    "import numpy as np\n",
    "from sklearn.model_selection import StratifiedKFold\n",
    "from sklearn.metrics import f1_score, precision_score, recall_score\n",
    "from gensim.models.wrappers import FastText\n",
    "import itertools\n",
    "import os\n",
    "import matplotlib.pyplot as plt\n",
    "import matplotlib\n",
    "\n",
    "\n",
    "class DNNAMR(object):\n",
    "    \n",
    "    def __init__(self, X,Y, model_arch=[500]):\n",
    "        # rep. X\n",
    "        self.X=X\n",
    "        # encoding Y\n",
    "        self.C=Y.shape[1]\n",
    "        self.Y=Y\n",
    "        # model's arch\n",
    "        self.model_arch=model_arch\n",
    "    \n",
    "    def get_MLP_model(self):\n",
    "        # creating the model\n",
    "        model = Sequential()\n",
    "        for layer_idx, h_layer_size in enumerate(self.model_arch):\n",
    "            if layer_idx==0:\n",
    "                model.add(Dense(h_layer_size, input_dim=self.X.shape[1], activation='relu'))\n",
    "            else:\n",
    "                if h_layer_size < 1:\n",
    "                    model.add(Dropout(h_layer_size))\n",
    "                else:\n",
    "                    model.add(Dense(h_layer_size, activation='relu'))\n",
    "        model.add(Dense(self.C))        \n",
    "        # Compile model\n",
    "        model.compile(loss='mean_squared_error', optimizer='adam', metrics=['mae'])\n",
    "        return model\n",
    "    \n",
    "    \n",
    "    def cross_validation(self, result_filename, gpu_dev='3', n_fold=5, epochs=100, batch_size=5, model_strct='mlp', pretrained_model=False, trainable=False):\n",
    "\n",
    "        os.environ[\"CUDA_VISIBLE_DEVICES\"] = gpu_dev\n",
    "        \n",
    "        skf = KFold(n_splits=n_fold, shuffle=True)\n",
    "        \n",
    "        for train_index, valid_index in skf.split(self.X, self.Y):\n",
    "            print ('\\n Evaluation on a new fold is now get started ..')\n",
    "            X_train=self.X[train_index,:]\n",
    "            y_train=self.Y[train_index,:]\n",
    "            X_valid=self.X[valid_index,:]\n",
    "            y_valid=self.Y[valid_index,:]\n",
    "            \n",
    "            if pretrained_model:\n",
    "                model=self.get_pretrained_model(model_strct, trainable)\n",
    "            else:\n",
    "                if model_strct=='mlp':\n",
    "                    model=self.get_MLP_model()\n",
    "                if model_strct=='embmlp':\n",
    "                    model=self.get_EMB_MLP_model()\n",
    "            \n",
    "            # fitting\n",
    "            history = model.fit(X_train, y_train, epochs=epochs, batch_size=batch_size,shuffle=True, validation_data=(X_valid, y_valid), verbose=0)\n",
    "            \n",
    "        self.history=history\n",
    "        self.model=model\n",
    "        \n",
    "        \n",
    "        history_dict = history.history\n",
    "        loss_values = history_dict['loss']\n",
    "        val_loss_values = history_dict['val_loss']\n",
    "        epochs = range(1, len(loss_values) + 1)\n",
    "\n",
    "        if pretrained_model:\n",
    "            model_strct='pretrained'\n",
    "            #print (model.summary())\n",
    "        \n",
    "        weights=[]\n",
    "        for x in model.layers:\n",
    "            weights.append(x.get_weights())\n",
    "        \n",
    "        FileUtility.save_obj('_'.join([result_filename, 'layers', model_strct,'-'.join([str(x) for x in self.model_arch])]), (weights,(loss_values, val_loss_values, epochs)))\n",
    "\n",
    "    @staticmethod\n",
    "    def load_history(filename, fileout):\n",
    "        [latex_line, p_micro, r_micro, f1_micro, p_macro, r_macro, f1_macro, history]=FileUtility.load_obj(filename)\n",
    "        (loss_values, val_loss_values, epochs)=history\n",
    "        matplotlib.rcParams['mathtext.fontset'] = 'stix'\n",
    "        matplotlib.rcParams['font.family'] = 'STIXGeneral'\n",
    "        matplotlib.rcParams['mathtext.fontset'] = 'custom'\n",
    "        matplotlib.rcParams['mathtext.rm'] = 'Bitstream Vera Sans'\n",
    "        matplotlib.rcParams['mathtext.it'] = 'Bitstream Vera Sans:italic'\n",
    "        matplotlib.rcParams['mathtext.bf'] = 'Bitstream Vera Sans:bold'\n",
    "        matplotlib.rcParams[\"axes.edgecolor\"] = \"black\"\n",
    "        matplotlib.rcParams[\"axes.linewidth\"] = 0.6\n",
    "        plt.rc('text', usetex=True)\n",
    "        plt.plot(epochs, loss_values, 'ro', label='Loss for train set')\n",
    "        plt.plot(epochs, val_loss_values, 'b+', label='Loss for test set')\n",
    "        plt.xlabel('Epochs')\n",
    "        plt.ylabel('Loss')\n",
    "        plt.legend(loc=1, prop={'size': 8},ncol=1, edgecolor='black', facecolor='white', frameon=True)\n",
    "        plt.title('Loss with respect to the number of epochs for train and test sets')\n",
    "        plt.savefig(fileout+'.pdf')\n",
    "        plt.show()\n",
    "        \n",
    "        \n",
    "    @staticmethod\n",
    "    def make_activation_function(file_name, X, last_layer=None):\n",
    "        pretrained_weights=FileUtility.load_obj(file_name)\n",
    "        if last_layer:\n",
    "            h_sizes=[float(x) for x in file_name.split('/')[-1].split('_')[3].split('-')]+[last_layer]\n",
    "        else:\n",
    "            h_sizes=[float(x) for x in file_name.split('/')[-1].split('_')[3].split('-')]\n",
    "        model = Sequential()\n",
    "        for layer_idx, h_layer_size in enumerate(h_sizes):\n",
    "            if layer_idx==0:\n",
    "                model.add(Dense(int(h_layer_size), input_dim=X.shape[1], weights=pretrained_weights[0],  activation='relu'))\n",
    "            else:\n",
    "                if h_layer_size < 1:\n",
    "                    model.add(Dropout(h_layer_size, weights=pretrained_weights[layer_idx]))\n",
    "                else:\n",
    "                    if layer_idx == len(h_sizes)-1 and last_layer:\n",
    "                        model.add(Dense(int(h_layer_size), weights=pretrained_weights[layer_idx], activation='sigmoid'))\n",
    "                    else:\n",
    "                        model.add(Dense(int(h_layer_size), weights=pretrained_weights[layer_idx], activation='relu'))\n",
    "        activations = model.predict(X)\n",
    "        np.savetxt(file_name.replace(file_name.split('/')[-1].split('_')[0],'activationlayer'),activations)\n",
    "        return activations"
   ]
  },
  {
   "cell_type": "code",
   "execution_count": 146,
   "metadata": {
    "collapsed": true,
    "deletable": true,
    "editable": true
   },
   "outputs": [],
   "source": [
    "DNN=DNNAMR(X,Y,model_arch=[1000,0.2,500,0.2])"
   ]
  },
  {
   "cell_type": "code",
   "execution_count": 147,
   "metadata": {
    "collapsed": false,
    "deletable": true,
    "editable": true
   },
   "outputs": [
    {
     "name": "stdout",
     "output_type": "stream",
     "text": [
      "\n",
      " Evaluation on a new fold is now get started ..\n",
      "\n",
      " Evaluation on a new fold is now get started ..\n",
      "\n",
      " Evaluation on a new fold is now get started ..\n"
     ]
    }
   ],
   "source": [
    "DNN.cross_validation('../results/classification/dnn/', gpu_dev='3', n_fold=3, epochs=30, batch_size=5, model_strct='mlp')"
   ]
  },
  {
   "cell_type": "code",
   "execution_count": 148,
   "metadata": {
    "collapsed": true,
    "deletable": true,
    "editable": true
   },
   "outputs": [],
   "source": [
    "history=DNN.history\n",
    "history_dict = history.history\n",
    "loss_values = history_dict['loss']\n",
    "val_loss_values = history_dict['val_loss']\n",
    "epochs = range(1, len(loss_values) + 1)"
   ]
  },
  {
   "cell_type": "code",
   "execution_count": 149,
   "metadata": {
    "collapsed": false,
    "deletable": true,
    "editable": true
   },
   "outputs": [
    {
     "data": {
      "image/png": "[encoded data removed]",
      "text/plain": [
       "<matplotlib.figure.Figure at 0x7f812433cb38>"
      ]
     },
     "metadata": {},
     "output_type": "display_data"
    }
   ],
   "source": [
    "matplotlib.rcParams['mathtext.fontset'] = 'stix'\n",
    "matplotlib.rcParams['font.family'] = 'STIXGeneral'\n",
    "matplotlib.rcParams['mathtext.fontset'] = 'custom'\n",
    "matplotlib.rcParams['mathtext.rm'] = 'Bitstream Vera Sans'\n",
    "matplotlib.rcParams['mathtext.it'] = 'Bitstream Vera Sans:italic'\n",
    "matplotlib.rcParams['mathtext.bf'] = 'Bitstream Vera Sans:bold'\n",
    "matplotlib.rcParams[\"axes.edgecolor\"] = \"black\"\n",
    "matplotlib.rcParams[\"axes.linewidth\"] = 0.6\n",
    "plt.rc('text', usetex=True)\n",
    "plt.plot(epochs, loss_values, 'ro', label='Loss for train set')\n",
    "plt.plot(epochs, val_loss_values, 'b+', label='Loss for test set')\n",
    "plt.xlabel('Epochs')\n",
    "plt.ylabel('Loss')\n",
    "plt.legend(loc=1, prop={'size': 8},ncol=1, edgecolor='black', facecolor='white', frameon=True)\n",
    "plt.title('Loss with respect to the number of epochs for train and test sets')\n",
    "plt.show()\n",
    "        "
   ]
  },
  {
   "cell_type": "code",
   "execution_count": 150,
   "metadata": {
    "collapsed": false,
    "deletable": true,
    "editable": true
   },
   "outputs": [],
   "source": [
    "Y_hat=DNN.model.predict_on_batch(X)"
   ]
  },
  {
   "cell_type": "code",
   "execution_count": 151,
   "metadata": {
    "collapsed": false,
    "deletable": true,
    "editable": true
   },
   "outputs": [
    {
     "data": {
      "text/plain": [
       "array([[ 0.01538462,  0.03113173,  0.00392157,  0.49993896,  0.06227106],\n",
       "       [ 0.00757021,  0.01550482,  0.49803922,  0.01550482,  0.003663  ],\n",
       "       [ 0.0017094 ,  0.00378464,  0.01176471,  0.49993896,  0.01538462],\n",
       "       ..., \n",
       "       [ 0.00757021,  0.00378464,  0.02745098,  0.00378464,  0.01538462],\n",
       "       [ 0.12478632,  0.12489318,  0.02745098,  0.49993896,  0.4998779 ],\n",
       "       [ 0.12478632,  0.24990844,  0.02745098,  0.49993896,  0.4998779 ]])"
      ]
     },
     "execution_count": 151,
     "metadata": {},
     "output_type": "execute_result"
    }
   ],
   "source": [
    "Y"
   ]
  },
  {
   "cell_type": "code",
   "execution_count": 153,
   "metadata": {
    "collapsed": false,
    "deletable": true,
    "editable": true
   },
   "outputs": [
    {
     "data": {
      "text/plain": [
       "array([[ 0.,  0.,  0.,  0.,  0.],\n",
       "       [ 0.,  0.,  0.,  0.,  0.],\n",
       "       [ 0.,  0.,  0.,  0.,  0.],\n",
       "       ..., \n",
       "       [ 0.,  0.,  0.,  0.,  0.],\n",
       "       [ 0.,  0.,  0.,  0.,  0.],\n",
       "       [ 0.,  0.,  0.,  0.,  0.]], dtype=float32)"
      ]
     },
     "execution_count": 153,
     "metadata": {},
     "output_type": "execute_result"
    }
   ],
   "source": [
    "Y_hat"
   ]
  },
  {
   "cell_type": "code",
   "execution_count": null,
   "metadata": {
    "collapsed": true,
    "deletable": true,
    "editable": true
   },
   "outputs": [],
   "source": []
  }
 ],
 "metadata": {
  "kernelspec": {
   "display_name": "Python 3",
   "language": "python",
   "name": "python3"
  },
  "language_info": {
   "codemirror_mode": {
    "name": "ipython",
    "version": 3
   },
   "file_extension": ".py",
   "mimetype": "text/x-python",
   "name": "python",
   "nbconvert_exporter": "python",
   "pygments_lexer": "ipython3",
   "version": "3.4.6"
  }
 },
 "nbformat": 4,
 "nbformat_minor": 2
}
