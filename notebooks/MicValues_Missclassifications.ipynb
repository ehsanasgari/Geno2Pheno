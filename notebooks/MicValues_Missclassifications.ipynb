{
 "cells": [
  {
   "cell_type": "code",
   "execution_count": 247,
   "metadata": {},
   "outputs": [],
   "source": [
    "import sys\n",
    "sys.path.append('../')\n",
    "from utility.genotype_file_utility import GenotypeReader\n",
    "from utility.file_utility import FileUtility\n",
    "import numpy as np\n",
    "import pandas as pd\n",
    "from sklearn.preprocessing import MinMaxScaler,StandardScaler\n",
    "import matplotlib.pyplot as plt\n",
    "from scipy.stats import chi2_contingency\n",
    "import tqdm"
   ]
  },
  {
   "cell_type": "code",
   "execution_count": 248,
   "metadata": {},
   "outputs": [],
   "source": [
    "\n",
    "def getIDXs(isolates,df):\n",
    "    isolates_all=df['Isolates'].values.tolist()\n",
    "    return [isolates_all.index(x) for x in isolates]\n",
    "\n",
    "def getIvalue(drug,delta=0.005):\n",
    "    scaler = MinMaxScaler()\n",
    "    df=pd.read_table('/mounts/data/proj/asgari/dissertation/git_repos/Geno2Pheno/data_config/before_march_2018/Final_MICs_16.06.16.txt')\n",
    "    isolates_all=df['Isolates'].values.tolist()\n",
    "    res=df[['Isolates','CIP MIC','TOB MIC','COL MIC','CAZ MIC','MEM MIC']]    \n",
    "    R_S=df[['Unnamed: 2','Unnamed: 4','Unnamed: 6','Unnamed: 8','Unnamed: 10']].as_matrix().tolist()\n",
    "    resistances_before=np.array([[float(str(x).replace('<=','').replace('≤','').replace('<=','').replace('≥','').replace('>=','')) for x in row] for row in res[['CIP MIC','TOB MIC','COL MIC','CAZ MIC','MEM MIC']].as_matrix()])\n",
    "    resistances_after=scaler.fit_transform(resistances_before)\n",
    "    isolates=[x[0] for idx, x in enumerate(list(df[['Isolates']].values))]\n",
    "    drugs=['CIP','TOB','COL','CAZ','MEM']\n",
    "    drugs_name=['Ciprofloxacin','Tobramycin','Colistin','Ceftazidim','Meropenem']\n",
    "    idx=drugs.index(drug)\n",
    "    \n",
    "    ###\n",
    "    I_isolates=df[df['Unnamed: '+str(idx*2+2)]=='I']['Isolates'].values.tolist()\n",
    "    I_idxs=getIDXs(I_isolates,df)\n",
    "    mean_I=np.mean(resistances_after[I_idxs,idx])\n",
    "    \n",
    "    \n",
    "    #plt.hist(resistances_after[:,idx], bins='auto')  \n",
    "    #plt.title(\"Histogram with 'auto' bins\")\n",
    "    #plt.show()\n",
    "    ###\n",
    "    \n",
    "    dfmiss=pd.read_table('miscl_all.txt')\n",
    "    dfmiss=dfmiss[dfmiss['mode']=='expr']\n",
    "    dfmiss=dfmiss[dfmiss['drug']==drugs_name[idx]]\n",
    "    \n",
    "    miss_classified=list(dfmiss['sample'].values)\n",
    "    miss_idxs=getIDXs(miss_classified,df)\n",
    "    miss_idxs_close = np.where(np.abs(resistances_after[miss_idxs,idx]-mean_I)<delta)[0].tolist()\n",
    "    miss_idxs_close = [miss_idxs[i] for i in miss_idxs_close]\n",
    "    miss_idxs_not_close = list(set(miss_idxs) - set(miss_idxs_close))\n",
    "    \n",
    "    all_idxs=list(range(len(isolates_all)))\n",
    "    all_idxs=list(set(all_idxs) - set(I_idxs))\n",
    "    corr_idxs=list(set(all_idxs) - set(miss_idxs))\n",
    "\n",
    "    corr_idxs_close = np.where(np.abs(resistances_after[corr_idxs,idx]-mean_I)<delta)[0].tolist()\n",
    "    corr_idxs_close = [corr_idxs[i] for i in corr_idxs_close]\n",
    "    corr_idxs_not_close = list(set(corr_idxs) - set(corr_idxs_close))\n",
    "    \n",
    "    contig=[[len(corr_idxs_not_close),len(corr_idxs_close)],[len(miss_idxs_not_close),len(miss_idxs_close)]]\n",
    "    contig=np.array(contig)\n",
    "    c, p, dof, expected = chi2_contingency(contig)\n",
    "    return p, contig\n"
   ]
  },
  {
   "cell_type": "code",
   "execution_count": 261,
   "metadata": {},
   "outputs": [],
   "source": [
    "\n",
    "def find_the_best_thr(drug):\n",
    "    p=1\n",
    "    t=0\n",
    "    final_table=[]\n",
    "    for i in tqdm.tqdm(np.arange(0.001,0.999,0.001)):\n",
    "        try:\n",
    "            p_c,tab=getIvalue(drug,delta=i)\n",
    "            if p_c<p:\n",
    "                p=p_c\n",
    "                t=i\n",
    "                final_table=tab\n",
    "        except:\n",
    "            a=1\n",
    "    return (p,t,final_table) "
   ]
  },
  {
   "cell_type": "code",
   "execution_count": 262,
   "metadata": {},
   "outputs": [
    {
     "name": "stderr",
     "output_type": "stream",
     "text": [
      "  0%|          | 0/998 [00:00<?, ?it/s]/usr/lib/python3.6/site-packages/ipykernel_launcher.py:11: FutureWarning: Method .as_matrix will be removed in a future version. Use .values instead.\n",
      "  # This is added back by InteractiveShellApp.init_path()\n",
      "/usr/lib/python3.6/site-packages/ipykernel_launcher.py:12: FutureWarning: Method .as_matrix will be removed in a future version. Use .values instead.\n",
      "  if sys.path[0] == '':\n",
      "100%|██████████| 998/998 [00:15<00:00, 66.41it/s]\n",
      "100%|██████████| 998/998 [00:14<00:00, 68.06it/s]\n",
      "100%|██████████| 998/998 [00:15<00:00, 65.06it/s]\n",
      "100%|██████████| 998/998 [00:15<00:00, 64.13it/s]\n"
     ]
    }
   ],
   "source": [
    "results=dict()\n",
    "for drug in ['CIP','TOB','CAZ','MEM']:\n",
    "    results[drug]=find_the_best_thr(drug)"
   ]
  },
  {
   "cell_type": "code",
   "execution_count": 263,
   "metadata": {},
   "outputs": [
    {
     "data": {
      "text/plain": [
       "{'CAZ': (6.146024371639494e-08, 0.001, array([[488,   0],\n",
       "         [ 61,   5]])), 'CIP': (0.012710574366163874, 0.055, array([[213, 306],\n",
       "         [ 17,  52]])), 'MEM': (0.0009139829929751118,\n",
       "  0.001,\n",
       "  array([[551,   0],\n",
       "         [ 51,   2]])), 'TOB': (0.295721148607811, 0.006, array([[434, 148],\n",
       "         [ 27,  14]]))}"
      ]
     },
     "execution_count": 263,
     "metadata": {},
     "output_type": "execute_result"
    }
   ],
   "source": [
    "results"
   ]
  },
  {
   "cell_type": "code",
   "execution_count": 253,
   "metadata": {},
   "outputs": [
    {
     "data": {
      "text/plain": [
       "array([[488,   0],\n",
       "       [ 61,   5]])"
      ]
     },
     "execution_count": 253,
     "metadata": {},
     "output_type": "execute_result"
    }
   ],
   "source": [
    "final_table"
   ]
  },
  {
   "cell_type": "code",
   "execution_count": null,
   "metadata": {},
   "outputs": [],
   "source": []
  }
 ],
 "metadata": {
  "kernelspec": {
   "display_name": "Python 3",
   "language": "python",
   "name": "python3"
  },
  "language_info": {
   "codemirror_mode": {
    "name": "ipython",
    "version": 3
   },
   "file_extension": ".py",
   "mimetype": "text/x-python",
   "name": "python",
   "nbconvert_exporter": "python",
   "pygments_lexer": "ipython3",
   "version": "3.6.5"
  }
 },
 "nbformat": 4,
 "nbformat_minor": 2
}
