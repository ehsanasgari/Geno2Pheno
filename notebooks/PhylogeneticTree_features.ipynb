{
 "cells": [
  {
   "cell_type": "code",
   "execution_count": 1,
   "metadata": {},
   "outputs": [],
   "source": [
    "import sys\n",
    "sys.path.append('../')\n",
    "from data_access.data_access_utility import ABRDataAccess\n",
    "from Bio import Phylo\n",
    "import networkx as nx\n",
    "import numpy as np\n",
    "from isolate_relation_analysis import IsolatesRelations\n",
    "import itertools\n",
    "import codecs\n",
    "from multiprocessing import Pool\n",
    "import tqdm\n",
    "from utility.file_utility import FileUtility\n",
    "from utility.featurizer import TextFeature\n",
    "\n",
    "class PhyloChi2(object):\n",
    "    \n",
    "    saving_path='/mounts/data/proj/asgari/dissertation/datasets/deepbio/pseudomonas/data_v3/feature_selection/'\n",
    "        \n",
    "    def __init__(self, nwk_file=\"../data_config/tree.nwk\"):\n",
    "        '''\n",
    "            PhyloChi2\n",
    "        '''\n",
    "        # data reading\n",
    "        self.tree = Phylo.read(nwk_file, \"newick\")\n",
    "        self.ISR=IsolatesRelations()\n",
    "        feature_list=['snps_nonsyn_trimmed']\n",
    "        ABRAccess=ABRDataAccess('/mounts/data/proj/asgari/dissertation/datasets/deepbio/pseudomonas/data_v3/',feature_list)\n",
    "        self.X,self.Y,self.features,self.isolates=ABRAccess.get_xy_multidrug_prediction_mats()\n",
    "        self.drugs=ABRAccess.BasicDataObj.drugs\n",
    "        # extract_edges\n",
    "        self.extract_all_edges()\n",
    "\n",
    "    def generate_parallel_gainloss_data_for_drug(self, drug_idx, num_p):\n",
    "        '''\n",
    "           for  drug_idx using num_p\n",
    "           generates the data for chi2 in self.gainloss_corpus and self.gainloss_labels\n",
    "        '''\n",
    "        triples=[]\n",
    "        for A,B in PCh2.all_edges:\n",
    "            triples.append((A,B,drug_idx))\n",
    "\n",
    "        pool = Pool(processes=num_p)\n",
    "        \n",
    "        # prepare dictionary\n",
    "        gains_losses_corpus=[]\n",
    "        for g_l_c in tqdm.tqdm(pool.imap_unordered(self.get_corpus_labels, triples, chunksize=1),\n",
    "            total=len(triples)):\n",
    "            gains_losses_corpus+=g_l_c\n",
    "        \n",
    "        lines=[' '.join(l[1::]) for l in gains_losses_corpus]\n",
    "        labels=[l[0] for l in gains_losses_corpus]\n",
    "        TF=TextFeature(lines)\n",
    "        FileUtility.save_sparse_csr(PhyloChi2.saving_path+'_'.join([self.drugs[drug_idx],'gainlosses','X']),TF.tf_vec)\n",
    "        FileUtility.save_list(PhyloChi2.saving_path+'_'.join([self.drugs[drug_idx],'gainlosses','features']),TF.feature_names)\n",
    "        FileUtility.save_list(PhyloChi2.saving_path+'_'.join([self.drugs[drug_idx],'gainlosses','lables']),labels)\n",
    "\n",
    "        \n",
    "    def extract_all_edges(self):\n",
    "        '''\n",
    "            extract all edges\n",
    "        '''\n",
    "        terminals=self.tree.get_terminals()\n",
    "        all_edges=list()\n",
    "        for t in terminals:\n",
    "            all_edges.append(PhyloChi2.get_path_edges(self.tree.get_path(t)))\n",
    "        # check if the edge is meaningful (not having unknown differences)\n",
    "        self.all_edges=[(A,B) for A,B in list(itertools.chain(*all_edges)) if len([x for x in B if x in self.isolates])>0 and len([x for x in A if x in self.isolates])>0 and (not [x for x in A if x in self.isolates]==[x for x in B if x in self.isolates])]\n",
    "\n",
    "    @staticmethod\n",
    "    def get_path_edges(node_seq):\n",
    "        '''\n",
    "            from node sequence to edges\n",
    "        '''\n",
    "        edges=list()\n",
    "        for first, second in zip(node_seq, node_seq[1:]):\n",
    "            edges.append(([x.name for x in first.get_terminals()],[x.name for x in second.get_terminals()]))\n",
    "        return edges\n",
    "    \n",
    "    def get_rep_set_of_nodes(self, A):\n",
    "        '''\n",
    "            get representations of nodes\n",
    "        '''\n",
    "        idxs=[self.isolates.index(x) for x in A if x in self.isolates]\n",
    "        res=[]\n",
    "        for arr in self.X[idxs,:].toarray():\n",
    "            if  len(res)==0:\n",
    "                res=arr\n",
    "            else:\n",
    "                res=np.multiply(res, arr)\n",
    "        return res        \n",
    "        \n",
    "    def get_corpus_labels(self, ABDrug_triple):\n",
    "        '''\n",
    "            for a single edge betweeb A and B and for drug drug_idx it produces the gaines and losses and phenotype change\n",
    "        '''\n",
    "        gains_losses_corpus=[]\n",
    "        A,B,drug_idx=ABDrug_triple\n",
    "        A=[iso for iso in set(A) if iso in self.isolates]\n",
    "        B=[iso for iso in set(B) if iso in self.isolates]\n",
    "        x_parent=self.get_rep_set_of_nodes(A)\n",
    "        x_self=self.get_rep_set_of_nodes(B)\n",
    "        x_siblings=self.get_rep_set_of_nodes(list(set(A)-set(B)))\n",
    "        gain=['gain_'+self.features[idx] for idx in list(np.where((x_self-x_siblings)>0)[0])]\n",
    "        loss=['loss_'+self.features[idx] for idx in list(np.where((x_self-x_siblings)<0)[0])] \n",
    "        # extract labels\n",
    "        sibling_labels=list(set([self.Y[self.isolates.index(iso)][drug_idx] for iso in set(A)-set(B)]))\n",
    "        self_labels=list(set([self.Y[self.isolates.index(iso)][drug_idx] for iso in B]))\n",
    "        sibling_labels.sort()\n",
    "        self_labels.sort()\n",
    "        label='=>'.join([''.join(sibling_labels),''.join(self_labels)])\n",
    "        temp=[]\n",
    "        if len(gain)>0:\n",
    "            temp+=gain\n",
    "        if len(loss)>0:\n",
    "            temp+=loss\n",
    "        if len(temp)>0:\n",
    "            gains_losses_corpus.append([label]+temp)\n",
    "        return gains_losses_corpus\n",
    "\n",
    "\n",
    "\n",
    "\n",
    "        \n",
    "    "
   ]
  },
  {
   "cell_type": "code",
   "execution_count": 3,
   "metadata": {},
   "outputs": [
    {
     "name": "stdout",
     "output_type": "stream",
     "text": [
      "Data access created..\n",
      "@@@/mounts/data/proj/asgari/dissertation/datasets/deepbio/pseudomonas/data_v3/snps_nonsyn_trimmed_feature_vect.npz\n"
     ]
    }
   ],
   "source": [
    "PCh2=PhyloChi2()"
   ]
  },
  {
   "cell_type": "code",
   "execution_count": null,
   "metadata": {},
   "outputs": [],
   "source": [
    "for i in range(0,5):\n",
    "    PCh2.generate_parallel_gainloss_data_for_drug(i,20)"
   ]
  },
  {
   "cell_type": "markdown",
   "metadata": {},
   "source": [
    "## Faster pipeline"
   ]
  },
  {
   "cell_type": "code",
   "execution_count": 4,
   "metadata": {},
   "outputs": [],
   "source": [
    "global self\n",
    "PCh2=PhyloChi2()\n",
    "\n",
    "self=PCh2\n",
    "self.saving_path='/mounts/data/proj/asgari/dissertation/datasets/deepbio/pseudomonas/data_v3/feature_selection/'"
   ]
  },
  {
   "cell_type": "code",
   "execution_count": 37,
   "metadata": {},
   "outputs": [],
   "source": [
    "def get_gains_losses(ABDrug_triple):\n",
    "    global self\n",
    "    gains_losses_corpus=[]\n",
    "    A,B,drug_idx=ABDrug_triple\n",
    "    key_val=hashlib.md5('@'.join(['_'.join(A),'_'.join(B)]).encode('utf-8'))\n",
    "    A=[iso for iso in set(A) if iso in self.isolates]\n",
    "    B=[iso for iso in set(B) if iso in self.isolates]\n",
    "    x_parent=self.get_rep_set_of_nodes(A)\n",
    "    x_self=self.get_rep_set_of_nodes(B)\n",
    "    x_siblings=self.get_rep_set_of_nodes(list(set(A)-set(B)))\n",
    "    gain=['gain_'+self.features[idx] for idx in list(np.where((x_self-x_parent)>0)[0])]\n",
    "    loss=['loss_'+self.features[idx] for idx in list(np.where((x_self-x_siblings)<0)[0])] \n",
    "    # extract labels\n",
    "    sibling_labels=list(set([self.Y[self.isolates.index(iso)][drug_idx] for iso in set(A)-set(B)]))\n",
    "    self_labels=list(set([self.Y[self.isolates.index(iso)][drug_idx] for iso in B]))\n",
    "    sibling_labels.sort()\n",
    "    self_labels.sort()\n",
    "    label='=>'.join([''.join(sibling_labels),''.join(self_labels)])\n",
    "    temp=[]\n",
    "    if len(gain)>0:\n",
    "        temp+=gain\n",
    "    if len(loss)>0:\n",
    "        temp+=loss\n",
    "    if len(temp)>0:\n",
    "        gains_losses_corpus.append([label]+temp)\n",
    "    return gains_losses_corpus\n",
    "\n",
    "## collect data for all drugs\n",
    "for drug_idx in range(0,5):\n",
    "    triples=[]\n",
    "    for A,B in self.all_edges:\n",
    "        triples.append((A,B,drug_idx))\n",
    "    gains_losses_corpus=[]\n",
    "    pool = Pool(processes=10)\n",
    "    for g_l_c in tqdm.tqdm(pool.imap_unordered(get_gains_losses, triples, chunksize=1),\n",
    "        total=len(triples)):\n",
    "        gains_losses_corpus+=g_l_c\n",
    "    lines=[' '.join(l[1::]) for l in gains_losses_corpus]\n",
    "    labels=[l[0] for l in gains_losses_corpus]\n",
    "    TF=TextFeature(lines)\n",
    "    FileUtility.save_sparse_csr(self.saving_path+'_'.join([self.drugs[drug_idx],'gainlosses','X']),TF.tf_vec)\n",
    "    FileUtility.save_list(self.saving_path+'_'.join([self.drugs[drug_idx],'gainlosses','features']),TF.feature_names)\n",
    "    FileUtility.save_list(self.saving_path+'_'.join([self.drugs[drug_idx],'gainlosses','lables']),labels)\n",
    "\n",
    "\n"
   ]
  },
  {
   "cell_type": "code",
   "execution_count": 30,
   "metadata": {},
   "outputs": [
    {
     "data": {
      "text/plain": [
       "7557"
      ]
     },
     "execution_count": 30,
     "metadata": {},
     "output_type": "execute_result"
    }
   ],
   "source": [
    "len(PCh2.all_edges)"
   ]
  },
  {
   "cell_type": "markdown",
   "metadata": {
    "collapsed": true
   },
   "source": [
    "## Feature extraction"
   ]
  },
  {
   "cell_type": "code",
   "execution_count": 14,
   "metadata": {
    "collapsed": true
   },
   "outputs": [],
   "source": [
    "from chi2analysis.chi2analysis import Chi2Analysis\n",
    "from scipy.sparse import csr_matrix\n",
    "drug_idx=0"
   ]
  },
  {
   "cell_type": "code",
   "execution_count": 35,
   "metadata": {},
   "outputs": [
    {
     "name": "stdout",
     "output_type": "stream",
     "text": [
      "Ciprofloxacin\n",
      "Tobramycin\n",
      "Colistin\n",
      "Ceftazidim\n",
      "Meropenem\n"
     ]
    }
   ],
   "source": [
    "for drug_idx in range(0,5):\n",
    "    print(self.drugs[drug_idx])\n",
    "    X=FileUtility.load_sparse_csr(self.saving_path+'_'.join([self.drugs[drug_idx],'gainlosses','X.npz']))\n",
    "    features=FileUtility.load_list(self.saving_path+'_'.join([self.drugs[drug_idx],'gainlosses','features']))\n",
    "    labels=FileUtility.load_list(self.saving_path+'_'.join([self.drugs[drug_idx],'gainlosses','lables']))\n",
    "    label_map={'S=>R':1,'S=>I':0,'S=>IR':1,'I=>R':0,'IS=>R':1}\n",
    "    #label_map={'S=>R':2,'S=>I':1,'S=>IR':2,'I=>R':2,'IR=>I':1,'IR=>R':2,'IS=>R':2,'IS=>I':1,'RS=>I':1,'RS=>R':2,'IRS=>I':1,'IRS=>R':2}\n",
    "    #label_map={'S=>R':2,'S=>I':1,'S=>IR':2,'I=>R':2,'IS=>R':2}\n",
    "    row_values=[label_map[x] if x in label_map else 0 for x in labels]\n",
    "    two_idxs=[idx for idx,x in enumerate(row_values) if x==2]\n",
    "    chi2_label=[1 if x>0 else 0 for x in row_values]\n",
    "    X=X.toarray()\n",
    "    X[two_idxs,:]=X[two_idxs,:]*2\n",
    "    X=csr_matrix(X)\n",
    "    CHI2=Chi2Analysis(X,chi2_label,feature_names=features)\n",
    "    res=CHI2.extract_features_fdr('../results/feature_selection/phylochi2/'+self.drugs[drug_idx]+'.txt',N=100000)"
   ]
  },
  {
   "cell_type": "code",
   "execution_count": 34,
   "metadata": {},
   "outputs": [
    {
     "data": {
      "text/plain": [
       "array([0, 1, 1])"
      ]
     },
     "execution_count": 34,
     "metadata": {},
     "output_type": "execute_result"
    }
   ],
   "source": [
    "np.multiply([0,1,1], [1,1,1])"
   ]
  },
  {
   "cell_type": "code",
   "execution_count": null,
   "metadata": {
    "collapsed": true
   },
   "outputs": [],
   "source": []
  }
 ],
 "metadata": {
  "kernelspec": {
   "display_name": "Python 3",
   "language": "python",
   "name": "python3"
  },
  "language_info": {
   "codemirror_mode": {
    "name": "ipython",
    "version": 3
   },
   "file_extension": ".py",
   "mimetype": "text/x-python",
   "name": "python",
   "nbconvert_exporter": "python",
   "pygments_lexer": "ipython3",
   "version": "3.5.2"
  }
 },
 "nbformat": 4,
 "nbformat_minor": 2
}
