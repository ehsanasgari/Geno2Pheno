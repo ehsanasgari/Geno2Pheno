{
 "cells": [
  {
   "cell_type": "code",
   "execution_count": 2,
   "metadata": {},
   "outputs": [],
   "source": [
    "import sys\n",
    "sys.path.append('../')\n",
    "from utility.file_utility import FileUtility\n",
    "from utility.math_utility import get_kl_rows\n",
    "import pandas as pd\n",
    "from pandas import Series\n",
    "import matplotlib\n",
    "import matplotlib.pyplot as plt\n",
    "import seaborn as sns;\n",
    "import numpy as np\n",
    "sns.set()"
   ]
  },
  {
   "cell_type": "code",
   "execution_count": 3,
   "metadata": {},
   "outputs": [],
   "source": [
    "def create_mat_plot(mat, axis_names, title, filename, xlab, ylab, cmap='inferno', filetype='pdf', rx=0, ry=0, font_s=10,\n",
    "                    annot=True):\n",
    "    '''\n",
    "    :param mat: divergence matrix\n",
    "    :param axis_names: axis_names\n",
    "    :param title\n",
    "    :param filename: where to be saved\n",
    "    :return:\n",
    "    '''\n",
    "    if len(axis_names) == 0:\n",
    "        ax = sns.heatmap(mat, annot=annot, cmap=cmap, fmt=\"d\")\n",
    "    else:\n",
    "        # removed fmt=\"d\",\n",
    "        ax = sns.heatmap(mat, annot=annot, yticklabels=axis_names, xticklabels=axis_names, cmap=cmap)\n",
    "    plt.title(title)\n",
    "    params = {\n",
    "        'legend.fontsize': font_s,\n",
    "        'xtick.labelsize': font_s,\n",
    "        'ytick.labelsize': font_s,\n",
    "        'text.usetex': True,\n",
    "    }\n",
    "    matplotlib.rcParams['mathtext.fontset'] = 'stix'\n",
    "    matplotlib.rcParams['font.family'] = 'STIXGeneral'\n",
    "    matplotlib.rcParams['mathtext.fontset'] = 'custom'\n",
    "    matplotlib.rcParams['mathtext.rm'] = 'Bitstream Vera Sans'\n",
    "    matplotlib.rcParams['mathtext.it'] = 'Bitstream Vera Sans:italic'\n",
    "    matplotlib.rcParams['mathtext.bf'] = 'Bitstream Vera Sans:bold'\n",
    "    plt.rc('text', usetex=True)\n",
    "    plt.xlabel(xlab)\n",
    "    plt.ylabel(ylab)\n",
    "    plt.xticks(rotation=rx)\n",
    "    plt.yticks(rotation=ry)\n",
    "    plt.rcParams.update(params)\n",
    "    plt.tight_layout()\n",
    "    plt.savefig(filename + '.' + filetype, dpi=500)\n",
    "    plt.show()\n",
    "    plt.clf()\n",
    "\n"
   ]
  },
  {
   "cell_type": "code",
   "execution_count": 4,
   "metadata": {},
   "outputs": [],
   "source": [
    "#df=pd.read_table('/mounts/data/proj/asgari/final_proj/Geno2Pheno/data_config/before_march_2018/Final_MICs_16.06.16.txt')\n",
    "#df['sum']=df[['Tobramycin_S-vs-R','Ceftazidim_S-vs-R','Ciprofloxacin_S-vs-R','Meropenem_S-vs-R']].max(axis=1)\n",
    "#df=df[['TOB MIC','CAZ MIC','CIP MIC','MEM MIC']]\n",
    "#M=df.fillna(0.5).as_matrix()\n",
    "#phenotypes=[x.replace(' MIC','') for x in ['TOB MIC','CAZ MIC','CIP MIC','MEM MIC']]\n",
    "#M=np.array([[z.replace('≤','').replace('<=','').replace('≥','').replace('>=','') for z in x] for x in df.as_matrix()],dtype=np.float32)\n",
    "df=pd.read_table('/mounts/data/proj/asgari/final_proj/Geno2Pheno/data_config/pheno_table_CLSI_S-vs-R.txt')"
   ]
  },
  {
   "cell_type": "code",
   "execution_count": 5,
   "metadata": {},
   "outputs": [
    {
     "name": "stderr",
     "output_type": "stream",
     "text": [
      "/usr/lib/python3.6/site-packages/ipykernel_launcher.py:3: FutureWarning: Method .as_matrix will be removed in a future version. Use .values instead.\n",
      "  This is separate from the ipykernel package so we can avoid doing imports until\n"
     ]
    }
   ],
   "source": [
    "columns=['Tobramycin_S-vs-R','Ceftazidim_S-vs-R','Ciprofloxacin_S-vs-R','Meropenem_S-vs-R']\n",
    "df=df[['Tobramycin_S-vs-R','Ceftazidim_S-vs-R','Ciprofloxacin_S-vs-R','Meropenem_S-vs-R']]\n",
    "M=df.fillna(0.5).as_matrix()\n",
    "phenotypes=[x.replace('_S-vs-R','') if not x.replace('_S-vs-R','')== 'Ceftazidim' else 'Ceftazidime' for x in ['Tobramycin_S-vs-R','Ceftazidim_S-vs-R','Ciprofloxacin_S-vs-R','Meropenem_S-vs-R']]\n"
   ]
  },
  {
   "cell_type": "code",
   "execution_count": 6,
   "metadata": {},
   "outputs": [],
   "source": [
    "KL=get_kl_rows(M.T)\n",
    "KL=KL/np.max(KL)"
   ]
  },
  {
   "cell_type": "code",
   "execution_count": 7,
   "metadata": {},
   "outputs": [
    {
     "data": {
      "image/png": "[encoded data removed]",
      "text/plain": [
       "<matplotlib.figure.Figure at 0x7fe40dd9cf28>"
      ]
     },
     "metadata": {},
     "output_type": "display_data"
    },
    {
     "data": {
      "text/plain": [
       "<matplotlib.figure.Figure at 0x7fe396d9b6d8>"
      ]
     },
     "metadata": {},
     "output_type": "display_data"
    }
   ],
   "source": [
    "create_mat_plot(KL,phenotypes, 'Normalized drug effect divergence', 'drug_effec', '', '',cmap='Purples',filetype='png')"
   ]
  },
  {
   "cell_type": "code",
   "execution_count": 27,
   "metadata": {},
   "outputs": [],
   "source": [
    "settings=['Tobramycin_S-vs-R','Ceftazidim_S-vs-R','Ciprofloxacin_S-vs-R','Meropenem_S-vs-R']\n"
   ]
  },
  {
   "cell_type": "code",
   "execution_count": 28,
   "metadata": {},
   "outputs": [],
   "source": [
    "for setting in settings:\n",
    "    df_temp=df[df[setting]>=0][['final all',setting]]\n",
    "    dict_of_val=Series(df_temp[setting].values,index=df_temp['final all']).to_dict() \n",
    "    lines=['\\t'.join([x,str(int(y))]) for x,y in dict_of_val.items()]\n",
    "    FileUtility.save_list('/mounts/data/proj/asgari/final_proj/Geno2Pheno/data_config/pseudogenomics/'+setting+'.txt',lines)"
   ]
  },
  {
   "cell_type": "code",
   "execution_count": 29,
   "metadata": {},
   "outputs": [],
   "source": [
    "import sys\n",
    "sys.path.append('../')\n",
    "from utility.file_utility import FileUtility"
   ]
  },
  {
   "cell_type": "code",
   "execution_count": 30,
   "metadata": {},
   "outputs": [],
   "source": [
    "SWISS_seqs=FileUtility.read_fasta_sequences('/mounts/data/proj/asgari/final_proj/bioelmo/uniref-uniprot%3A%28reviewed%3Ayes%29+identity%3A0.5.fasta')"
   ]
  },
  {
   "cell_type": "code",
   "execution_count": 33,
   "metadata": {},
   "outputs": [],
   "source": [
    "\n",
    "\n",
    "import numpy as np\n",
    "from sklearn.model_selection import train_test_split"
   ]
  },
  {
   "cell_type": "code",
   "execution_count": 34,
   "metadata": {},
   "outputs": [],
   "source": [
    "X_train, X_test = train_test_split(SWISS_seqs,test_size=0.1, random_state=42)"
   ]
  },
  {
   "cell_type": "code",
   "execution_count": 37,
   "metadata": {},
   "outputs": [],
   "source": [
    "FileUtility.save_list('/mounts/data/proj/asgari/final_proj/000_datasets/prot/uniref_swissprot/train.txt',[' '.join(list(x.lower())) for x in X_train])"
   ]
  },
  {
   "cell_type": "code",
   "execution_count": 38,
   "metadata": {},
   "outputs": [],
   "source": [
    "FileUtility.save_list('/mounts/data/proj/asgari/final_proj/000_datasets/prot/uniref_swissprot/test.txt',[' '.join(list(x.lower())) for x in X_test])"
   ]
  },
  {
   "cell_type": "code",
   "execution_count": null,
   "metadata": {},
   "outputs": [],
   "source": []
  }
 ],
 "metadata": {
  "kernelspec": {
   "display_name": "Python 3.6",
   "language": "python",
   "name": "python_3.6"
  },
  "language_info": {
   "codemirror_mode": {
    "name": "ipython",
    "version": 3
   },
   "file_extension": ".py",
   "mimetype": "text/x-python",
   "name": "python",
   "nbconvert_exporter": "python",
   "pygments_lexer": "ipython3",
   "version": "3.6.5"
  }
 },
 "nbformat": 4,
 "nbformat_minor": 2
}
