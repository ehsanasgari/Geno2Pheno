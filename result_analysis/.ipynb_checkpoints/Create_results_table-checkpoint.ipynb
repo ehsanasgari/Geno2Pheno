{
 "cells": [
  {
   "cell_type": "code",
   "execution_count": 5,
   "metadata": {},
   "outputs": [],
   "source": [
    "import sys\n",
    "sys.path.append('../')\n",
    "from utility.file_utility import FileUtility\n",
    "import warnings\n",
    "from sklearn.metrics.classification import precision_recall_fscore_support\n",
    "\n",
    "warnings.filterwarnings('ignore')"
   ]
  },
  {
   "cell_type": "code",
   "execution_count": 2,
   "metadata": {},
   "outputs": [],
   "source": [
    "files=FileUtility.recursive_glob('/mounts/data/proj/asgari/final_proj/000_datasets/geno2pheno/','*.pickle')"
   ]
  },
  {
   "cell_type": "code",
   "execution_count": 12,
   "metadata": {},
   "outputs": [],
   "source": [
    "tables=dict()\n",
    "tables['cv_rand']={'feature':[],'learning_method':[],'cv_precision':[],'cv_recall':[],'cv_f1':[],'cv_accuracy':[],'val_precision':[],'val_recall':[],'val_f1':[],'val_accuracy':[]}\n",
    "tables['cv_tree']={'feature':[],'learning_method':[],'cv_precision':[],'cv_recall':[],'cv_f1':[],'cv_accuracy':[],'val_precision':[],'val_recall':[],'val_f1':[],'val_accuracy':[]}\n",
    "for file_name in files:\n",
    "    if 'CV_rand' in '_'.join(file_name.split('/')[-1].split('.')[0].split('_')[0:-1]):\n",
    "        tables['cv_rand']['learning_method'].append(file_name.split('/')[-1].split('.')[0].split('_')[-1])\n",
    "        \n",
    "    table['feature'].append()\n",
    "    try:\n",
    "        [label_set, conf, best_score_, best_estimator_,\n",
    "                                      cv_results_, best_params_,  (y_predicted, Y,label_set ), (Y_test_pred, Y_test)] = FileUtility.load_obj(file_name)\n",
    "\n",
    "    except:\n",
    "        [label_set, best_score_, best_estimator_,\n",
    "                                      cv_results_, best_params_,  (Y,label_set ),  (Y_test_pred, Y_test)] = FileUtility.load_obj(file_name)\n",
    "    "
   ]
  },
  {
   "cell_type": "code",
   "execution_count": 13,
   "metadata": {},
   "outputs": [
    {
     "data": {
      "text/plain": [
       "{'cv_accuracy': [],\n",
       " 'cv_f1': [],\n",
       " 'cv_precision': [],\n",
       " 'cv_recall': [],\n",
       " 'feature': ['kpneumoniae.non-syn.SNPsuniq.CV.rand',\n",
       "  'sequence.6mer.CV.rand',\n",
       "  'kpneumoniae.gpauniq.CV.rand',\n",
       "  'kpneumoniae.gpauniq.CV.rand',\n",
       "  'kpneumoniae.non-syn.SNPsuniq.CV.rand',\n",
       "  'sequence.6mer.CV.rand',\n",
       "  'kpneumoniae.syn.SNPsuniq.CV.rand',\n",
       "  'kpneumoniae.gpauniq.CV.rand',\n",
       "  'kpneumoniae.syn.SNPsuniq.CV.rand',\n",
       "  'sequence.6mer.CV.rand',\n",
       "  'kpneumoniae.non-syn.SNPsuniq.CV.rand',\n",
       "  'kpneumoniae.syn.SNPsuniq.CV.rand'],\n",
       " 'learning_method': ['LR',\n",
       "  'LR',\n",
       "  'SVM',\n",
       "  'LR',\n",
       "  'RF',\n",
       "  'RF',\n",
       "  'SVM',\n",
       "  'RF',\n",
       "  'RF',\n",
       "  'SVM',\n",
       "  'SVM',\n",
       "  'LR'],\n",
       " 'val_accuracy': [],\n",
       " 'val_f1': [],\n",
       " 'val_precision': [],\n",
       " 'val_recall': []}"
      ]
     },
     "execution_count": 13,
     "metadata": {},
     "output_type": "execute_result"
    }
   ],
   "source": [
    "table"
   ]
  },
  {
   "cell_type": "code",
   "execution_count": null,
   "metadata": {},
   "outputs": [],
   "source": []
  }
 ],
 "metadata": {
  "kernelspec": {
   "display_name": "Python 3.6",
   "language": "python",
   "name": "python_3.6"
  },
  "language_info": {
   "codemirror_mode": {
    "name": "ipython",
    "version": 3
   },
   "file_extension": ".py",
   "mimetype": "text/x-python",
   "name": "python",
   "nbconvert_exporter": "python",
   "pygments_lexer": "ipython3",
   "version": "3.6.5"
  }
 },
 "nbformat": 4,
 "nbformat_minor": 2
}
