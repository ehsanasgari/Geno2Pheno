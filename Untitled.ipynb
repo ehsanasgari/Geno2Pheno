{
 "cells": [
  {
   "cell_type": "code",
   "execution_count": null,
   "metadata": {
    "collapsed": false,
    "deletable": true,
    "editable": true
   },
   "outputs": [],
   "source": [
    "\n",
    "\n",
    "    # Plot the feature importances of the forest\n",
    "    #plt.figure()\n",
    "    #plt.title(\"Feature importances\")\n",
    "    #plt.bar(range(X.shape[1]), importances[indices],\n",
    "    #       color=\"r\", yerr=std[indices], align=\"center\")\n",
    "    #plt.xticks(range(X.shape[1]), indices)\n",
    "    #plt.xlim([-1, X.shape[1]])\n",
    "    #plt.show()"
   ]
  },
  {
   "cell_type": "code",
   "execution_count": 187,
   "metadata": {
    "collapsed": true,
    "deletable": true,
    "editable": true
   },
   "outputs": [],
   "source": [
    "\n",
    "labels=['genexp_'+x for x in genexp_features]+['snp_'+x for x in snps_features]+ ['gene_pa_'+x for x in genpa_features]\n",
    "X=np.concatenate((X_gene_exp,X_gene_snp,X_gene_pna), axis=1)"
   ]
  },
  {
   "cell_type": "code",
   "execution_count": null,
   "metadata": {
    "collapsed": false,
    "deletable": true,
    "editable": true
   },
   "outputs": [
    {
     "name": "stdout",
     "output_type": "stream",
     "text": [
      "Ciprofloxacin\n",
      "precision: 0.82 (+/- 0.03)\n",
      "recall: 0.83 (+/- 0.06)\n",
      "f1: 0.82 (+/- 0.03)\n",
      "roc_auc: 0.85 (+/- 0.04)\n",
      "Tobramycin\n",
      "precision: 0.91 (+/- 0.05)\n",
      "recall: 0.86 (+/- 0.06)\n",
      "f1: 0.89 (+/- 0.05)\n",
      "roc_auc: 0.95 (+/- 0.03)\n",
      "Colistin\n"
     ]
    },
    {
     "name": "stderr",
     "output_type": "stream",
     "text": [
      "/mounts/Users/student/asgari/.local/lib/python3.4/site-packages/sklearn/metrics/classification.py:1113: UndefinedMetricWarning: Precision is ill-defined and being set to 0.0 due to no predicted samples.\n",
      "  'precision', 'predicted', average, warn_for)\n"
     ]
    },
    {
     "name": "stdout",
     "output_type": "stream",
     "text": [
      "precision: 0.55 (+/- 0.35)\n",
      "recall: 0.27 (+/- 0.19)\n"
     ]
    },
    {
     "name": "stderr",
     "output_type": "stream",
     "text": [
      "/mounts/Users/student/asgari/.local/lib/python3.4/site-packages/sklearn/metrics/classification.py:1113: UndefinedMetricWarning: F-score is ill-defined and being set to 0.0 due to no predicted samples.\n",
      "  'precision', 'predicted', average, warn_for)\n"
     ]
    },
    {
     "name": "stdout",
     "output_type": "stream",
     "text": [
      "f1: 0.36 (+/- 0.24)\n",
      "roc_auc: 0.90 (+/- 0.08)\n",
      "Ceftazidim\n",
      "precision: 0.77 (+/- 0.06)\n",
      "recall: 0.81 (+/- 0.08)\n",
      "f1: 0.79 (+/- 0.05)\n",
      "roc_auc: 0.81 (+/- 0.04)\n",
      "Meropenem\n"
     ]
    }
   ],
   "source": [
    "from sklearn import svm\n",
    "\n",
    "results_svm=dict()\n",
    "for drug in drug_names:\n",
    "    print (drug)\n",
    "    results_svm[drug]=[]\n",
    "    X=np.concatenate((X_gene_exp,X_gene_snp,X_gene_pna), axis=1)\n",
    "    X, y=makeXY_prediction(X, drug2labeledisolates_mapping[drug], common_islt)\n",
    "    clf_svm = svm.SVC(kernel='linear', C=1)\n",
    "\n",
    "    scores = cross_val_score(clf_svm, X, y, cv=cv, scoring='precision')\n",
    "    print(\"precision: %0.2f (+/- %0.2f)\" % (scores.mean(), scores.std()))\n",
    "    results_svm[drug].append(('RF','precision',scores.mean(), scores.std()))\n",
    "\n",
    "    scores = cross_val_score(clf_svm, X, y, cv=cv, scoring='recall')\n",
    "    print(\"recall: %0.2f (+/- %0.2f)\" % (scores.mean(), scores.std()))\n",
    "    results_svm[drug].append(('RF','recall',scores.mean(), scores.std()))\n",
    "\n",
    "    scores = cross_val_score(clf_svm, X, y, cv=cv, scoring='f1')\n",
    "    print(\"f1: %0.2f (+/- %0.2f)\" % (scores.mean(), scores.std()))\n",
    "    results_svm[drug].append(('RF','f1',scores.mean(), scores.std()))\n",
    "\n",
    "    scores = cross_val_score(clf_svm, X, y, cv=cv, scoring='roc_auc')\n",
    "    print(\"roc_auc: %0.2f (+/- %0.2f)\" % (scores.mean(), scores.std()))\n",
    "    results_svm[drug].append(('RF','roc_auc',scores.mean(), scores.std()))"
   ]
  },
  {
   "cell_type": "code",
   "execution_count": 188,
   "metadata": {
    "collapsed": false,
    "deletable": true,
    "editable": true
   },
   "outputs": [
    {
     "data": {
      "text/plain": [
       "{'Ceftazidim': [('RF', 'precision', 0.76644189826919962, 0.057301746437157637),\n",
       "  ('RF', 'recall', 0.81281751071799013, 0.079997458627265913),\n",
       "  ('RF', 'f1', 0.78595348259206343, 0.049903932320095067),\n",
       "  ('RF', 'roc_auc', 0.80708901293776614, 0.043882822373662214)],\n",
       " 'Ciprofloxacin': [('RF',\n",
       "   'precision',\n",
       "   0.82058143372947678,\n",
       "   0.030508011566733273),\n",
       "  ('RF', 'recall', 0.83241510396076479, 0.058279419297506498),\n",
       "  ('RF', 'f1', 0.82482868090417349, 0.028719634602955586),\n",
       "  ('RF', 'roc_auc', 0.85393316281917575, 0.037826623877559661)],\n",
       " 'Colistin': [('RF', 'precision', 0.55000000000000004, 0.35000000000000003),\n",
       "  ('RF', 'recall', 0.26833333333333331, 0.19471489128695033),\n",
       "  ('RF', 'f1', 0.35571428571428571, 0.24189398176204885),\n",
       "  ('RF', 'roc_auc', 0.89892887537370625, 0.076540903469073676)],\n",
       " 'Meropenem': [('RF', 'precision', 0.82420326969423274, 0.037217509985204185),\n",
       "  ('RF', 'recall', 0.889129316527977, 0.044668242419211385),\n",
       "  ('RF', 'f1', 0.85459019642786649, 0.030454251469489897),\n",
       "  ('RF', 'roc_auc', 0.79702090855352814, 0.066857835330097759)],\n",
       " 'Tobramycin': [('RF', 'precision', 0.91032430563429778, 0.05259389029720548),\n",
       "  ('RF', 'recall', 0.86264869734016736, 0.05813460778578397),\n",
       "  ('RF', 'f1', 0.88525012770867506, 0.050407678657311245),\n",
       "  ('RF', 'roc_auc', 0.94593510963276517, 0.032071690015447241)]}"
      ]
     },
     "execution_count": 188,
     "metadata": {},
     "output_type": "execute_result"
    }
   ],
   "source": [
    "results_svm"
   ]
  },
  {
   "cell_type": "code",
   "execution_count": 189,
   "metadata": {
    "collapsed": false,
    "deletable": true,
    "editable": true
   },
   "outputs": [
    {
     "data": {
      "text/plain": [
       "{'Ciprofloxacin': [('RF',\n",
       "   'precision',\n",
       "   0.63333333333333341,\n",
       "   0.03880681356019907),\n",
       "  ('RF', 'recall', 1.0, 0.0),\n",
       "  ('RF', 'f1', 0.77479053828248157, 0.030304645935937992)]}"
      ]
     },
     "execution_count": 189,
     "metadata": {},
     "output_type": "execute_result"
    }
   ],
   "source": [
    "results_svm2"
   ]
  },
  {
   "cell_type": "code",
   "execution_count": 190,
   "metadata": {
    "collapsed": false,
    "deletable": true,
    "editable": true
   },
   "outputs": [
    {
     "name": "stdout",
     "output_type": "stream",
     "text": [
      "Ciprofloxacin\n",
      "precision: 0.63 (+/- 0.04)\n",
      "recall: 1.00 (+/- 0.00)\n",
      "f1: 0.77 (+/- 0.03)\n",
      "roc_auc: 0.82 (+/- 0.03)\n",
      "Tobramycin\n",
      "precision: 0.98 (+/- 0.03)\n",
      "recall: 0.46 (+/- 0.07)\n",
      "f1: 0.62 (+/- 0.06)\n",
      "roc_auc: 0.90 (+/- 0.04)\n",
      "Colistin\n"
     ]
    },
    {
     "name": "stderr",
     "output_type": "stream",
     "text": [
      "/mounts/Users/student/asgari/.local/lib/python3.4/site-packages/sklearn/metrics/classification.py:1113: UndefinedMetricWarning: Precision is ill-defined and being set to 0.0 due to no predicted samples.\n",
      "  'precision', 'predicted', average, warn_for)\n",
      "/mounts/Users/student/asgari/.local/lib/python3.4/site-packages/sklearn/metrics/classification.py:1113: UndefinedMetricWarning: Precision is ill-defined and being set to 0.0 due to no predicted samples.\n",
      "  'precision', 'predicted', average, warn_for)\n",
      "/mounts/Users/student/asgari/.local/lib/python3.4/site-packages/sklearn/metrics/classification.py:1113: UndefinedMetricWarning: Precision is ill-defined and being set to 0.0 due to no predicted samples.\n",
      "  'precision', 'predicted', average, warn_for)\n",
      "/mounts/Users/student/asgari/.local/lib/python3.4/site-packages/sklearn/metrics/classification.py:1113: UndefinedMetricWarning: Precision is ill-defined and being set to 0.0 due to no predicted samples.\n",
      "  'precision', 'predicted', average, warn_for)\n",
      "/mounts/Users/student/asgari/.local/lib/python3.4/site-packages/sklearn/metrics/classification.py:1113: UndefinedMetricWarning: Precision is ill-defined and being set to 0.0 due to no predicted samples.\n",
      "  'precision', 'predicted', average, warn_for)\n",
      "/mounts/Users/student/asgari/.local/lib/python3.4/site-packages/sklearn/metrics/classification.py:1113: UndefinedMetricWarning: Precision is ill-defined and being set to 0.0 due to no predicted samples.\n",
      "  'precision', 'predicted', average, warn_for)\n",
      "/mounts/Users/student/asgari/.local/lib/python3.4/site-packages/sklearn/metrics/classification.py:1113: UndefinedMetricWarning: Precision is ill-defined and being set to 0.0 due to no predicted samples.\n",
      "  'precision', 'predicted', average, warn_for)\n",
      "/mounts/Users/student/asgari/.local/lib/python3.4/site-packages/sklearn/metrics/classification.py:1113: UndefinedMetricWarning: Precision is ill-defined and being set to 0.0 due to no predicted samples.\n",
      "  'precision', 'predicted', average, warn_for)\n",
      "/mounts/Users/student/asgari/.local/lib/python3.4/site-packages/sklearn/metrics/classification.py:1113: UndefinedMetricWarning: Precision is ill-defined and being set to 0.0 due to no predicted samples.\n",
      "  'precision', 'predicted', average, warn_for)\n",
      "/mounts/Users/student/asgari/.local/lib/python3.4/site-packages/sklearn/metrics/classification.py:1113: UndefinedMetricWarning: Precision is ill-defined and being set to 0.0 due to no predicted samples.\n",
      "  'precision', 'predicted', average, warn_for)\n"
     ]
    },
    {
     "name": "stdout",
     "output_type": "stream",
     "text": [
      "precision: 0.00 (+/- 0.00)\n",
      "recall: 0.00 (+/- 0.00)\n"
     ]
    },
    {
     "name": "stderr",
     "output_type": "stream",
     "text": [
      "/mounts/Users/student/asgari/.local/lib/python3.4/site-packages/sklearn/metrics/classification.py:1113: UndefinedMetricWarning: F-score is ill-defined and being set to 0.0 due to no predicted samples.\n",
      "  'precision', 'predicted', average, warn_for)\n",
      "/mounts/Users/student/asgari/.local/lib/python3.4/site-packages/sklearn/metrics/classification.py:1113: UndefinedMetricWarning: F-score is ill-defined and being set to 0.0 due to no predicted samples.\n",
      "  'precision', 'predicted', average, warn_for)\n",
      "/mounts/Users/student/asgari/.local/lib/python3.4/site-packages/sklearn/metrics/classification.py:1113: UndefinedMetricWarning: F-score is ill-defined and being set to 0.0 due to no predicted samples.\n",
      "  'precision', 'predicted', average, warn_for)\n",
      "/mounts/Users/student/asgari/.local/lib/python3.4/site-packages/sklearn/metrics/classification.py:1113: UndefinedMetricWarning: F-score is ill-defined and being set to 0.0 due to no predicted samples.\n",
      "  'precision', 'predicted', average, warn_for)\n",
      "/mounts/Users/student/asgari/.local/lib/python3.4/site-packages/sklearn/metrics/classification.py:1113: UndefinedMetricWarning: F-score is ill-defined and being set to 0.0 due to no predicted samples.\n",
      "  'precision', 'predicted', average, warn_for)\n",
      "/mounts/Users/student/asgari/.local/lib/python3.4/site-packages/sklearn/metrics/classification.py:1113: UndefinedMetricWarning: F-score is ill-defined and being set to 0.0 due to no predicted samples.\n",
      "  'precision', 'predicted', average, warn_for)\n",
      "/mounts/Users/student/asgari/.local/lib/python3.4/site-packages/sklearn/metrics/classification.py:1113: UndefinedMetricWarning: F-score is ill-defined and being set to 0.0 due to no predicted samples.\n",
      "  'precision', 'predicted', average, warn_for)\n",
      "/mounts/Users/student/asgari/.local/lib/python3.4/site-packages/sklearn/metrics/classification.py:1113: UndefinedMetricWarning: F-score is ill-defined and being set to 0.0 due to no predicted samples.\n",
      "  'precision', 'predicted', average, warn_for)\n",
      "/mounts/Users/student/asgari/.local/lib/python3.4/site-packages/sklearn/metrics/classification.py:1113: UndefinedMetricWarning: F-score is ill-defined and being set to 0.0 due to no predicted samples.\n",
      "  'precision', 'predicted', average, warn_for)\n",
      "/mounts/Users/student/asgari/.local/lib/python3.4/site-packages/sklearn/metrics/classification.py:1113: UndefinedMetricWarning: F-score is ill-defined and being set to 0.0 due to no predicted samples.\n",
      "  'precision', 'predicted', average, warn_for)\n"
     ]
    },
    {
     "name": "stdout",
     "output_type": "stream",
     "text": [
      "f1: 0.00 (+/- 0.00)\n",
      "roc_auc: 0.90 (+/- 0.07)\n",
      "Ceftazidim\n",
      "precision: 0.57 (+/- 0.05)\n",
      "recall: 1.00 (+/- 0.00)\n",
      "f1: 0.72 (+/- 0.04)\n",
      "roc_auc: 0.76 (+/- 0.04)\n",
      "Meropenem\n",
      "precision: 0.76 (+/- 0.04)\n",
      "recall: 1.00 (+/- 0.00)\n",
      "f1: 0.86 (+/- 0.03)\n",
      "roc_auc: 0.77 (+/- 0.07)\n"
     ]
    }
   ],
   "source": [
    "from sklearn import svm\n",
    "\n",
    "results_svm2=dict()\n",
    "for drug in drug_names:\n",
    "    print (drug)\n",
    "    results_svm2[drug]=[]\n",
    "    X=np.concatenate((X_gene_exp,X_gene_snp,X_gene_pna), axis=1)\n",
    "    X, y=makeXY_prediction(X, drug2labeledisolates_mapping[drug], common_islt)\n",
    "    clf_svm = svm.SVC(kernel='rbf', C=1)\n",
    "\n",
    "    scores = cross_val_score(clf_svm, X, y, cv=cv, scoring='precision')\n",
    "    print(\"precision: %0.2f (+/- %0.2f)\" % (scores.mean(), scores.std()))\n",
    "    results_svm2[drug].append(('RF','precision',scores.mean(), scores.std()))\n",
    "\n",
    "    scores = cross_val_score(clf_svm, X, y, cv=cv, scoring='recall')\n",
    "    print(\"recall: %0.2f (+/- %0.2f)\" % (scores.mean(), scores.std()))\n",
    "    results_svm2[drug].append(('RF','recall',scores.mean(), scores.std()))\n",
    "\n",
    "    scores = cross_val_score(clf_svm, X, y, cv=cv, scoring='f1')\n",
    "    print(\"f1: %0.2f (+/- %0.2f)\" % (scores.mean(), scores.std()))\n",
    "    results_svm2[drug].append(('RF','f1',scores.mean(), scores.std()))\n",
    "\n",
    "    scores = cross_val_score(clf_svm, X, y, cv=cv, scoring='roc_auc')\n",
    "    print(\"roc_auc: %0.2f (+/- %0.2f)\" % (scores.mean(), scores.std()))\n",
    "    results_svm2[drug].append(('RF','roc_auc',scores.mean(), scores.std()))"
   ]
  },
  {
   "cell_type": "code",
   "execution_count": 181,
   "metadata": {
    "collapsed": false,
    "deletable": true,
    "editable": true
   },
   "outputs": [
    {
     "name": "stdout",
     "output_type": "stream",
     "text": [
      "Ciprofloxacin\n",
      "precision: 0.82 (+/- 0.06)\n",
      "recall: 0.80 (+/- 0.05)\n",
      "f1: 0.80 (+/- 0.04)\n",
      "roc_auc: 0.84 (+/- 0.04)\n",
      "Feature ranking:\n",
      "1. feature snp_PA14_23260,gyrA_2015001 (0.003088, 0.024312)\n",
      "2. feature genexp_PA14_67190 (0.001590, 0.017496)\n",
      "3. feature genexp_PA14_07950,prtN (0.001566, 0.015031)\n",
      "4. feature snp_PA14_30860,trbG_2679807 (0.001195, 0.015479)\n",
      "5. feature snp_PA14_52130_4623243 (0.001176, 0.013974)\n",
      "6. feature snp_PA14_22670,yrbF_1972083 (0.001144, 0.012105)\n",
      "7. feature genexp_PA14_38395 (0.001116, 0.012588)\n",
      "8. feature snp_PA14_30850,trbI_2679088 (0.001114, 0.013501)\n",
      "9. feature genexp_PA14_08010,gpV (0.001105, 0.012658)\n",
      "10. feature snp_PA14_65605,parC_5845617 (0.001104, 0.015368)\n",
      "Tobramycin\n",
      "precision: 0.94 (+/- 0.04)\n",
      "recall: 0.83 (+/- 0.05)\n",
      "f1: 0.87 (+/- 0.04)\n",
      "roc_auc: 0.95 (+/- 0.03)\n",
      "Feature ranking:\n",
      "1. feature snp_PA14_55410_4930891 (0.005303, 0.043047)\n",
      "2. feature gene_pa_group_1881 (0.004443, 0.044258)\n",
      "3. feature snp_PA14_33610_2970539 (0.004116, 0.040957)\n",
      "4. feature snp_PA14_26930_2343869 (0.003740, 0.033807)\n",
      "5. feature snp_PA14_15435_1307150 (0.003377, 0.033613)\n",
      "6. feature snp_PA14_08050_692607 (0.003375, 0.033659)\n",
      "7. feature snp_PA14_49560,toxA_4407502 (0.003324, 0.033438)\n",
      "8. feature gene_pa_group_81 (0.003189, 0.034459)\n",
      "9. feature snp_PA14_43650_3886921 (0.003127, 0.031456)\n",
      "10. feature gene_pa_folP_2 (0.002931, 0.033001)\n",
      "Colistin\n"
     ]
    },
    {
     "name": "stderr",
     "output_type": "stream",
     "text": [
      "/mounts/Users/student/asgari/.local/lib/python3.4/site-packages/sklearn/metrics/classification.py:1113: UndefinedMetricWarning: Precision is ill-defined and being set to 0.0 due to no predicted samples.\n",
      "  'precision', 'predicted', average, warn_for)\n"
     ]
    },
    {
     "name": "stdout",
     "output_type": "stream",
     "text": [
      "precision: 0.68 (+/- 0.41)\n",
      "recall: 0.22 (+/- 0.17)\n"
     ]
    },
    {
     "name": "stderr",
     "output_type": "stream",
     "text": [
      "/mounts/Users/student/asgari/.local/lib/python3.4/site-packages/sklearn/metrics/classification.py:1113: UndefinedMetricWarning: F-score is ill-defined and being set to 0.0 due to no predicted samples.\n",
      "  'precision', 'predicted', average, warn_for)\n"
     ]
    },
    {
     "name": "stdout",
     "output_type": "stream",
     "text": [
      "f1: 0.34 (+/- 0.20)\n",
      "roc_auc: 0.95 (+/- 0.04)\n",
      "Feature ranking:\n",
      "1. feature genexp_PA14_18340 (0.002996, 0.031806)\n",
      "2. feature genexp_PA14_41280 (0.002882, 0.029866)\n",
      "3. feature genexp_PA14_63220 (0.002696, 0.036205)\n",
      "4. feature genexp_PA14_18350,fmt (0.002606, 0.031332)\n",
      "5. feature genexp_PA14_63130 (0.002416, 0.031328)\n",
      "6. feature genexp_PA14_18310 (0.002290, 0.026956)\n",
      "7. feature genexp_PA14_44311 (0.002240, 0.026342)\n",
      "8. feature genexp_PA14_18370,arnB (0.002216, 0.026442)\n",
      "9. feature snp_PA14_33890,aldG_3011499 (0.002183, 0.023776)\n",
      "10. feature genexp_PA14_18320 (0.002171, 0.025529)\n",
      "Ceftazidim\n",
      "precision: 0.73 (+/- 0.06)\n",
      "recall: 0.77 (+/- 0.09)\n",
      "f1: 0.75 (+/- 0.05)\n",
      "roc_auc: 0.78 (+/- 0.03)\n",
      "Feature ranking:\n",
      "1. feature genexp_PA14_10780 (0.002071, 0.014698)\n",
      "2. feature snp_PA14_33690,pvdE_2989568 (0.001913, 0.013462)\n",
      "3. feature snp_PA14_33630,pvdJ_2977319 (0.001883, 0.012485)\n",
      "4. feature snp_PA14_66550,hemE_5936619 (0.001775, 0.017665)\n",
      "5. feature genexp_PA14_28350 (0.001750, 0.008738)\n",
      "6. feature snp_PA14_31090_2704898 (0.001586, 0.011173)\n",
      "7. feature snp_PA14_31130_2707431 (0.001573, 0.015656)\n",
      "8. feature snp_PA14_33600_2956069 (0.001517, 0.015092)\n",
      "9. feature snp_PA14_61320_5474835 (0.001492, 0.010602)\n",
      "10. feature snp_PA14_08050_692983 (0.001417, 0.009985)\n",
      "Meropenem\n",
      "precision: 0.78 (+/- 0.04)\n",
      "recall: 0.99 (+/- 0.01)\n",
      "f1: 0.87 (+/- 0.02)\n",
      "roc_auc: 0.77 (+/- 0.06)\n",
      "Feature ranking:\n",
      "1. feature genexp_PA14_70950,betB (0.003189, 0.018746)\n",
      "2. feature genexp_PA14_68900,fbpA (0.003070, 0.019008)\n",
      "3. feature genexp_PA14_46100 (0.002974, 0.015032)\n",
      "4. feature genexp_PA14_51880,oprD (0.002922, 0.019353)\n",
      "5. feature gene_pa_group_6 (0.002515, 0.020630)\n",
      "6. feature genexp_PA14_05530,mexA (0.002252, 0.017320)\n",
      "7. feature genexp_PA14_46070,gbuA (0.002181, 0.015581)\n",
      "8. feature genexp_PA14_16660,cadA (0.002153, 0.009834)\n",
      "9. feature genexp_PA14_46120,ilvG (0.001910, 0.012549)\n",
      "10. feature genexp_PA4726.2,P30 (0.001775, 0.011085)\n"
     ]
    }
   ],
   "source": [
    "for drug in drug_names:\n",
    "    print (drug)\n",
    "    X=np.concatenate((X_gene_exp,X_gene_snp,X_gene_pna), axis=1)\n",
    "    X, y=makeXY_prediction(X, drug2labeledisolates_mapping[drug], common_islt)\n",
    "\n",
    "    parameters=params[drug].best_params_\n",
    "    clf_random_forest=RandomForestClassifier(bootstrap=True, class_weight=None, criterion=parameters['criterion'],\n",
    "            max_depth=None, max_features=parameters['max_features'], max_leaf_nodes=None,\n",
    "            min_samples_leaf=1, min_samples_split=2,\n",
    "            min_weight_fraction_leaf=0.0, n_estimators=parameters['n_estimators'], n_jobs=30,\n",
    "            oob_score=False, random_state=None, verbose=0,\n",
    "            warm_start=False)\n",
    "\n",
    "    scores = cross_val_score(clf_random_forest, X, y, cv=cv, scoring='precision')\n",
    "    print(\"precision: %0.2f (+/- %0.2f)\" % (scores.mean(), scores.std()))\n",
    "    results[drug].append(('RF','precision',scores.mean(), scores.std()))\n",
    "\n",
    "    scores = cross_val_score(clf_random_forest, X, y, cv=cv, scoring='recall')\n",
    "    print(\"recall: %0.2f (+/- %0.2f)\" % (scores.mean(), scores.std()))\n",
    "    results[drug].append(('RF','recall',scores.mean(), scores.std()))\n",
    "\n",
    "    scores = cross_val_score(clf_random_forest, X, y, cv=cv, scoring='f1')\n",
    "    print(\"f1: %0.2f (+/- %0.2f)\" % (scores.mean(), scores.std()))\n",
    "    results[drug].append(('RF','f1',scores.mean(), scores.std()))\n",
    "\n",
    "    scores = cross_val_score(clf_random_forest, X, y, cv=cv, scoring='roc_auc')\n",
    "    print(\"roc_auc: %0.2f (+/- %0.2f)\" % (scores.mean(), scores.std()))\n",
    "    results[drug].append(('RF','roc_auc',scores.mean(), scores.std()))\n",
    "\n",
    "    clf_random_forest=RandomForestClassifier(bootstrap=True, class_weight=None, criterion=parameters['criterion'],\n",
    "            max_depth=None, max_features=parameters['max_features'], max_leaf_nodes=None,\n",
    "            min_samples_leaf=1, min_samples_split=2,\n",
    "            min_weight_fraction_leaf=0.0, n_estimators=parameters['n_estimators'], n_jobs=30,\n",
    "            oob_score=False, random_state=None, verbose=0,\n",
    "            warm_start=False)\n",
    "        \n",
    "    clf_random_forest.fit(X, y)\n",
    "    importances = clf_random_forest.feature_importances_\n",
    "    std = np.std([tree.feature_importances_ for tree in clf_random_forest.estimators_],\n",
    "                 axis=0)\n",
    "    indices = np.argsort(importances)[::-1]\n",
    "\n",
    "    \n",
    "    # Print the feature ranking\n",
    "    print(\"Feature ranking:\")\n",
    "\n",
    "    for f in range(X.shape[1])[0:10]:\n",
    "        print(\"%d. feature %s (%f, %f)\" % (f + 1, labels[indices[f]], importances[indices[f]],std[indices[f]]))\n",
    "\n",
    "        CiprofloxacinTobramycinColistinCeftazidimCeftazidimMeropenem\n"
   ]
  },
  {
   "cell_type": "code",
   "execution_count": 175,
   "metadata": {
    "collapsed": false,
    "deletable": true,
    "editable": true
   },
   "outputs": [
    {
     "data": {
      "text/plain": [
       "'genexp_PA14_01100,clpB'"
      ]
     },
     "execution_count": 175,
     "metadata": {},
     "output_type": "execute_result"
    }
   ],
   "source": [
    "labels[100]"
   ]
  },
  {
   "cell_type": "code",
   "execution_count": 1,
   "metadata": {
    "collapsed": true,
    "deletable": true,
    "editable": true
   },
   "outputs": [],
   "source": [
    "data_dir='/mounts/data/proj/asgari/github_data/data/pseudomonas/data/'\n",
    "labels_addr='MIC/v2/mic_bin_without_intermediate.txt'\n",
    "genexp_data_addr='new/gene_expression/rpg_log_transformed_426.txt'\n",
    "snps_data_addr='snp/v2/non-syn_SNPs_bin.txt'\n",
    "gen_pres_abs_data_addr='new/annot.txt'"
   ]
  },
  {
   "cell_type": "code",
   "execution_count": 2,
   "metadata": {
    "collapsed": false,
    "deletable": true,
    "editable": true
   },
   "outputs": [],
   "source": [
    "import codecs\n",
    "import numpy as np\n",
    "import random\n",
    "\n",
    "def produce_feature_matrix(feature_file_address):\n",
    "    rows=[l.strip() for l in codecs.open(feature_file_address,'r','utf-8').readlines()]\n",
    "    mapping_isolate2feature={str(entry.split('\\t')[0]):[float(str(x)) for x in entry.split('\\t')[1::]] for entry in rows[1::]}\n",
    "    features=rows[0].rstrip().split('\\t')\n",
    "    return mapping_isolate2feature, features\n",
    "\n",
    "def produce_label_str_vec(label_file_address):\n",
    "    '''\n",
    "        This function produces instances like: ZG02420619 ['1.0', '0.0', '0.0', '', '1.0']\n",
    "    '''\n",
    "    rows=[l.replace('\\n','') for l in codecs.open(label_file_address,'r','utf-8').readlines()]\n",
    "    isolate2label_vec_mapping={str(entry.split('\\t')[0]):[str(x) for idx,x in enumerate(entry.split('\\t')[1::])] for entry in rows[1::]}\n",
    "    labels=rows[0].rstrip().split('\\t')[1::]\n",
    "    \n",
    "    # init\n",
    "    drug2labeledisolates_mapping=dict()\n",
    "    for label in labels:\n",
    "        drug2labeledisolates_mapping[label]=[]\n",
    "\n",
    "    # only consider non-empty values\n",
    "    for isolate,resist_vec in isolate2label_vec_mapping.items():\n",
    "        for idx, val in enumerate(resist_vec):\n",
    "            if val in ['0','0.0','1','1.0']:\n",
    "                drug2labeledisolates_mapping[labels[idx]].append((isolate,int(float(val))))\n",
    "    # generate dict of labels for each class\n",
    "    for label in labels:\n",
    "        drug2labeledisolates_mapping[label]=dict(drug2labeledisolates_mapping[label])\n",
    "    return isolate2label_vec_mapping, labels, drug2labeledisolates_mapping\n",
    "\n",
    "\n",
    "def common_isolates(list_of_list_of_isolates):\n",
    "    common_islt=set(list_of_list_of_isolates[0])\n",
    "    for next_list in list_of_list_of_isolates[1::]:\n",
    "        common_islt=common_islt.intersection(next_list)\n",
    "    common_islt=list(common_islt)\n",
    "    common_islt.sort()\n",
    "    return common_islt\n",
    "\n",
    "def make_matrix(mapping, isolate_lsit):\n",
    "    return np.array([mapping[x] for x in isolate_lsit])\n",
    "    \n",
    "def makeXY_prediction(X, label_dict, common_islt):\n",
    "    rows=[]\n",
    "    labels=[]\n",
    "    for isolate, label in label_dict.items():\n",
    "        if isolate in common_islt:\n",
    "            rows.append(common_islt.index(isolate))\n",
    "            labels.append(label)\n",
    "    return X[rows,:],labels\n",
    "            \n",
    "def make_balanced_dataset(X, Y):\n",
    "    all_idx=list(range(len(Y)))\n",
    "    select_idx=[idx for idx,v in enumerate(Y) if v ==1]\n",
    "    large_list=list(set(all_idx) - set(select_idx))\n",
    "    random.shuffle(large_list)\n",
    "    select_rand=large_list[0:10*len(select_idx)]\n",
    "    rows=select_idx+select_rand\n",
    "    return X[rows,:], [Y[x] for x in rows]"
   ]
  },
  {
   "cell_type": "code",
   "execution_count": 158,
   "metadata": {
    "collapsed": false,
    "deletable": true,
    "editable": true
   },
   "outputs": [
    {
     "ename": "AttributeError",
     "evalue": "'list' object has no attribute 'find'",
     "output_type": "error",
     "traceback": [
      "\u001b[0;31m---------------------------------------------------------------------------\u001b[0m",
      "\u001b[0;31mAttributeError\u001b[0m                            Traceback (most recent call last)",
      "\u001b[0;32m<ipython-input-158-09260466994f>\u001b[0m in \u001b[0;36m<module>\u001b[0;34m()\u001b[0m\n\u001b[1;32m      1\u001b[0m \u001b[0ma\u001b[0m\u001b[0;34m=\u001b[0m\u001b[0;34m[\u001b[0m\u001b[0;36m1\u001b[0m\u001b[0;34m,\u001b[0m\u001b[0;36m2\u001b[0m\u001b[0;34m,\u001b[0m\u001b[0;36m1\u001b[0m\u001b[0;34m,\u001b[0m\u001b[0;36m1\u001b[0m\u001b[0;34m,\u001b[0m\u001b[0;36m3\u001b[0m\u001b[0;34m,\u001b[0m\u001b[0;36m4\u001b[0m\u001b[0;34m,\u001b[0m\u001b[0;36m5\u001b[0m\u001b[0;34m]\u001b[0m\u001b[0;34m\u001b[0m\u001b[0m\n\u001b[0;32m----> 2\u001b[0;31m \u001b[0ma\u001b[0m\u001b[0;34m.\u001b[0m\u001b[0mfind\u001b[0m\u001b[0;34m(\u001b[0m\u001b[0;36m1\u001b[0m\u001b[0;34m)\u001b[0m\u001b[0;34m\u001b[0m\u001b[0m\n\u001b[0m",
      "\u001b[0;31mAttributeError\u001b[0m: 'list' object has no attribute 'find'"
     ]
    }
   ],
   "source": [
    "a=[1,2,1,1,3,4,5]\n",
    "a.find(1)"
   ]
  },
  {
   "cell_type": "code",
   "execution_count": 3,
   "metadata": {
    "collapsed": false,
    "deletable": true,
    "editable": true
   },
   "outputs": [],
   "source": [
    "isolate2label_vec_mapping, drug_names, drug2labeledisolates_mapping=produce_label_str_vec(data_dir+labels_addr)"
   ]
  },
  {
   "cell_type": "code",
   "execution_count": 4,
   "metadata": {
    "collapsed": false,
    "deletable": true,
    "editable": true
   },
   "outputs": [],
   "source": [
    "genexp_isolate2feature_mapping, genexp_features=produce_feature_matrix(data_dir+genexp_data_addr)"
   ]
  },
  {
   "cell_type": "code",
   "execution_count": 5,
   "metadata": {
    "collapsed": false,
    "deletable": true,
    "editable": true
   },
   "outputs": [],
   "source": [
    "snps_isolate2feature_mapping, snps_features=produce_feature_matrix(data_dir+snps_data_addr)"
   ]
  },
  {
   "cell_type": "code",
   "execution_count": 6,
   "metadata": {
    "collapsed": false,
    "deletable": true,
    "editable": true
   },
   "outputs": [],
   "source": [
    "genpa_isolate2feature_mapping, genpa_features=produce_feature_matrix(data_dir+gen_pres_abs_data_addr)"
   ]
  },
  {
   "cell_type": "code",
   "execution_count": 7,
   "metadata": {
    "collapsed": false,
    "deletable": true,
    "editable": true
   },
   "outputs": [],
   "source": [
    "common_islt=common_isolates([genexp_isolate2feature_mapping.keys(),snps_isolate2feature_mapping.keys(),genpa_isolate2feature_mapping.keys()])"
   ]
  },
  {
   "cell_type": "code",
   "execution_count": 8,
   "metadata": {
    "collapsed": false,
    "deletable": true,
    "editable": true
   },
   "outputs": [],
   "source": [
    "X_gene_exp=make_matrix(genexp_isolate2feature_mapping, common_islt)"
   ]
  },
  {
   "cell_type": "code",
   "execution_count": 9,
   "metadata": {
    "collapsed": false,
    "deletable": true,
    "editable": true
   },
   "outputs": [
    {
     "data": {
      "text/plain": [
       "(369, 6026)"
      ]
     },
     "execution_count": 9,
     "metadata": {},
     "output_type": "execute_result"
    }
   ],
   "source": [
    "X_gene_exp.shape"
   ]
  },
  {
   "cell_type": "code",
   "execution_count": 11,
   "metadata": {
    "collapsed": true,
    "deletable": true,
    "editable": true
   },
   "outputs": [],
   "source": [
    "X_gene_snp=make_matrix(snps_isolate2feature_mapping, common_islt)"
   ]
  },
  {
   "cell_type": "code",
   "execution_count": 12,
   "metadata": {
    "collapsed": false,
    "deletable": true,
    "editable": true
   },
   "outputs": [
    {
     "data": {
      "text/plain": [
       "(369, 281253)"
      ]
     },
     "execution_count": 12,
     "metadata": {},
     "output_type": "execute_result"
    }
   ],
   "source": [
    "X_gene_snp.shape"
   ]
  },
  {
   "cell_type": "code",
   "execution_count": 13,
   "metadata": {
    "collapsed": false,
    "deletable": true,
    "editable": true
   },
   "outputs": [
    {
     "data": {
      "text/plain": [
       "(369, 24054)"
      ]
     },
     "execution_count": 13,
     "metadata": {},
     "output_type": "execute_result"
    }
   ],
   "source": [
    "X_gene_pna=make_matrix(genpa_isolate2feature_mapping, common_islt)\n",
    "X_gene_pna.shape"
   ]
  },
  {
   "cell_type": "code",
   "execution_count": 44,
   "metadata": {
    "collapsed": true,
    "deletable": true,
    "editable": true
   },
   "outputs": [],
   "source": [
    "np.savetxt(data_dir+'mat_gen_exp.txt',X_gene_exp)\n",
    "np.savetxt(data_dir+'mat_gen_snp.txt',X_gene_snp)\n",
    "np.savetxt(data_dir+'mat_gen_pna.txt',X_gene_pna)"
   ]
  },
  {
   "cell_type": "code",
   "execution_count": 172,
   "metadata": {
    "collapsed": true,
    "deletable": true,
    "editable": true
   },
   "outputs": [],
   "source": [
    "labels=['genexp_'+x for x in genexp_features]+['snp_'+x for x in snps_features]+ ['gene_pa_'+x for x in genpa_features]\n",
    "X=np.concatenate((X_gene_exp,X_gene_snp,X_gene_pna), axis=1)"
   ]
  },
  {
   "cell_type": "code",
   "execution_count": 157,
   "metadata": {
    "collapsed": false,
    "deletable": true,
    "editable": true
   },
   "outputs": [
    {
     "ename": "KeyboardInterrupt",
     "evalue": "",
     "output_type": "error",
     "traceback": [
      "\u001b[0;31m---------------------------------------------------------------------------\u001b[0m",
      "\u001b[0;31mKeyboardInterrupt\u001b[0m                         Traceback (most recent call last)",
      "\u001b[0;32m<ipython-input-157-255d8ba44190>\u001b[0m in \u001b[0;36m<module>\u001b[0;34m()\u001b[0m\n\u001b[1;32m     10\u001b[0m     \u001b[0mresults\u001b[0m\u001b[0;34m[\u001b[0m\u001b[0mdrug\u001b[0m\u001b[0;34m]\u001b[0m\u001b[0;34m=\u001b[0m\u001b[0;34m[\u001b[0m\u001b[0;34m]\u001b[0m\u001b[0;34m\u001b[0m\u001b[0m\n\u001b[1;32m     11\u001b[0m     \u001b[0mXpart\u001b[0m\u001b[0;34m,\u001b[0m \u001b[0mY\u001b[0m\u001b[0;34m=\u001b[0m\u001b[0mmakeXY_prediction\u001b[0m\u001b[0;34m(\u001b[0m\u001b[0mX\u001b[0m\u001b[0;34m,\u001b[0m \u001b[0mdrug2labeledisolates_mapping\u001b[0m\u001b[0;34m[\u001b[0m\u001b[0mdrug\u001b[0m\u001b[0;34m]\u001b[0m\u001b[0;34m,\u001b[0m \u001b[0mcommon_islt\u001b[0m\u001b[0;34m)\u001b[0m\u001b[0;34m\u001b[0m\u001b[0m\n\u001b[0;32m---> 12\u001b[0;31m     \u001b[0mscores\u001b[0m \u001b[0;34m=\u001b[0m \u001b[0mcross_val_score\u001b[0m\u001b[0;34m(\u001b[0m\u001b[0mclf\u001b[0m\u001b[0;34m,\u001b[0m \u001b[0mXpart\u001b[0m\u001b[0;34m,\u001b[0m \u001b[0mY\u001b[0m\u001b[0;34m,\u001b[0m \u001b[0mcv\u001b[0m\u001b[0;34m=\u001b[0m\u001b[0mcv\u001b[0m\u001b[0;34m,\u001b[0m \u001b[0mscoring\u001b[0m\u001b[0;34m=\u001b[0m\u001b[0;34m'precision'\u001b[0m\u001b[0;34m)\u001b[0m\u001b[0;34m\u001b[0m\u001b[0m\n\u001b[0m\u001b[1;32m     13\u001b[0m     \u001b[0mprint\u001b[0m \u001b[0;34m(\u001b[0m\u001b[0mdrug\u001b[0m\u001b[0;34m)\u001b[0m\u001b[0;34m\u001b[0m\u001b[0m\n\u001b[1;32m     14\u001b[0m     \u001b[0mprint\u001b[0m\u001b[0;34m(\u001b[0m\u001b[0;34m\"precision: %0.2f (+/- %0.2f)\"\u001b[0m \u001b[0;34m%\u001b[0m \u001b[0;34m(\u001b[0m\u001b[0mscores\u001b[0m\u001b[0;34m.\u001b[0m\u001b[0mmean\u001b[0m\u001b[0;34m(\u001b[0m\u001b[0;34m)\u001b[0m\u001b[0;34m,\u001b[0m \u001b[0mscores\u001b[0m\u001b[0;34m.\u001b[0m\u001b[0mstd\u001b[0m\u001b[0;34m(\u001b[0m\u001b[0;34m)\u001b[0m\u001b[0;34m)\u001b[0m\u001b[0;34m)\u001b[0m\u001b[0;34m\u001b[0m\u001b[0m\n",
      "\u001b[0;32m/mounts/Users/student/asgari/.local/lib/python3.4/site-packages/sklearn/model_selection/_validation.py\u001b[0m in \u001b[0;36mcross_val_score\u001b[0;34m(estimator, X, y, groups, scoring, cv, n_jobs, verbose, fit_params, pre_dispatch)\u001b[0m\n\u001b[1;32m    138\u001b[0m                                               \u001b[0mtrain\u001b[0m\u001b[0;34m,\u001b[0m \u001b[0mtest\u001b[0m\u001b[0;34m,\u001b[0m \u001b[0mverbose\u001b[0m\u001b[0;34m,\u001b[0m \u001b[0;32mNone\u001b[0m\u001b[0;34m,\u001b[0m\u001b[0;34m\u001b[0m\u001b[0m\n\u001b[1;32m    139\u001b[0m                                               fit_params)\n\u001b[0;32m--> 140\u001b[0;31m                       for train, test in cv_iter)\n\u001b[0m\u001b[1;32m    141\u001b[0m     \u001b[0;32mreturn\u001b[0m \u001b[0mnp\u001b[0m\u001b[0;34m.\u001b[0m\u001b[0marray\u001b[0m\u001b[0;34m(\u001b[0m\u001b[0mscores\u001b[0m\u001b[0;34m)\u001b[0m\u001b[0;34m[\u001b[0m\u001b[0;34m:\u001b[0m\u001b[0;34m,\u001b[0m \u001b[0;36m0\u001b[0m\u001b[0;34m]\u001b[0m\u001b[0;34m\u001b[0m\u001b[0m\n\u001b[1;32m    142\u001b[0m \u001b[0;34m\u001b[0m\u001b[0m\n",
      "\u001b[0;32m/mounts/Users/student/asgari/.local/lib/python3.4/site-packages/sklearn/externals/joblib/parallel.py\u001b[0m in \u001b[0;36m__call__\u001b[0;34m(self, iterable)\u001b[0m\n\u001b[1;32m    756\u001b[0m             \u001b[0;31m# was dispatched. In particular this covers the edge\u001b[0m\u001b[0;34m\u001b[0m\u001b[0;34m\u001b[0m\u001b[0m\n\u001b[1;32m    757\u001b[0m             \u001b[0;31m# case of Parallel used with an exhausted iterator.\u001b[0m\u001b[0;34m\u001b[0m\u001b[0;34m\u001b[0m\u001b[0m\n\u001b[0;32m--> 758\u001b[0;31m             \u001b[0;32mwhile\u001b[0m \u001b[0mself\u001b[0m\u001b[0;34m.\u001b[0m\u001b[0mdispatch_one_batch\u001b[0m\u001b[0;34m(\u001b[0m\u001b[0miterator\u001b[0m\u001b[0;34m)\u001b[0m\u001b[0;34m:\u001b[0m\u001b[0;34m\u001b[0m\u001b[0m\n\u001b[0m\u001b[1;32m    759\u001b[0m                 \u001b[0mself\u001b[0m\u001b[0;34m.\u001b[0m\u001b[0m_iterating\u001b[0m \u001b[0;34m=\u001b[0m \u001b[0;32mTrue\u001b[0m\u001b[0;34m\u001b[0m\u001b[0m\n\u001b[1;32m    760\u001b[0m             \u001b[0;32melse\u001b[0m\u001b[0;34m:\u001b[0m\u001b[0;34m\u001b[0m\u001b[0m\n",
      "\u001b[0;32m/mounts/Users/student/asgari/.local/lib/python3.4/site-packages/sklearn/externals/joblib/parallel.py\u001b[0m in \u001b[0;36mdispatch_one_batch\u001b[0;34m(self, iterator)\u001b[0m\n\u001b[1;32m    606\u001b[0m                 \u001b[0;32mreturn\u001b[0m \u001b[0;32mFalse\u001b[0m\u001b[0;34m\u001b[0m\u001b[0m\n\u001b[1;32m    607\u001b[0m             \u001b[0;32melse\u001b[0m\u001b[0;34m:\u001b[0m\u001b[0;34m\u001b[0m\u001b[0m\n\u001b[0;32m--> 608\u001b[0;31m                 \u001b[0mself\u001b[0m\u001b[0;34m.\u001b[0m\u001b[0m_dispatch\u001b[0m\u001b[0;34m(\u001b[0m\u001b[0mtasks\u001b[0m\u001b[0;34m)\u001b[0m\u001b[0;34m\u001b[0m\u001b[0m\n\u001b[0m\u001b[1;32m    609\u001b[0m                 \u001b[0;32mreturn\u001b[0m \u001b[0;32mTrue\u001b[0m\u001b[0;34m\u001b[0m\u001b[0m\n\u001b[1;32m    610\u001b[0m \u001b[0;34m\u001b[0m\u001b[0m\n",
      "\u001b[0;32m/mounts/Users/student/asgari/.local/lib/python3.4/site-packages/sklearn/externals/joblib/parallel.py\u001b[0m in \u001b[0;36m_dispatch\u001b[0;34m(self, batch)\u001b[0m\n\u001b[1;32m    569\u001b[0m         \u001b[0mdispatch_timestamp\u001b[0m \u001b[0;34m=\u001b[0m \u001b[0mtime\u001b[0m\u001b[0;34m.\u001b[0m\u001b[0mtime\u001b[0m\u001b[0;34m(\u001b[0m\u001b[0;34m)\u001b[0m\u001b[0;34m\u001b[0m\u001b[0m\n\u001b[1;32m    570\u001b[0m         \u001b[0mcb\u001b[0m \u001b[0;34m=\u001b[0m \u001b[0mBatchCompletionCallBack\u001b[0m\u001b[0;34m(\u001b[0m\u001b[0mdispatch_timestamp\u001b[0m\u001b[0;34m,\u001b[0m \u001b[0mlen\u001b[0m\u001b[0;34m(\u001b[0m\u001b[0mbatch\u001b[0m\u001b[0;34m)\u001b[0m\u001b[0;34m,\u001b[0m \u001b[0mself\u001b[0m\u001b[0;34m)\u001b[0m\u001b[0;34m\u001b[0m\u001b[0m\n\u001b[0;32m--> 571\u001b[0;31m         \u001b[0mjob\u001b[0m \u001b[0;34m=\u001b[0m \u001b[0mself\u001b[0m\u001b[0;34m.\u001b[0m\u001b[0m_backend\u001b[0m\u001b[0;34m.\u001b[0m\u001b[0mapply_async\u001b[0m\u001b[0;34m(\u001b[0m\u001b[0mbatch\u001b[0m\u001b[0;34m,\u001b[0m \u001b[0mcallback\u001b[0m\u001b[0;34m=\u001b[0m\u001b[0mcb\u001b[0m\u001b[0;34m)\u001b[0m\u001b[0;34m\u001b[0m\u001b[0m\n\u001b[0m\u001b[1;32m    572\u001b[0m         \u001b[0mself\u001b[0m\u001b[0;34m.\u001b[0m\u001b[0m_jobs\u001b[0m\u001b[0;34m.\u001b[0m\u001b[0mappend\u001b[0m\u001b[0;34m(\u001b[0m\u001b[0mjob\u001b[0m\u001b[0;34m)\u001b[0m\u001b[0;34m\u001b[0m\u001b[0m\n\u001b[1;32m    573\u001b[0m \u001b[0;34m\u001b[0m\u001b[0m\n",
      "\u001b[0;32m/mounts/Users/student/asgari/.local/lib/python3.4/site-packages/sklearn/externals/joblib/_parallel_backends.py\u001b[0m in \u001b[0;36mapply_async\u001b[0;34m(self, func, callback)\u001b[0m\n\u001b[1;32m    107\u001b[0m     \u001b[0;32mdef\u001b[0m \u001b[0mapply_async\u001b[0m\u001b[0;34m(\u001b[0m\u001b[0mself\u001b[0m\u001b[0;34m,\u001b[0m \u001b[0mfunc\u001b[0m\u001b[0;34m,\u001b[0m \u001b[0mcallback\u001b[0m\u001b[0;34m=\u001b[0m\u001b[0;32mNone\u001b[0m\u001b[0;34m)\u001b[0m\u001b[0;34m:\u001b[0m\u001b[0;34m\u001b[0m\u001b[0m\n\u001b[1;32m    108\u001b[0m         \u001b[0;34m\"\"\"Schedule a func to be run\"\"\"\u001b[0m\u001b[0;34m\u001b[0m\u001b[0m\n\u001b[0;32m--> 109\u001b[0;31m         \u001b[0mresult\u001b[0m \u001b[0;34m=\u001b[0m \u001b[0mImmediateResult\u001b[0m\u001b[0;34m(\u001b[0m\u001b[0mfunc\u001b[0m\u001b[0;34m)\u001b[0m\u001b[0;34m\u001b[0m\u001b[0m\n\u001b[0m\u001b[1;32m    110\u001b[0m         \u001b[0;32mif\u001b[0m \u001b[0mcallback\u001b[0m\u001b[0;34m:\u001b[0m\u001b[0;34m\u001b[0m\u001b[0m\n\u001b[1;32m    111\u001b[0m             \u001b[0mcallback\u001b[0m\u001b[0;34m(\u001b[0m\u001b[0mresult\u001b[0m\u001b[0;34m)\u001b[0m\u001b[0;34m\u001b[0m\u001b[0m\n",
      "\u001b[0;32m/mounts/Users/student/asgari/.local/lib/python3.4/site-packages/sklearn/externals/joblib/_parallel_backends.py\u001b[0m in \u001b[0;36m__init__\u001b[0;34m(self, batch)\u001b[0m\n\u001b[1;32m    324\u001b[0m         \u001b[0;31m# Don't delay the application, to avoid keeping the input\u001b[0m\u001b[0;34m\u001b[0m\u001b[0;34m\u001b[0m\u001b[0m\n\u001b[1;32m    325\u001b[0m         \u001b[0;31m# arguments in memory\u001b[0m\u001b[0;34m\u001b[0m\u001b[0;34m\u001b[0m\u001b[0m\n\u001b[0;32m--> 326\u001b[0;31m         \u001b[0mself\u001b[0m\u001b[0;34m.\u001b[0m\u001b[0mresults\u001b[0m \u001b[0;34m=\u001b[0m \u001b[0mbatch\u001b[0m\u001b[0;34m(\u001b[0m\u001b[0;34m)\u001b[0m\u001b[0;34m\u001b[0m\u001b[0m\n\u001b[0m\u001b[1;32m    327\u001b[0m \u001b[0;34m\u001b[0m\u001b[0m\n\u001b[1;32m    328\u001b[0m     \u001b[0;32mdef\u001b[0m \u001b[0mget\u001b[0m\u001b[0;34m(\u001b[0m\u001b[0mself\u001b[0m\u001b[0;34m)\u001b[0m\u001b[0;34m:\u001b[0m\u001b[0;34m\u001b[0m\u001b[0m\n",
      "\u001b[0;32m/mounts/Users/student/asgari/.local/lib/python3.4/site-packages/sklearn/externals/joblib/parallel.py\u001b[0m in \u001b[0;36m__call__\u001b[0;34m(self)\u001b[0m\n\u001b[1;32m    129\u001b[0m \u001b[0;34m\u001b[0m\u001b[0m\n\u001b[1;32m    130\u001b[0m     \u001b[0;32mdef\u001b[0m \u001b[0m__call__\u001b[0m\u001b[0;34m(\u001b[0m\u001b[0mself\u001b[0m\u001b[0;34m)\u001b[0m\u001b[0;34m:\u001b[0m\u001b[0;34m\u001b[0m\u001b[0m\n\u001b[0;32m--> 131\u001b[0;31m         \u001b[0;32mreturn\u001b[0m \u001b[0;34m[\u001b[0m\u001b[0mfunc\u001b[0m\u001b[0;34m(\u001b[0m\u001b[0;34m*\u001b[0m\u001b[0margs\u001b[0m\u001b[0;34m,\u001b[0m \u001b[0;34m**\u001b[0m\u001b[0mkwargs\u001b[0m\u001b[0;34m)\u001b[0m \u001b[0;32mfor\u001b[0m \u001b[0mfunc\u001b[0m\u001b[0;34m,\u001b[0m \u001b[0margs\u001b[0m\u001b[0;34m,\u001b[0m \u001b[0mkwargs\u001b[0m \u001b[0;32min\u001b[0m \u001b[0mself\u001b[0m\u001b[0;34m.\u001b[0m\u001b[0mitems\u001b[0m\u001b[0;34m]\u001b[0m\u001b[0;34m\u001b[0m\u001b[0m\n\u001b[0m\u001b[1;32m    132\u001b[0m \u001b[0;34m\u001b[0m\u001b[0m\n\u001b[1;32m    133\u001b[0m     \u001b[0;32mdef\u001b[0m \u001b[0m__len__\u001b[0m\u001b[0;34m(\u001b[0m\u001b[0mself\u001b[0m\u001b[0;34m)\u001b[0m\u001b[0;34m:\u001b[0m\u001b[0;34m\u001b[0m\u001b[0m\n",
      "\u001b[0;32m/mounts/Users/student/asgari/.local/lib/python3.4/site-packages/sklearn/externals/joblib/parallel.py\u001b[0m in \u001b[0;36m<listcomp>\u001b[0;34m(.0)\u001b[0m\n\u001b[1;32m    129\u001b[0m \u001b[0;34m\u001b[0m\u001b[0m\n\u001b[1;32m    130\u001b[0m     \u001b[0;32mdef\u001b[0m \u001b[0m__call__\u001b[0m\u001b[0;34m(\u001b[0m\u001b[0mself\u001b[0m\u001b[0;34m)\u001b[0m\u001b[0;34m:\u001b[0m\u001b[0;34m\u001b[0m\u001b[0m\n\u001b[0;32m--> 131\u001b[0;31m         \u001b[0;32mreturn\u001b[0m \u001b[0;34m[\u001b[0m\u001b[0mfunc\u001b[0m\u001b[0;34m(\u001b[0m\u001b[0;34m*\u001b[0m\u001b[0margs\u001b[0m\u001b[0;34m,\u001b[0m \u001b[0;34m**\u001b[0m\u001b[0mkwargs\u001b[0m\u001b[0;34m)\u001b[0m \u001b[0;32mfor\u001b[0m \u001b[0mfunc\u001b[0m\u001b[0;34m,\u001b[0m \u001b[0margs\u001b[0m\u001b[0;34m,\u001b[0m \u001b[0mkwargs\u001b[0m \u001b[0;32min\u001b[0m \u001b[0mself\u001b[0m\u001b[0;34m.\u001b[0m\u001b[0mitems\u001b[0m\u001b[0;34m]\u001b[0m\u001b[0;34m\u001b[0m\u001b[0m\n\u001b[0m\u001b[1;32m    132\u001b[0m \u001b[0;34m\u001b[0m\u001b[0m\n\u001b[1;32m    133\u001b[0m     \u001b[0;32mdef\u001b[0m \u001b[0m__len__\u001b[0m\u001b[0;34m(\u001b[0m\u001b[0mself\u001b[0m\u001b[0;34m)\u001b[0m\u001b[0;34m:\u001b[0m\u001b[0;34m\u001b[0m\u001b[0m\n",
      "\u001b[0;32m/mounts/Users/student/asgari/.local/lib/python3.4/site-packages/sklearn/model_selection/_validation.py\u001b[0m in \u001b[0;36m_fit_and_score\u001b[0;34m(estimator, X, y, scorer, train, test, verbose, parameters, fit_params, return_train_score, return_parameters, return_n_test_samples, return_times, error_score)\u001b[0m\n\u001b[1;32m    236\u001b[0m             \u001b[0mestimator\u001b[0m\u001b[0;34m.\u001b[0m\u001b[0mfit\u001b[0m\u001b[0;34m(\u001b[0m\u001b[0mX_train\u001b[0m\u001b[0;34m,\u001b[0m \u001b[0;34m**\u001b[0m\u001b[0mfit_params\u001b[0m\u001b[0;34m)\u001b[0m\u001b[0;34m\u001b[0m\u001b[0m\n\u001b[1;32m    237\u001b[0m         \u001b[0;32melse\u001b[0m\u001b[0;34m:\u001b[0m\u001b[0;34m\u001b[0m\u001b[0m\n\u001b[0;32m--> 238\u001b[0;31m             \u001b[0mestimator\u001b[0m\u001b[0;34m.\u001b[0m\u001b[0mfit\u001b[0m\u001b[0;34m(\u001b[0m\u001b[0mX_train\u001b[0m\u001b[0;34m,\u001b[0m \u001b[0my_train\u001b[0m\u001b[0;34m,\u001b[0m \u001b[0;34m**\u001b[0m\u001b[0mfit_params\u001b[0m\u001b[0;34m)\u001b[0m\u001b[0;34m\u001b[0m\u001b[0m\n\u001b[0m\u001b[1;32m    239\u001b[0m \u001b[0;34m\u001b[0m\u001b[0m\n\u001b[1;32m    240\u001b[0m     \u001b[0;32mexcept\u001b[0m \u001b[0mException\u001b[0m \u001b[0;32mas\u001b[0m \u001b[0me\u001b[0m\u001b[0;34m:\u001b[0m\u001b[0;34m\u001b[0m\u001b[0m\n",
      "\u001b[0;32m/mounts/Users/student/asgari/.local/lib/python3.4/site-packages/sklearn/neural_network/multilayer_perceptron.py\u001b[0m in \u001b[0;36mfit\u001b[0;34m(self, X, y)\u001b[0m\n\u001b[1;32m    616\u001b[0m         \u001b[0mself\u001b[0m \u001b[0;34m:\u001b[0m \u001b[0mreturns\u001b[0m \u001b[0ma\u001b[0m \u001b[0mtrained\u001b[0m \u001b[0mMLP\u001b[0m \u001b[0mmodel\u001b[0m\u001b[0;34m.\u001b[0m\u001b[0;34m\u001b[0m\u001b[0m\n\u001b[1;32m    617\u001b[0m         \"\"\"\n\u001b[0;32m--> 618\u001b[0;31m         \u001b[0;32mreturn\u001b[0m \u001b[0mself\u001b[0m\u001b[0;34m.\u001b[0m\u001b[0m_fit\u001b[0m\u001b[0;34m(\u001b[0m\u001b[0mX\u001b[0m\u001b[0;34m,\u001b[0m \u001b[0my\u001b[0m\u001b[0;34m,\u001b[0m \u001b[0mincremental\u001b[0m\u001b[0;34m=\u001b[0m\u001b[0;32mFalse\u001b[0m\u001b[0;34m)\u001b[0m\u001b[0;34m\u001b[0m\u001b[0m\n\u001b[0m\u001b[1;32m    619\u001b[0m \u001b[0;34m\u001b[0m\u001b[0m\n\u001b[1;32m    620\u001b[0m     \u001b[0;34m@\u001b[0m\u001b[0mproperty\u001b[0m\u001b[0;34m\u001b[0m\u001b[0m\n",
      "\u001b[0;32m/mounts/Users/student/asgari/.local/lib/python3.4/site-packages/sklearn/neural_network/multilayer_perceptron.py\u001b[0m in \u001b[0;36m_fit\u001b[0;34m(self, X, y, incremental)\u001b[0m\n\u001b[1;32m    380\u001b[0m         \u001b[0;32melif\u001b[0m \u001b[0mself\u001b[0m\u001b[0;34m.\u001b[0m\u001b[0msolver\u001b[0m \u001b[0;34m==\u001b[0m \u001b[0;34m'lbfgs'\u001b[0m\u001b[0;34m:\u001b[0m\u001b[0;34m\u001b[0m\u001b[0m\n\u001b[1;32m    381\u001b[0m             self._fit_lbfgs(X, y, activations, deltas, coef_grads,\n\u001b[0;32m--> 382\u001b[0;31m                             intercept_grads, layer_units)\n\u001b[0m\u001b[1;32m    383\u001b[0m         \u001b[0;32mreturn\u001b[0m \u001b[0mself\u001b[0m\u001b[0;34m\u001b[0m\u001b[0m\n\u001b[1;32m    384\u001b[0m \u001b[0;34m\u001b[0m\u001b[0m\n",
      "\u001b[0;32m/mounts/Users/student/asgari/.local/lib/python3.4/site-packages/sklearn/neural_network/multilayer_perceptron.py\u001b[0m in \u001b[0;36m_fit_lbfgs\u001b[0;34m(self, X, y, activations, deltas, coef_grads, intercept_grads, layer_units)\u001b[0m\n\u001b[1;32m    467\u001b[0m             \u001b[0miprint\u001b[0m\u001b[0;34m=\u001b[0m\u001b[0miprint\u001b[0m\u001b[0;34m,\u001b[0m\u001b[0;34m\u001b[0m\u001b[0m\n\u001b[1;32m    468\u001b[0m             \u001b[0mpgtol\u001b[0m\u001b[0;34m=\u001b[0m\u001b[0mself\u001b[0m\u001b[0;34m.\u001b[0m\u001b[0mtol\u001b[0m\u001b[0;34m,\u001b[0m\u001b[0;34m\u001b[0m\u001b[0m\n\u001b[0;32m--> 469\u001b[0;31m             args=(X, y, activations, deltas, coef_grads, intercept_grads))\n\u001b[0m\u001b[1;32m    470\u001b[0m \u001b[0;34m\u001b[0m\u001b[0m\n\u001b[1;32m    471\u001b[0m         \u001b[0mself\u001b[0m\u001b[0;34m.\u001b[0m\u001b[0m_unpack\u001b[0m\u001b[0;34m(\u001b[0m\u001b[0moptimal_parameters\u001b[0m\u001b[0;34m)\u001b[0m\u001b[0;34m\u001b[0m\u001b[0m\n",
      "\u001b[0;32m/usr/lib64/python3.4/site-packages/scipy/optimize/lbfgsb.py\u001b[0m in \u001b[0;36mfmin_l_bfgs_b\u001b[0;34m(func, x0, fprime, args, approx_grad, bounds, m, factr, pgtol, epsilon, iprint, maxfun, maxiter, disp, callback, maxls)\u001b[0m\n\u001b[1;32m    191\u001b[0m \u001b[0;34m\u001b[0m\u001b[0m\n\u001b[1;32m    192\u001b[0m     res = _minimize_lbfgsb(fun, x0, args=args, jac=jac, bounds=bounds,\n\u001b[0;32m--> 193\u001b[0;31m                            **opts)\n\u001b[0m\u001b[1;32m    194\u001b[0m     d = {'grad': res['jac'],\n\u001b[1;32m    195\u001b[0m          \u001b[0;34m'task'\u001b[0m\u001b[0;34m:\u001b[0m \u001b[0mres\u001b[0m\u001b[0;34m[\u001b[0m\u001b[0;34m'message'\u001b[0m\u001b[0;34m]\u001b[0m\u001b[0;34m,\u001b[0m\u001b[0;34m\u001b[0m\u001b[0m\n",
      "\u001b[0;32m/usr/lib64/python3.4/site-packages/scipy/optimize/lbfgsb.py\u001b[0m in \u001b[0;36m_minimize_lbfgsb\u001b[0;34m(fun, x0, args, jac, bounds, disp, maxcor, ftol, gtol, eps, maxfun, maxiter, iprint, callback, maxls, **unknown_options)\u001b[0m\n\u001b[1;32m    319\u001b[0m         _lbfgsb.setulb(m, x, low_bnd, upper_bnd, nbd, f, g, factr,\n\u001b[1;32m    320\u001b[0m                        \u001b[0mpgtol\u001b[0m\u001b[0;34m,\u001b[0m \u001b[0mwa\u001b[0m\u001b[0;34m,\u001b[0m \u001b[0miwa\u001b[0m\u001b[0;34m,\u001b[0m \u001b[0mtask\u001b[0m\u001b[0;34m,\u001b[0m \u001b[0miprint\u001b[0m\u001b[0;34m,\u001b[0m \u001b[0mcsave\u001b[0m\u001b[0;34m,\u001b[0m \u001b[0mlsave\u001b[0m\u001b[0;34m,\u001b[0m\u001b[0;34m\u001b[0m\u001b[0m\n\u001b[0;32m--> 321\u001b[0;31m                        isave, dsave, maxls)\n\u001b[0m\u001b[1;32m    322\u001b[0m         \u001b[0mtask_str\u001b[0m \u001b[0;34m=\u001b[0m \u001b[0mtask\u001b[0m\u001b[0;34m.\u001b[0m\u001b[0mtostring\u001b[0m\u001b[0;34m(\u001b[0m\u001b[0;34m)\u001b[0m\u001b[0;34m\u001b[0m\u001b[0m\n\u001b[1;32m    323\u001b[0m         \u001b[0;32mif\u001b[0m \u001b[0mtask_str\u001b[0m\u001b[0;34m.\u001b[0m\u001b[0mstartswith\u001b[0m\u001b[0;34m(\u001b[0m\u001b[0;34mb'FG'\u001b[0m\u001b[0;34m)\u001b[0m\u001b[0;34m:\u001b[0m\u001b[0;34m\u001b[0m\u001b[0m\n",
      "\u001b[0;31mKeyboardInterrupt\u001b[0m: "
     ]
    }
   ],
   "source": [
    "## Classification\n",
    "from sklearn.neural_network import MLPClassifier\n",
    "\n",
    "clf = MLPClassifier(solver='lbfgs', alpha=1e-5, hidden_layer_sizes=(100, 2), random_state=1)\n",
    "\n",
    "cv = ShuffleSplit(n_splits=10, test_size=0.2, random_state=1)\n",
    "\n",
    "results_mlp=dict()\n",
    "for drug in drug_names:\n",
    "    results[drug]=[]\n",
    "    Xpart, Y=makeXY_prediction(X, drug2labeledisolates_mapping[drug], common_islt)\n",
    "    scores = cross_val_score(clf, Xpart, Y, cv=cv, scoring='precision')\n",
    "    print (drug)\n",
    "    print(\"precision: %0.2f (+/- %0.2f)\" % (scores.mean(), scores.std()))\n",
    "    results_mlp[drug].append(('RF','precision',scores.mean(), scores.std()))\n",
    "\n",
    "    scores = cross_val_score(clf, Xpart, Y, cv=cv, scoring='recall')\n",
    "    print(\"recall: %0.2f (+/- %0.2f)\" % (scores.mean(), scores.std()))\n",
    "    results_mlp[drug].append(('RF','recall',scores.mean(), scores.std()))\n",
    "\n",
    "    scores = cross_val_score(clf, Xpart, Y, cv=cv, scoring='f1')\n",
    "    print(\"f1: %0.2f (+/- %0.2f)\" % (scores.mean(), scores.std()))\n",
    "    results_mlp[drug].append(('RF','f1',scores.mean(), scores.std()))\n",
    "\n",
    "    scores = cross_val_score(clf, Xpart, Y, cv=cv, scoring='roc_auc')\n",
    "    print(\"roc_auc: %0.2f (+/- %0.2f)\" % (scores.mean(), scores.std()))\n",
    "    results_mlp[drug].append(('RF','roc_auc',scores.mean(), scores.std()))\n",
    "\n",
    "\n",
    "\n"
   ]
  },
  {
   "cell_type": "code",
   "execution_count": 162,
   "metadata": {
    "collapsed": false,
    "deletable": true,
    "editable": true
   },
   "outputs": [
    {
     "name": "stdout",
     "output_type": "stream",
     "text": [
      "Ciprofloxacin\n",
      "precision: 0.81 (+/- 0.04)\n",
      "recall: 0.74 (+/- 0.06)\n",
      "f1: 0.79 (+/- 0.02)\n",
      "f1: 0.79 (+/- 0.03)\n",
      "Tobramycin\n",
      "precision: 0.94 (+/- 0.04)\n",
      "recall: 0.79 (+/- 0.05)\n",
      "f1: 0.86 (+/- 0.04)\n",
      "f1: 0.94 (+/- 0.03)\n",
      "Colistin\n",
      "precision: 0.65 (+/- 0.45)\n",
      "recall: 0.14 (+/- 0.23)\n"
     ]
    },
    {
     "name": "stderr",
     "output_type": "stream",
     "text": [
      "/mounts/Users/student/asgari/.local/lib/python3.4/site-packages/sklearn/metrics/classification.py:1113: UndefinedMetricWarning: F-score is ill-defined and being set to 0.0 due to no predicted samples.\n",
      "  'precision', 'predicted', average, warn_for)\n",
      "/mounts/Users/student/asgari/.local/lib/python3.4/site-packages/sklearn/metrics/classification.py:1113: UndefinedMetricWarning: F-score is ill-defined and being set to 0.0 due to no predicted samples.\n",
      "  'precision', 'predicted', average, warn_for)\n"
     ]
    },
    {
     "name": "stdout",
     "output_type": "stream",
     "text": [
      "f1: 0.27 (+/- 0.19)\n",
      "f1: 0.80 (+/- 0.17)\n",
      "Ceftazidim\n",
      "precision: 0.69 (+/- 0.08)\n",
      "recall: 0.65 (+/- 0.11)\n",
      "f1: 0.67 (+/- 0.05)\n",
      "f1: 0.75 (+/- 0.05)\n",
      "Meropenem\n",
      "precision: 0.78 (+/- 0.03)\n",
      "recall: 0.90 (+/- 0.04)\n",
      "f1: 0.83 (+/- 0.03)\n",
      "f1: 0.65 (+/- 0.06)\n"
     ]
    }
   ],
   "source": [
    "## Classification\n",
    "from sklearn.model_selection import cross_val_score\n",
    "from sklearn.model_selection import ShuffleSplit\n",
    "from sklearn.metrics import confusion_matrix, f1_score\n",
    "from sklearn.ensemble import RandomForestClassifier\n",
    "\n",
    "\n",
    "cv = ShuffleSplit(n_splits=10, test_size=0.2, random_state=1)\n",
    "results_old=results\n",
    "results=dict()\n",
    "for drug in drug_names:\n",
    "    results[drug]=[]\n",
    "    Xpart, Y=makeXY_prediction(X, drug2labeledisolates_mapping[drug], common_islt)\n",
    "\n",
    "    ones=np.sum(Y)\n",
    "    zeros=len(Y)-np.sum(Y)\n",
    "#    {1:ones, 0:zeros}\n",
    "    clf_random_forest=RandomForestClassifier(bootstrap=True, class_weight=None, criterion='gini',\n",
    "            max_depth=None, max_features='auto', max_leaf_nodes=None,\n",
    "            min_samples_leaf=1, min_samples_split=2,\n",
    "            min_weight_fraction_leaf=0.0, n_estimators=10, n_jobs=30,\n",
    "            oob_score=False, random_state=None, verbose=0,\n",
    "            warm_start=False)\n",
    "    \n",
    "    scores = cross_val_score(clf_random_forest, Xpart, Y, cv=cv, scoring='precision')\n",
    "    print (drug)\n",
    "    print(\"precision: %0.2f (+/- %0.2f)\" % (scores.mean(), scores.std()))\n",
    "    results[drug].append(('RF','precision',scores.mean(), scores.std()))\n",
    "\n",
    "    scores = cross_val_score(clf_random_forest, Xpart, Y, cv=cv, scoring='recall')\n",
    "    print(\"recall: %0.2f (+/- %0.2f)\" % (scores.mean(), scores.std()))\n",
    "    results[drug].append(('RF','recall',scores.mean(), scores.std()))\n",
    "\n",
    "    scores = cross_val_score(clf_random_forest, Xpart, Y, cv=cv, scoring='f1')\n",
    "    print(\"f1: %0.2f (+/- %0.2f)\" % (scores.mean(), scores.std()))\n",
    "    results[drug].append(('RF','f1',scores.mean(), scores.std()))\n",
    "\n",
    "    scores = cross_val_score(clf_random_forest, Xpart, Y, cv=cv, scoring='roc_auc')\n",
    "    print(\"f1: %0.2f (+/- %0.2f)\" % (scores.mean(), scores.std()))\n",
    "    results[drug].append(('RF','roc_auc',scores.mean(), scores.std()))\n",
    "\n",
    "\n"
   ]
  },
  {
   "cell_type": "code",
   "execution_count": 165,
   "metadata": {
    "collapsed": false,
    "deletable": true,
    "editable": true
   },
   "outputs": [
    {
     "name": "stdout",
     "output_type": "stream",
     "text": [
      "Ciprofloxacin\n",
      "[('RF', 'precision', 0.80945817112999785, 0.037368626519621674), ('RF', 'recall', 0.73928688063685222, 0.058320473245165774), ('RF', 'f1', 0.78991940783812697, 0.02405421780785472), ('RF', 'roc_auc', 0.79492647269188388, 0.033237086547002373)]\n",
      "[('RF', 'precision', 0.7888834200523307, 0.073681698158250916), ('RF', 'recall', 0.75574936219008826, 0.055954507135103616), ('RF', 'f1', 0.75278500129444104, 0.044940251340472581), ('RF', 'roc_auc', 0.80945854957606811, 0.048887435231658449)]\n",
      "Meropenem\n",
      "[('RF', 'precision', 0.78015733474430715, 0.033878603584909746), ('RF', 'recall', 0.90141008561293856, 0.040814020869795214), ('RF', 'f1', 0.82993841073389907, 0.031336122149510204), ('RF', 'roc_auc', 0.65253848671669856, 0.061098121152711418)]\n",
      "[('RF', 'precision', 0.77616870397244997, 0.03331994581045241), ('RF', 'recall', 0.87563092379675767, 0.065548657409584529), ('RF', 'f1', 0.83041122257352007, 0.021557148272338272), ('RF', 'roc_auc', 0.67211860458107942, 0.10960502716201165)]\n",
      "Ceftazidim\n",
      "[('RF', 'precision', 0.69176707516754465, 0.084267697229953545), ('RF', 'recall', 0.65314171138574417, 0.10811879278664285), ('RF', 'f1', 0.67160969362074197, 0.047995928829367866), ('RF', 'roc_auc', 0.74615227768345893, 0.045743691613520251)]\n",
      "[('RF', 'precision', 0.72483556099293145, 0.077833953510913823), ('RF', 'recall', 0.71876795441461383, 0.070251852299813289), ('RF', 'f1', 0.69271641593365518, 0.037477945136575555), ('RF', 'roc_auc', 0.72398570724961742, 0.067291648259439008)]\n",
      "Tobramycin\n",
      "[('RF', 'precision', 0.94197918024005001, 0.040780006399040579), ('RF', 'recall', 0.79210284663914421, 0.054721959120363282), ('RF', 'f1', 0.85652537754697067, 0.041270189022354888), ('RF', 'roc_auc', 0.94331957573752201, 0.029426715853173663)]\n",
      "[('RF', 'precision', 0.92761114859799076, 0.054003222155826279), ('RF', 'recall', 0.80935711958942458, 0.046669256683847811), ('RF', 'f1', 0.86314880022643303, 0.039859692478732237), ('RF', 'roc_auc', 0.94039973089541085, 0.030785263395031921)]\n",
      "Colistin\n",
      "[('RF', 'precision', 0.65000000000000002, 0.45000000000000007), ('RF', 'recall', 0.13666666666666666, 0.23402279091290804), ('RF', 'f1', 0.26857142857142857, 0.18805846536265744), ('RF', 'roc_auc', 0.79612366502170084, 0.1736044762522406)]\n",
      "[('RF', 'precision', 0.18333333333333332, 0.32015621187164245), ('RF', 'recall', 0.044999999999999998, 0.090691785736085273), ('RF', 'f1', 0.26190476190476192, 0.22512279340138691), ('RF', 'roc_auc', 0.78854857409449985, 0.10402795541397267)]\n"
     ]
    }
   ],
   "source": [
    "for x in list(results.keys()):\n",
    "    print (x)\n",
    "    print(results[x])\n",
    "    print(results_old[x])\n",
    "\n"
   ]
  },
  {
   "cell_type": "code",
   "execution_count": 131,
   "metadata": {
    "collapsed": false,
    "deletable": true,
    "editable": true
   },
   "outputs": [
    {
     "name": "stderr",
     "output_type": "stream",
     "text": [
      "/mounts/Users/student/asgari/.local/lib/python3.4/site-packages/sklearn/metrics/classification.py:1113: UndefinedMetricWarning: Precision is ill-defined and being set to 0.0 in labels with no predicted samples.\n",
      "  'precision', 'predicted', average, warn_for)\n",
      "/mounts/Users/student/asgari/.local/lib/python3.4/site-packages/sklearn/metrics/classification.py:1113: UndefinedMetricWarning: Precision is ill-defined and being set to 0.0 in labels with no predicted samples.\n",
      "  'precision', 'predicted', average, warn_for)\n",
      "/mounts/Users/student/asgari/.local/lib/python3.4/site-packages/sklearn/metrics/classification.py:1113: UndefinedMetricWarning: Precision is ill-defined and being set to 0.0 in labels with no predicted samples.\n",
      "  'precision', 'predicted', average, warn_for)\n",
      "/mounts/Users/student/asgari/.local/lib/python3.4/site-packages/sklearn/metrics/classification.py:1113: UndefinedMetricWarning: Precision is ill-defined and being set to 0.0 in labels with no predicted samples.\n",
      "  'precision', 'predicted', average, warn_for)\n"
     ]
    },
    {
     "name": "stdout",
     "output_type": "stream",
     "text": [
      "Colistin\n",
      "precision: 0.68 (+/- 0.25)\n",
      "recall: 0.68 (+/- 0.18)\n"
     ]
    },
    {
     "name": "stderr",
     "output_type": "stream",
     "text": [
      "/mounts/Users/student/asgari/.local/lib/python3.4/site-packages/sklearn/metrics/classification.py:1113: UndefinedMetricWarning: F-score is ill-defined and being set to 0.0 in labels with no predicted samples.\n",
      "  'precision', 'predicted', average, warn_for)\n",
      "/mounts/Users/student/asgari/.local/lib/python3.4/site-packages/sklearn/metrics/classification.py:1113: UndefinedMetricWarning: F-score is ill-defined and being set to 0.0 in labels with no predicted samples.\n",
      "  'precision', 'predicted', average, warn_for)\n",
      "/mounts/Users/student/asgari/.local/lib/python3.4/site-packages/sklearn/metrics/classification.py:1113: UndefinedMetricWarning: F-score is ill-defined and being set to 0.0 in labels with no predicted samples.\n",
      "  'precision', 'predicted', average, warn_for)\n",
      "/mounts/Users/student/asgari/.local/lib/python3.4/site-packages/sklearn/metrics/classification.py:1113: UndefinedMetricWarning: F-score is ill-defined and being set to 0.0 in labels with no predicted samples.\n",
      "  'precision', 'predicted', average, warn_for)\n"
     ]
    },
    {
     "name": "stdout",
     "output_type": "stream",
     "text": [
      "f1_macro: 0.61 (+/- 0.17)\n"
     ]
    },
    {
     "ename": "ValueError",
     "evalue": "Only one class present in y_true. ROC AUC score is not defined in that case.",
     "output_type": "error",
     "traceback": [
      "\u001b[0;31m---------------------------------------------------------------------------\u001b[0m",
      "\u001b[0;31mValueError\u001b[0m                                Traceback (most recent call last)",
      "\u001b[0;32m<ipython-input-131-5322de869fff>\u001b[0m in \u001b[0;36m<module>\u001b[0;34m()\u001b[0m\n\u001b[1;32m     17\u001b[0m \u001b[0mresults\u001b[0m\u001b[0;34m[\u001b[0m\u001b[0mdrug\u001b[0m\u001b[0;34m]\u001b[0m\u001b[0;34m.\u001b[0m\u001b[0mappend\u001b[0m\u001b[0;34m(\u001b[0m\u001b[0;34m(\u001b[0m\u001b[0;34m'RF'\u001b[0m\u001b[0;34m,\u001b[0m\u001b[0;34m'f1'\u001b[0m\u001b[0;34m,\u001b[0m\u001b[0mscores\u001b[0m\u001b[0;34m.\u001b[0m\u001b[0mmean\u001b[0m\u001b[0;34m(\u001b[0m\u001b[0;34m)\u001b[0m\u001b[0;34m,\u001b[0m \u001b[0mscores\u001b[0m\u001b[0;34m.\u001b[0m\u001b[0mstd\u001b[0m\u001b[0;34m(\u001b[0m\u001b[0;34m)\u001b[0m\u001b[0;34m)\u001b[0m\u001b[0;34m)\u001b[0m\u001b[0;34m\u001b[0m\u001b[0m\n\u001b[1;32m     18\u001b[0m \u001b[0;34m\u001b[0m\u001b[0m\n\u001b[0;32m---> 19\u001b[0;31m \u001b[0mscores\u001b[0m \u001b[0;34m=\u001b[0m \u001b[0mcross_val_score\u001b[0m\u001b[0;34m(\u001b[0m\u001b[0mclf_random_forest\u001b[0m\u001b[0;34m,\u001b[0m \u001b[0mXpart\u001b[0m\u001b[0;34m,\u001b[0m \u001b[0mY\u001b[0m\u001b[0;34m,\u001b[0m \u001b[0mcv\u001b[0m\u001b[0;34m=\u001b[0m\u001b[0mcv\u001b[0m\u001b[0;34m,\u001b[0m \u001b[0mscoring\u001b[0m\u001b[0;34m=\u001b[0m\u001b[0;34m'roc_auc'\u001b[0m\u001b[0;34m)\u001b[0m\u001b[0;34m\u001b[0m\u001b[0m\n\u001b[0m\u001b[1;32m     20\u001b[0m \u001b[0mprint\u001b[0m\u001b[0;34m(\u001b[0m\u001b[0;34m\"roc_auc: %0.2f (+/- %0.2f)\"\u001b[0m \u001b[0;34m%\u001b[0m \u001b[0;34m(\u001b[0m\u001b[0mscores\u001b[0m\u001b[0;34m.\u001b[0m\u001b[0mmean\u001b[0m\u001b[0;34m(\u001b[0m\u001b[0;34m)\u001b[0m\u001b[0;34m,\u001b[0m \u001b[0mscores\u001b[0m\u001b[0;34m.\u001b[0m\u001b[0mstd\u001b[0m\u001b[0;34m(\u001b[0m\u001b[0;34m)\u001b[0m\u001b[0;34m)\u001b[0m\u001b[0;34m)\u001b[0m\u001b[0;34m\u001b[0m\u001b[0m\n\u001b[1;32m     21\u001b[0m \u001b[0mresults\u001b[0m\u001b[0;34m[\u001b[0m\u001b[0mdrug\u001b[0m\u001b[0;34m]\u001b[0m\u001b[0;34m.\u001b[0m\u001b[0mappend\u001b[0m\u001b[0;34m(\u001b[0m\u001b[0;34m(\u001b[0m\u001b[0;34m'RF'\u001b[0m\u001b[0;34m,\u001b[0m\u001b[0;34m'roc_auc'\u001b[0m\u001b[0;34m,\u001b[0m\u001b[0mscores\u001b[0m\u001b[0;34m.\u001b[0m\u001b[0mmean\u001b[0m\u001b[0;34m(\u001b[0m\u001b[0;34m)\u001b[0m\u001b[0;34m,\u001b[0m \u001b[0mscores\u001b[0m\u001b[0;34m.\u001b[0m\u001b[0mstd\u001b[0m\u001b[0;34m(\u001b[0m\u001b[0;34m)\u001b[0m\u001b[0;34m)\u001b[0m\u001b[0;34m)\u001b[0m\u001b[0;34m\u001b[0m\u001b[0m\n",
      "\u001b[0;32m/mounts/Users/student/asgari/.local/lib/python3.4/site-packages/sklearn/model_selection/_validation.py\u001b[0m in \u001b[0;36mcross_val_score\u001b[0;34m(estimator, X, y, groups, scoring, cv, n_jobs, verbose, fit_params, pre_dispatch)\u001b[0m\n\u001b[1;32m    138\u001b[0m                                               \u001b[0mtrain\u001b[0m\u001b[0;34m,\u001b[0m \u001b[0mtest\u001b[0m\u001b[0;34m,\u001b[0m \u001b[0mverbose\u001b[0m\u001b[0;34m,\u001b[0m \u001b[0;32mNone\u001b[0m\u001b[0;34m,\u001b[0m\u001b[0;34m\u001b[0m\u001b[0m\n\u001b[1;32m    139\u001b[0m                                               fit_params)\n\u001b[0;32m--> 140\u001b[0;31m                       for train, test in cv_iter)\n\u001b[0m\u001b[1;32m    141\u001b[0m     \u001b[0;32mreturn\u001b[0m \u001b[0mnp\u001b[0m\u001b[0;34m.\u001b[0m\u001b[0marray\u001b[0m\u001b[0;34m(\u001b[0m\u001b[0mscores\u001b[0m\u001b[0;34m)\u001b[0m\u001b[0;34m[\u001b[0m\u001b[0;34m:\u001b[0m\u001b[0;34m,\u001b[0m \u001b[0;36m0\u001b[0m\u001b[0;34m]\u001b[0m\u001b[0;34m\u001b[0m\u001b[0m\n\u001b[1;32m    142\u001b[0m \u001b[0;34m\u001b[0m\u001b[0m\n",
      "\u001b[0;32m/mounts/Users/student/asgari/.local/lib/python3.4/site-packages/sklearn/externals/joblib/parallel.py\u001b[0m in \u001b[0;36m__call__\u001b[0;34m(self, iterable)\u001b[0m\n\u001b[1;32m    756\u001b[0m             \u001b[0;31m# was dispatched. In particular this covers the edge\u001b[0m\u001b[0;34m\u001b[0m\u001b[0;34m\u001b[0m\u001b[0m\n\u001b[1;32m    757\u001b[0m             \u001b[0;31m# case of Parallel used with an exhausted iterator.\u001b[0m\u001b[0;34m\u001b[0m\u001b[0;34m\u001b[0m\u001b[0m\n\u001b[0;32m--> 758\u001b[0;31m             \u001b[0;32mwhile\u001b[0m \u001b[0mself\u001b[0m\u001b[0;34m.\u001b[0m\u001b[0mdispatch_one_batch\u001b[0m\u001b[0;34m(\u001b[0m\u001b[0miterator\u001b[0m\u001b[0;34m)\u001b[0m\u001b[0;34m:\u001b[0m\u001b[0;34m\u001b[0m\u001b[0m\n\u001b[0m\u001b[1;32m    759\u001b[0m                 \u001b[0mself\u001b[0m\u001b[0;34m.\u001b[0m\u001b[0m_iterating\u001b[0m \u001b[0;34m=\u001b[0m \u001b[0;32mTrue\u001b[0m\u001b[0;34m\u001b[0m\u001b[0m\n\u001b[1;32m    760\u001b[0m             \u001b[0;32melse\u001b[0m\u001b[0;34m:\u001b[0m\u001b[0;34m\u001b[0m\u001b[0m\n",
      "\u001b[0;32m/mounts/Users/student/asgari/.local/lib/python3.4/site-packages/sklearn/externals/joblib/parallel.py\u001b[0m in \u001b[0;36mdispatch_one_batch\u001b[0;34m(self, iterator)\u001b[0m\n\u001b[1;32m    606\u001b[0m                 \u001b[0;32mreturn\u001b[0m \u001b[0;32mFalse\u001b[0m\u001b[0;34m\u001b[0m\u001b[0m\n\u001b[1;32m    607\u001b[0m             \u001b[0;32melse\u001b[0m\u001b[0;34m:\u001b[0m\u001b[0;34m\u001b[0m\u001b[0m\n\u001b[0;32m--> 608\u001b[0;31m                 \u001b[0mself\u001b[0m\u001b[0;34m.\u001b[0m\u001b[0m_dispatch\u001b[0m\u001b[0;34m(\u001b[0m\u001b[0mtasks\u001b[0m\u001b[0;34m)\u001b[0m\u001b[0;34m\u001b[0m\u001b[0m\n\u001b[0m\u001b[1;32m    609\u001b[0m                 \u001b[0;32mreturn\u001b[0m \u001b[0;32mTrue\u001b[0m\u001b[0;34m\u001b[0m\u001b[0m\n\u001b[1;32m    610\u001b[0m \u001b[0;34m\u001b[0m\u001b[0m\n",
      "\u001b[0;32m/mounts/Users/student/asgari/.local/lib/python3.4/site-packages/sklearn/externals/joblib/parallel.py\u001b[0m in \u001b[0;36m_dispatch\u001b[0;34m(self, batch)\u001b[0m\n\u001b[1;32m    569\u001b[0m         \u001b[0mdispatch_timestamp\u001b[0m \u001b[0;34m=\u001b[0m \u001b[0mtime\u001b[0m\u001b[0;34m.\u001b[0m\u001b[0mtime\u001b[0m\u001b[0;34m(\u001b[0m\u001b[0;34m)\u001b[0m\u001b[0;34m\u001b[0m\u001b[0m\n\u001b[1;32m    570\u001b[0m         \u001b[0mcb\u001b[0m \u001b[0;34m=\u001b[0m \u001b[0mBatchCompletionCallBack\u001b[0m\u001b[0;34m(\u001b[0m\u001b[0mdispatch_timestamp\u001b[0m\u001b[0;34m,\u001b[0m \u001b[0mlen\u001b[0m\u001b[0;34m(\u001b[0m\u001b[0mbatch\u001b[0m\u001b[0;34m)\u001b[0m\u001b[0;34m,\u001b[0m \u001b[0mself\u001b[0m\u001b[0;34m)\u001b[0m\u001b[0;34m\u001b[0m\u001b[0m\n\u001b[0;32m--> 571\u001b[0;31m         \u001b[0mjob\u001b[0m \u001b[0;34m=\u001b[0m \u001b[0mself\u001b[0m\u001b[0;34m.\u001b[0m\u001b[0m_backend\u001b[0m\u001b[0;34m.\u001b[0m\u001b[0mapply_async\u001b[0m\u001b[0;34m(\u001b[0m\u001b[0mbatch\u001b[0m\u001b[0;34m,\u001b[0m \u001b[0mcallback\u001b[0m\u001b[0;34m=\u001b[0m\u001b[0mcb\u001b[0m\u001b[0;34m)\u001b[0m\u001b[0;34m\u001b[0m\u001b[0m\n\u001b[0m\u001b[1;32m    572\u001b[0m         \u001b[0mself\u001b[0m\u001b[0;34m.\u001b[0m\u001b[0m_jobs\u001b[0m\u001b[0;34m.\u001b[0m\u001b[0mappend\u001b[0m\u001b[0;34m(\u001b[0m\u001b[0mjob\u001b[0m\u001b[0;34m)\u001b[0m\u001b[0;34m\u001b[0m\u001b[0m\n\u001b[1;32m    573\u001b[0m \u001b[0;34m\u001b[0m\u001b[0m\n",
      "\u001b[0;32m/mounts/Users/student/asgari/.local/lib/python3.4/site-packages/sklearn/externals/joblib/_parallel_backends.py\u001b[0m in \u001b[0;36mapply_async\u001b[0;34m(self, func, callback)\u001b[0m\n\u001b[1;32m    107\u001b[0m     \u001b[0;32mdef\u001b[0m \u001b[0mapply_async\u001b[0m\u001b[0;34m(\u001b[0m\u001b[0mself\u001b[0m\u001b[0;34m,\u001b[0m \u001b[0mfunc\u001b[0m\u001b[0;34m,\u001b[0m \u001b[0mcallback\u001b[0m\u001b[0;34m=\u001b[0m\u001b[0;32mNone\u001b[0m\u001b[0;34m)\u001b[0m\u001b[0;34m:\u001b[0m\u001b[0;34m\u001b[0m\u001b[0m\n\u001b[1;32m    108\u001b[0m         \u001b[0;34m\"\"\"Schedule a func to be run\"\"\"\u001b[0m\u001b[0;34m\u001b[0m\u001b[0m\n\u001b[0;32m--> 109\u001b[0;31m         \u001b[0mresult\u001b[0m \u001b[0;34m=\u001b[0m \u001b[0mImmediateResult\u001b[0m\u001b[0;34m(\u001b[0m\u001b[0mfunc\u001b[0m\u001b[0;34m)\u001b[0m\u001b[0;34m\u001b[0m\u001b[0m\n\u001b[0m\u001b[1;32m    110\u001b[0m         \u001b[0;32mif\u001b[0m \u001b[0mcallback\u001b[0m\u001b[0;34m:\u001b[0m\u001b[0;34m\u001b[0m\u001b[0m\n\u001b[1;32m    111\u001b[0m             \u001b[0mcallback\u001b[0m\u001b[0;34m(\u001b[0m\u001b[0mresult\u001b[0m\u001b[0;34m)\u001b[0m\u001b[0;34m\u001b[0m\u001b[0m\n",
      "\u001b[0;32m/mounts/Users/student/asgari/.local/lib/python3.4/site-packages/sklearn/externals/joblib/_parallel_backends.py\u001b[0m in \u001b[0;36m__init__\u001b[0;34m(self, batch)\u001b[0m\n\u001b[1;32m    324\u001b[0m         \u001b[0;31m# Don't delay the application, to avoid keeping the input\u001b[0m\u001b[0;34m\u001b[0m\u001b[0;34m\u001b[0m\u001b[0m\n\u001b[1;32m    325\u001b[0m         \u001b[0;31m# arguments in memory\u001b[0m\u001b[0;34m\u001b[0m\u001b[0;34m\u001b[0m\u001b[0m\n\u001b[0;32m--> 326\u001b[0;31m         \u001b[0mself\u001b[0m\u001b[0;34m.\u001b[0m\u001b[0mresults\u001b[0m \u001b[0;34m=\u001b[0m \u001b[0mbatch\u001b[0m\u001b[0;34m(\u001b[0m\u001b[0;34m)\u001b[0m\u001b[0;34m\u001b[0m\u001b[0m\n\u001b[0m\u001b[1;32m    327\u001b[0m \u001b[0;34m\u001b[0m\u001b[0m\n\u001b[1;32m    328\u001b[0m     \u001b[0;32mdef\u001b[0m \u001b[0mget\u001b[0m\u001b[0;34m(\u001b[0m\u001b[0mself\u001b[0m\u001b[0;34m)\u001b[0m\u001b[0;34m:\u001b[0m\u001b[0;34m\u001b[0m\u001b[0m\n",
      "\u001b[0;32m/mounts/Users/student/asgari/.local/lib/python3.4/site-packages/sklearn/externals/joblib/parallel.py\u001b[0m in \u001b[0;36m__call__\u001b[0;34m(self)\u001b[0m\n\u001b[1;32m    129\u001b[0m \u001b[0;34m\u001b[0m\u001b[0m\n\u001b[1;32m    130\u001b[0m     \u001b[0;32mdef\u001b[0m \u001b[0m__call__\u001b[0m\u001b[0;34m(\u001b[0m\u001b[0mself\u001b[0m\u001b[0;34m)\u001b[0m\u001b[0;34m:\u001b[0m\u001b[0;34m\u001b[0m\u001b[0m\n\u001b[0;32m--> 131\u001b[0;31m         \u001b[0;32mreturn\u001b[0m \u001b[0;34m[\u001b[0m\u001b[0mfunc\u001b[0m\u001b[0;34m(\u001b[0m\u001b[0;34m*\u001b[0m\u001b[0margs\u001b[0m\u001b[0;34m,\u001b[0m \u001b[0;34m**\u001b[0m\u001b[0mkwargs\u001b[0m\u001b[0;34m)\u001b[0m \u001b[0;32mfor\u001b[0m \u001b[0mfunc\u001b[0m\u001b[0;34m,\u001b[0m \u001b[0margs\u001b[0m\u001b[0;34m,\u001b[0m \u001b[0mkwargs\u001b[0m \u001b[0;32min\u001b[0m \u001b[0mself\u001b[0m\u001b[0;34m.\u001b[0m\u001b[0mitems\u001b[0m\u001b[0;34m]\u001b[0m\u001b[0;34m\u001b[0m\u001b[0m\n\u001b[0m\u001b[1;32m    132\u001b[0m \u001b[0;34m\u001b[0m\u001b[0m\n\u001b[1;32m    133\u001b[0m     \u001b[0;32mdef\u001b[0m \u001b[0m__len__\u001b[0m\u001b[0;34m(\u001b[0m\u001b[0mself\u001b[0m\u001b[0;34m)\u001b[0m\u001b[0;34m:\u001b[0m\u001b[0;34m\u001b[0m\u001b[0m\n",
      "\u001b[0;32m/mounts/Users/student/asgari/.local/lib/python3.4/site-packages/sklearn/externals/joblib/parallel.py\u001b[0m in \u001b[0;36m<listcomp>\u001b[0;34m(.0)\u001b[0m\n\u001b[1;32m    129\u001b[0m \u001b[0;34m\u001b[0m\u001b[0m\n\u001b[1;32m    130\u001b[0m     \u001b[0;32mdef\u001b[0m \u001b[0m__call__\u001b[0m\u001b[0;34m(\u001b[0m\u001b[0mself\u001b[0m\u001b[0;34m)\u001b[0m\u001b[0;34m:\u001b[0m\u001b[0;34m\u001b[0m\u001b[0m\n\u001b[0;32m--> 131\u001b[0;31m         \u001b[0;32mreturn\u001b[0m \u001b[0;34m[\u001b[0m\u001b[0mfunc\u001b[0m\u001b[0;34m(\u001b[0m\u001b[0;34m*\u001b[0m\u001b[0margs\u001b[0m\u001b[0;34m,\u001b[0m \u001b[0;34m**\u001b[0m\u001b[0mkwargs\u001b[0m\u001b[0;34m)\u001b[0m \u001b[0;32mfor\u001b[0m \u001b[0mfunc\u001b[0m\u001b[0;34m,\u001b[0m \u001b[0margs\u001b[0m\u001b[0;34m,\u001b[0m \u001b[0mkwargs\u001b[0m \u001b[0;32min\u001b[0m \u001b[0mself\u001b[0m\u001b[0;34m.\u001b[0m\u001b[0mitems\u001b[0m\u001b[0;34m]\u001b[0m\u001b[0;34m\u001b[0m\u001b[0m\n\u001b[0m\u001b[1;32m    132\u001b[0m \u001b[0;34m\u001b[0m\u001b[0m\n\u001b[1;32m    133\u001b[0m     \u001b[0;32mdef\u001b[0m \u001b[0m__len__\u001b[0m\u001b[0;34m(\u001b[0m\u001b[0mself\u001b[0m\u001b[0;34m)\u001b[0m\u001b[0;34m:\u001b[0m\u001b[0;34m\u001b[0m\u001b[0m\n",
      "\u001b[0;32m/mounts/Users/student/asgari/.local/lib/python3.4/site-packages/sklearn/model_selection/_validation.py\u001b[0m in \u001b[0;36m_fit_and_score\u001b[0;34m(estimator, X, y, scorer, train, test, verbose, parameters, fit_params, return_train_score, return_parameters, return_n_test_samples, return_times, error_score)\u001b[0m\n\u001b[1;32m    258\u001b[0m     \u001b[0;32melse\u001b[0m\u001b[0;34m:\u001b[0m\u001b[0;34m\u001b[0m\u001b[0m\n\u001b[1;32m    259\u001b[0m         \u001b[0mfit_time\u001b[0m \u001b[0;34m=\u001b[0m \u001b[0mtime\u001b[0m\u001b[0;34m.\u001b[0m\u001b[0mtime\u001b[0m\u001b[0;34m(\u001b[0m\u001b[0;34m)\u001b[0m \u001b[0;34m-\u001b[0m \u001b[0mstart_time\u001b[0m\u001b[0;34m\u001b[0m\u001b[0m\n\u001b[0;32m--> 260\u001b[0;31m         \u001b[0mtest_score\u001b[0m \u001b[0;34m=\u001b[0m \u001b[0m_score\u001b[0m\u001b[0;34m(\u001b[0m\u001b[0mestimator\u001b[0m\u001b[0;34m,\u001b[0m \u001b[0mX_test\u001b[0m\u001b[0;34m,\u001b[0m \u001b[0my_test\u001b[0m\u001b[0;34m,\u001b[0m \u001b[0mscorer\u001b[0m\u001b[0;34m)\u001b[0m\u001b[0;34m\u001b[0m\u001b[0m\n\u001b[0m\u001b[1;32m    261\u001b[0m         \u001b[0mscore_time\u001b[0m \u001b[0;34m=\u001b[0m \u001b[0mtime\u001b[0m\u001b[0;34m.\u001b[0m\u001b[0mtime\u001b[0m\u001b[0;34m(\u001b[0m\u001b[0;34m)\u001b[0m \u001b[0;34m-\u001b[0m \u001b[0mstart_time\u001b[0m \u001b[0;34m-\u001b[0m \u001b[0mfit_time\u001b[0m\u001b[0;34m\u001b[0m\u001b[0m\n\u001b[1;32m    262\u001b[0m         \u001b[0;32mif\u001b[0m \u001b[0mreturn_train_score\u001b[0m\u001b[0;34m:\u001b[0m\u001b[0;34m\u001b[0m\u001b[0m\n",
      "\u001b[0;32m/mounts/Users/student/asgari/.local/lib/python3.4/site-packages/sklearn/model_selection/_validation.py\u001b[0m in \u001b[0;36m_score\u001b[0;34m(estimator, X_test, y_test, scorer)\u001b[0m\n\u001b[1;32m    286\u001b[0m         \u001b[0mscore\u001b[0m \u001b[0;34m=\u001b[0m \u001b[0mscorer\u001b[0m\u001b[0;34m(\u001b[0m\u001b[0mestimator\u001b[0m\u001b[0;34m,\u001b[0m \u001b[0mX_test\u001b[0m\u001b[0;34m)\u001b[0m\u001b[0;34m\u001b[0m\u001b[0m\n\u001b[1;32m    287\u001b[0m     \u001b[0;32melse\u001b[0m\u001b[0;34m:\u001b[0m\u001b[0;34m\u001b[0m\u001b[0m\n\u001b[0;32m--> 288\u001b[0;31m         \u001b[0mscore\u001b[0m \u001b[0;34m=\u001b[0m \u001b[0mscorer\u001b[0m\u001b[0;34m(\u001b[0m\u001b[0mestimator\u001b[0m\u001b[0;34m,\u001b[0m \u001b[0mX_test\u001b[0m\u001b[0;34m,\u001b[0m \u001b[0my_test\u001b[0m\u001b[0;34m)\u001b[0m\u001b[0;34m\u001b[0m\u001b[0m\n\u001b[0m\u001b[1;32m    289\u001b[0m     \u001b[0;32mif\u001b[0m \u001b[0mhasattr\u001b[0m\u001b[0;34m(\u001b[0m\u001b[0mscore\u001b[0m\u001b[0;34m,\u001b[0m \u001b[0;34m'item'\u001b[0m\u001b[0;34m)\u001b[0m\u001b[0;34m:\u001b[0m\u001b[0;34m\u001b[0m\u001b[0m\n\u001b[1;32m    290\u001b[0m         \u001b[0;32mtry\u001b[0m\u001b[0;34m:\u001b[0m\u001b[0;34m\u001b[0m\u001b[0m\n",
      "\u001b[0;32m/mounts/Users/student/asgari/.local/lib/python3.4/site-packages/sklearn/metrics/scorer.py\u001b[0m in \u001b[0;36m__call__\u001b[0;34m(self, clf, X, y, sample_weight)\u001b[0m\n\u001b[1;32m    194\u001b[0m                                                  **self._kwargs)\n\u001b[1;32m    195\u001b[0m         \u001b[0;32melse\u001b[0m\u001b[0;34m:\u001b[0m\u001b[0;34m\u001b[0m\u001b[0m\n\u001b[0;32m--> 196\u001b[0;31m             \u001b[0;32mreturn\u001b[0m \u001b[0mself\u001b[0m\u001b[0;34m.\u001b[0m\u001b[0m_sign\u001b[0m \u001b[0;34m*\u001b[0m \u001b[0mself\u001b[0m\u001b[0;34m.\u001b[0m\u001b[0m_score_func\u001b[0m\u001b[0;34m(\u001b[0m\u001b[0my\u001b[0m\u001b[0;34m,\u001b[0m \u001b[0my_pred\u001b[0m\u001b[0;34m,\u001b[0m \u001b[0;34m**\u001b[0m\u001b[0mself\u001b[0m\u001b[0;34m.\u001b[0m\u001b[0m_kwargs\u001b[0m\u001b[0;34m)\u001b[0m\u001b[0;34m\u001b[0m\u001b[0m\n\u001b[0m\u001b[1;32m    197\u001b[0m \u001b[0;34m\u001b[0m\u001b[0m\n\u001b[1;32m    198\u001b[0m     \u001b[0;32mdef\u001b[0m \u001b[0m_factory_args\u001b[0m\u001b[0;34m(\u001b[0m\u001b[0mself\u001b[0m\u001b[0;34m)\u001b[0m\u001b[0;34m:\u001b[0m\u001b[0;34m\u001b[0m\u001b[0m\n",
      "\u001b[0;32m/mounts/Users/student/asgari/.local/lib/python3.4/site-packages/sklearn/metrics/ranking.py\u001b[0m in \u001b[0;36mroc_auc_score\u001b[0;34m(y_true, y_score, average, sample_weight)\u001b[0m\n\u001b[1;32m    258\u001b[0m     return _average_binary_score(\n\u001b[1;32m    259\u001b[0m         \u001b[0m_binary_roc_auc_score\u001b[0m\u001b[0;34m,\u001b[0m \u001b[0my_true\u001b[0m\u001b[0;34m,\u001b[0m \u001b[0my_score\u001b[0m\u001b[0;34m,\u001b[0m \u001b[0maverage\u001b[0m\u001b[0;34m,\u001b[0m\u001b[0;34m\u001b[0m\u001b[0m\n\u001b[0;32m--> 260\u001b[0;31m         sample_weight=sample_weight)\n\u001b[0m\u001b[1;32m    261\u001b[0m \u001b[0;34m\u001b[0m\u001b[0m\n\u001b[1;32m    262\u001b[0m \u001b[0;34m\u001b[0m\u001b[0m\n",
      "\u001b[0;32m/mounts/Users/student/asgari/.local/lib/python3.4/site-packages/sklearn/metrics/base.py\u001b[0m in \u001b[0;36m_average_binary_score\u001b[0;34m(binary_metric, y_true, y_score, average, sample_weight)\u001b[0m\n\u001b[1;32m     82\u001b[0m \u001b[0;34m\u001b[0m\u001b[0m\n\u001b[1;32m     83\u001b[0m     \u001b[0;32mif\u001b[0m \u001b[0my_type\u001b[0m \u001b[0;34m==\u001b[0m \u001b[0;34m\"binary\"\u001b[0m\u001b[0;34m:\u001b[0m\u001b[0;34m\u001b[0m\u001b[0m\n\u001b[0;32m---> 84\u001b[0;31m         \u001b[0;32mreturn\u001b[0m \u001b[0mbinary_metric\u001b[0m\u001b[0;34m(\u001b[0m\u001b[0my_true\u001b[0m\u001b[0;34m,\u001b[0m \u001b[0my_score\u001b[0m\u001b[0;34m,\u001b[0m \u001b[0msample_weight\u001b[0m\u001b[0;34m=\u001b[0m\u001b[0msample_weight\u001b[0m\u001b[0;34m)\u001b[0m\u001b[0;34m\u001b[0m\u001b[0m\n\u001b[0m\u001b[1;32m     85\u001b[0m \u001b[0;34m\u001b[0m\u001b[0m\n\u001b[1;32m     86\u001b[0m     \u001b[0mcheck_consistent_length\u001b[0m\u001b[0;34m(\u001b[0m\u001b[0my_true\u001b[0m\u001b[0;34m,\u001b[0m \u001b[0my_score\u001b[0m\u001b[0;34m,\u001b[0m \u001b[0msample_weight\u001b[0m\u001b[0;34m)\u001b[0m\u001b[0;34m\u001b[0m\u001b[0m\n",
      "\u001b[0;32m/mounts/Users/student/asgari/.local/lib/python3.4/site-packages/sklearn/metrics/ranking.py\u001b[0m in \u001b[0;36m_binary_roc_auc_score\u001b[0;34m(y_true, y_score, sample_weight)\u001b[0m\n\u001b[1;32m    249\u001b[0m     \u001b[0;32mdef\u001b[0m \u001b[0m_binary_roc_auc_score\u001b[0m\u001b[0;34m(\u001b[0m\u001b[0my_true\u001b[0m\u001b[0;34m,\u001b[0m \u001b[0my_score\u001b[0m\u001b[0;34m,\u001b[0m \u001b[0msample_weight\u001b[0m\u001b[0;34m=\u001b[0m\u001b[0;32mNone\u001b[0m\u001b[0;34m)\u001b[0m\u001b[0;34m:\u001b[0m\u001b[0;34m\u001b[0m\u001b[0m\n\u001b[1;32m    250\u001b[0m         \u001b[0;32mif\u001b[0m \u001b[0mlen\u001b[0m\u001b[0;34m(\u001b[0m\u001b[0mnp\u001b[0m\u001b[0;34m.\u001b[0m\u001b[0munique\u001b[0m\u001b[0;34m(\u001b[0m\u001b[0my_true\u001b[0m\u001b[0;34m)\u001b[0m\u001b[0;34m)\u001b[0m \u001b[0;34m!=\u001b[0m \u001b[0;36m2\u001b[0m\u001b[0;34m:\u001b[0m\u001b[0;34m\u001b[0m\u001b[0m\n\u001b[0;32m--> 251\u001b[0;31m             raise ValueError(\"Only one class present in y_true. ROC AUC score \"\n\u001b[0m\u001b[1;32m    252\u001b[0m                              \"is not defined in that case.\")\n\u001b[1;32m    253\u001b[0m \u001b[0;34m\u001b[0m\u001b[0m\n",
      "\u001b[0;31mValueError\u001b[0m: Only one class present in y_true. ROC AUC score is not defined in that case."
     ]
    }
   ],
   "source": [
    "drug='Colistin'\n",
    "\n",
    "cv = ShuffleSplit(n_splits=10, test_size=0.1, random_state=1)\n",
    "Xpart, Y=makeXY_prediction(X, drug2labeledisolates_mapping['Colistin'], common_islt)\n",
    "#Xpart,Y=make_balanced_dataset(Xpart,Y)\n",
    "scores = cross_val_score(clf_random_forest, Xpart, Y, cv=cv, scoring='precision_macro')\n",
    "print (drug)\n",
    "print(\"precision: %0.2f (+/- %0.2f)\" % (scores.mean(), scores.std()))\n",
    "results[drug].append(('RF','precision',scores.mean(), scores.std()))\n",
    "\n",
    "scores = cross_val_score(clf_random_forest, Xpart, Y, cv=cv, scoring='recall_macro')\n",
    "print(\"recall: %0.2f (+/- %0.2f)\" % (scores.mean(), scores.std()))\n",
    "results[drug].append(('RF','recall',scores.mean(), scores.std()))\n",
    "\n",
    "scores = cross_val_score(clf_random_forest, Xpart, Y, cv=cv, scoring='f1_macro')\n",
    "print(\"f1_macro: %0.2f (+/- %0.2f)\" % (scores.mean(), scores.std()))\n",
    "results[drug].append(('RF','f1',scores.mean(), scores.std()))"
   ]
  },
  {
   "cell_type": "code",
   "execution_count": 133,
   "metadata": {
    "collapsed": false,
    "deletable": true,
    "editable": true
   },
   "outputs": [],
   "source": [
    "import codecs\n",
    "import itertools\n",
    "from sklearn.model_selection import ShuffleSplit\n",
    "from sklearn.model_selection import GridSearchCV, cross_val_score\n",
    "from sklearn.ensemble import RandomForestClassifier\n",
    "import numpy as np\n",
    "import _pickle as pickle"
   ]
  },
  {
   "cell_type": "code",
   "execution_count": 148,
   "metadata": {
    "collapsed": true,
    "deletable": true,
    "editable": true
   },
   "outputs": [],
   "source": [
    "second_try_param=params"
   ]
  },
  {
   "cell_type": "code",
   "execution_count": 150,
   "metadata": {
    "collapsed": false,
    "deletable": true,
    "editable": true
   },
   "outputs": [
    {
     "name": "stderr",
     "output_type": "stream",
     "text": [
      "/mounts/Users/student/asgari/.local/lib/python3.4/site-packages/sklearn/metrics/classification.py:1113: UndefinedMetricWarning: F-score is ill-defined and being set to 0.0 due to no predicted samples.\n",
      "  'precision', 'predicted', average, warn_for)\n",
      "/mounts/Users/student/asgari/.local/lib/python3.4/site-packages/sklearn/metrics/classification.py:1113: UndefinedMetricWarning: F-score is ill-defined and being set to 0.0 due to no predicted samples.\n",
      "  'precision', 'predicted', average, warn_for)\n",
      "/mounts/Users/student/asgari/.local/lib/python3.4/site-packages/sklearn/metrics/classification.py:1113: UndefinedMetricWarning: F-score is ill-defined and being set to 0.0 due to no predicted samples.\n",
      "  'precision', 'predicted', average, warn_for)\n",
      "/mounts/Users/student/asgari/.local/lib/python3.4/site-packages/sklearn/metrics/classification.py:1113: UndefinedMetricWarning: F-score is ill-defined and being set to 0.0 due to no predicted samples.\n",
      "  'precision', 'predicted', average, warn_for)\n",
      "/mounts/Users/student/asgari/.local/lib/python3.4/site-packages/sklearn/metrics/classification.py:1113: UndefinedMetricWarning: F-score is ill-defined and being set to 0.0 due to no predicted samples.\n",
      "  'precision', 'predicted', average, warn_for)\n",
      "/mounts/Users/student/asgari/.local/lib/python3.4/site-packages/sklearn/metrics/classification.py:1113: UndefinedMetricWarning: F-score is ill-defined and being set to 0.0 due to no predicted samples.\n",
      "  'precision', 'predicted', average, warn_for)\n",
      "/mounts/Users/student/asgari/.local/lib/python3.4/site-packages/sklearn/metrics/classification.py:1113: UndefinedMetricWarning: F-score is ill-defined and being set to 0.0 due to no predicted samples.\n",
      "  'precision', 'predicted', average, warn_for)\n",
      "/mounts/Users/student/asgari/.local/lib/python3.4/site-packages/sklearn/metrics/classification.py:1113: UndefinedMetricWarning: F-score is ill-defined and being set to 0.0 due to no predicted samples.\n",
      "  'precision', 'predicted', average, warn_for)\n",
      "/mounts/Users/student/asgari/.local/lib/python3.4/site-packages/sklearn/metrics/classification.py:1113: UndefinedMetricWarning: F-score is ill-defined and being set to 0.0 due to no predicted samples.\n",
      "  'precision', 'predicted', average, warn_for)\n",
      "/mounts/Users/student/asgari/.local/lib/python3.4/site-packages/sklearn/metrics/classification.py:1113: UndefinedMetricWarning: F-score is ill-defined and being set to 0.0 due to no predicted samples.\n",
      "  'precision', 'predicted', average, warn_for)\n",
      "/mounts/Users/student/asgari/.local/lib/python3.4/site-packages/sklearn/metrics/classification.py:1113: UndefinedMetricWarning: F-score is ill-defined and being set to 0.0 due to no predicted samples.\n",
      "  'precision', 'predicted', average, warn_for)\n",
      "/mounts/Users/student/asgari/.local/lib/python3.4/site-packages/sklearn/metrics/classification.py:1113: UndefinedMetricWarning: F-score is ill-defined and being set to 0.0 due to no predicted samples.\n",
      "  'precision', 'predicted', average, warn_for)\n",
      "/mounts/Users/student/asgari/.local/lib/python3.4/site-packages/sklearn/metrics/classification.py:1113: UndefinedMetricWarning: F-score is ill-defined and being set to 0.0 due to no predicted samples.\n",
      "  'precision', 'predicted', average, warn_for)\n",
      "/mounts/Users/student/asgari/.local/lib/python3.4/site-packages/sklearn/metrics/classification.py:1113: UndefinedMetricWarning: F-score is ill-defined and being set to 0.0 due to no predicted samples.\n",
      "  'precision', 'predicted', average, warn_for)\n",
      "/mounts/Users/student/asgari/.local/lib/python3.4/site-packages/sklearn/metrics/classification.py:1113: UndefinedMetricWarning: F-score is ill-defined and being set to 0.0 due to no predicted samples.\n",
      "  'precision', 'predicted', average, warn_for)\n",
      "/mounts/Users/student/asgari/.local/lib/python3.4/site-packages/sklearn/metrics/classification.py:1113: UndefinedMetricWarning: F-score is ill-defined and being set to 0.0 due to no predicted samples.\n",
      "  'precision', 'predicted', average, warn_for)\n",
      "/mounts/Users/student/asgari/.local/lib/python3.4/site-packages/sklearn/metrics/classification.py:1113: UndefinedMetricWarning: F-score is ill-defined and being set to 0.0 due to no predicted samples.\n",
      "  'precision', 'predicted', average, warn_for)\n",
      "/mounts/Users/student/asgari/.local/lib/python3.4/site-packages/sklearn/metrics/classification.py:1113: UndefinedMetricWarning: F-score is ill-defined and being set to 0.0 due to no predicted samples.\n",
      "  'precision', 'predicted', average, warn_for)\n",
      "/mounts/Users/student/asgari/.local/lib/python3.4/site-packages/sklearn/metrics/classification.py:1113: UndefinedMetricWarning: F-score is ill-defined and being set to 0.0 due to no predicted samples.\n",
      "  'precision', 'predicted', average, warn_for)\n",
      "/mounts/Users/student/asgari/.local/lib/python3.4/site-packages/sklearn/metrics/classification.py:1113: UndefinedMetricWarning: F-score is ill-defined and being set to 0.0 due to no predicted samples.\n",
      "  'precision', 'predicted', average, warn_for)\n",
      "/mounts/Users/student/asgari/.local/lib/python3.4/site-packages/sklearn/metrics/classification.py:1113: UndefinedMetricWarning: F-score is ill-defined and being set to 0.0 due to no predicted samples.\n",
      "  'precision', 'predicted', average, warn_for)\n",
      "/mounts/Users/student/asgari/.local/lib/python3.4/site-packages/sklearn/metrics/classification.py:1113: UndefinedMetricWarning: F-score is ill-defined and being set to 0.0 due to no predicted samples.\n",
      "  'precision', 'predicted', average, warn_for)\n",
      "/mounts/Users/student/asgari/.local/lib/python3.4/site-packages/sklearn/metrics/classification.py:1113: UndefinedMetricWarning: F-score is ill-defined and being set to 0.0 due to no predicted samples.\n",
      "  'precision', 'predicted', average, warn_for)\n",
      "/mounts/Users/student/asgari/.local/lib/python3.4/site-packages/sklearn/metrics/classification.py:1113: UndefinedMetricWarning: F-score is ill-defined and being set to 0.0 due to no predicted samples.\n",
      "  'precision', 'predicted', average, warn_for)\n",
      "/mounts/Users/student/asgari/.local/lib/python3.4/site-packages/sklearn/metrics/classification.py:1113: UndefinedMetricWarning: F-score is ill-defined and being set to 0.0 due to no predicted samples.\n",
      "  'precision', 'predicted', average, warn_for)\n",
      "/mounts/Users/student/asgari/.local/lib/python3.4/site-packages/sklearn/metrics/classification.py:1113: UndefinedMetricWarning: F-score is ill-defined and being set to 0.0 due to no predicted samples.\n",
      "  'precision', 'predicted', average, warn_for)\n",
      "/mounts/Users/student/asgari/.local/lib/python3.4/site-packages/sklearn/metrics/classification.py:1113: UndefinedMetricWarning: F-score is ill-defined and being set to 0.0 due to no predicted samples.\n",
      "  'precision', 'predicted', average, warn_for)\n",
      "/mounts/Users/student/asgari/.local/lib/python3.4/site-packages/sklearn/metrics/classification.py:1113: UndefinedMetricWarning: F-score is ill-defined and being set to 0.0 due to no predicted samples.\n",
      "  'precision', 'predicted', average, warn_for)\n",
      "/mounts/Users/student/asgari/.local/lib/python3.4/site-packages/sklearn/metrics/classification.py:1113: UndefinedMetricWarning: F-score is ill-defined and being set to 0.0 due to no predicted samples.\n",
      "  'precision', 'predicted', average, warn_for)\n",
      "/mounts/Users/student/asgari/.local/lib/python3.4/site-packages/sklearn/metrics/classification.py:1113: UndefinedMetricWarning: F-score is ill-defined and being set to 0.0 due to no predicted samples.\n",
      "  'precision', 'predicted', average, warn_for)\n",
      "/mounts/Users/student/asgari/.local/lib/python3.4/site-packages/sklearn/metrics/classification.py:1113: UndefinedMetricWarning: F-score is ill-defined and being set to 0.0 due to no predicted samples.\n",
      "  'precision', 'predicted', average, warn_for)\n",
      "/mounts/Users/student/asgari/.local/lib/python3.4/site-packages/sklearn/metrics/classification.py:1113: UndefinedMetricWarning: F-score is ill-defined and being set to 0.0 due to no predicted samples.\n",
      "  'precision', 'predicted', average, warn_for)\n",
      "/mounts/Users/student/asgari/.local/lib/python3.4/site-packages/sklearn/metrics/classification.py:1113: UndefinedMetricWarning: F-score is ill-defined and being set to 0.0 due to no predicted samples.\n",
      "  'precision', 'predicted', average, warn_for)\n",
      "/mounts/Users/student/asgari/.local/lib/python3.4/site-packages/sklearn/metrics/classification.py:1113: UndefinedMetricWarning: F-score is ill-defined and being set to 0.0 due to no predicted samples.\n",
      "  'precision', 'predicted', average, warn_for)\n",
      "/mounts/Users/student/asgari/.local/lib/python3.4/site-packages/sklearn/metrics/classification.py:1113: UndefinedMetricWarning: F-score is ill-defined and being set to 0.0 due to no predicted samples.\n",
      "  'precision', 'predicted', average, warn_for)\n",
      "/mounts/Users/student/asgari/.local/lib/python3.4/site-packages/sklearn/metrics/classification.py:1113: UndefinedMetricWarning: F-score is ill-defined and being set to 0.0 due to no predicted samples.\n",
      "  'precision', 'predicted', average, warn_for)\n",
      "/mounts/Users/student/asgari/.local/lib/python3.4/site-packages/sklearn/metrics/classification.py:1113: UndefinedMetricWarning: F-score is ill-defined and being set to 0.0 due to no predicted samples.\n",
      "  'precision', 'predicted', average, warn_for)\n",
      "/mounts/Users/student/asgari/.local/lib/python3.4/site-packages/sklearn/metrics/classification.py:1113: UndefinedMetricWarning: F-score is ill-defined and being set to 0.0 due to no predicted samples.\n",
      "  'precision', 'predicted', average, warn_for)\n",
      "/mounts/Users/student/asgari/.local/lib/python3.4/site-packages/sklearn/metrics/classification.py:1113: UndefinedMetricWarning: F-score is ill-defined and being set to 0.0 due to no predicted samples.\n",
      "  'precision', 'predicted', average, warn_for)\n",
      "/mounts/Users/student/asgari/.local/lib/python3.4/site-packages/sklearn/metrics/classification.py:1113: UndefinedMetricWarning: F-score is ill-defined and being set to 0.0 due to no predicted samples.\n",
      "  'precision', 'predicted', average, warn_for)\n",
      "/mounts/Users/student/asgari/.local/lib/python3.4/site-packages/sklearn/metrics/classification.py:1113: UndefinedMetricWarning: F-score is ill-defined and being set to 0.0 due to no predicted samples.\n",
      "  'precision', 'predicted', average, warn_for)\n",
      "/mounts/Users/student/asgari/.local/lib/python3.4/site-packages/sklearn/metrics/classification.py:1113: UndefinedMetricWarning: F-score is ill-defined and being set to 0.0 due to no predicted samples.\n",
      "  'precision', 'predicted', average, warn_for)\n",
      "/mounts/Users/student/asgari/.local/lib/python3.4/site-packages/sklearn/metrics/classification.py:1113: UndefinedMetricWarning: F-score is ill-defined and being set to 0.0 due to no predicted samples.\n",
      "  'precision', 'predicted', average, warn_for)\n",
      "/mounts/Users/student/asgari/.local/lib/python3.4/site-packages/sklearn/metrics/classification.py:1113: UndefinedMetricWarning: F-score is ill-defined and being set to 0.0 due to no predicted samples.\n",
      "  'precision', 'predicted', average, warn_for)\n",
      "/mounts/Users/student/asgari/.local/lib/python3.4/site-packages/sklearn/metrics/classification.py:1113: UndefinedMetricWarning: F-score is ill-defined and being set to 0.0 due to no predicted samples.\n",
      "  'precision', 'predicted', average, warn_for)\n",
      "/mounts/Users/student/asgari/.local/lib/python3.4/site-packages/sklearn/metrics/classification.py:1113: UndefinedMetricWarning: F-score is ill-defined and being set to 0.0 due to no predicted samples.\n",
      "  'precision', 'predicted', average, warn_for)\n",
      "/mounts/Users/student/asgari/.local/lib/python3.4/site-packages/sklearn/metrics/classification.py:1113: UndefinedMetricWarning: F-score is ill-defined and being set to 0.0 due to no predicted samples.\n",
      "  'precision', 'predicted', average, warn_for)\n",
      "/mounts/Users/student/asgari/.local/lib/python3.4/site-packages/sklearn/metrics/classification.py:1113: UndefinedMetricWarning: F-score is ill-defined and being set to 0.0 due to no predicted samples.\n",
      "  'precision', 'predicted', average, warn_for)\n",
      "/mounts/Users/student/asgari/.local/lib/python3.4/site-packages/sklearn/metrics/classification.py:1113: UndefinedMetricWarning: F-score is ill-defined and being set to 0.0 due to no predicted samples.\n",
      "  'precision', 'predicted', average, warn_for)\n",
      "/mounts/Users/student/asgari/.local/lib/python3.4/site-packages/sklearn/metrics/classification.py:1113: UndefinedMetricWarning: F-score is ill-defined and being set to 0.0 due to no predicted samples.\n",
      "  'precision', 'predicted', average, warn_for)\n",
      "/mounts/Users/student/asgari/.local/lib/python3.4/site-packages/sklearn/metrics/classification.py:1113: UndefinedMetricWarning: F-score is ill-defined and being set to 0.0 due to no predicted samples.\n",
      "  'precision', 'predicted', average, warn_for)\n",
      "/mounts/Users/student/asgari/.local/lib/python3.4/site-packages/sklearn/metrics/classification.py:1113: UndefinedMetricWarning: F-score is ill-defined and being set to 0.0 due to no predicted samples.\n",
      "  'precision', 'predicted', average, warn_for)\n",
      "/mounts/Users/student/asgari/.local/lib/python3.4/site-packages/sklearn/metrics/classification.py:1113: UndefinedMetricWarning: F-score is ill-defined and being set to 0.0 due to no predicted samples.\n",
      "  'precision', 'predicted', average, warn_for)\n",
      "/mounts/Users/student/asgari/.local/lib/python3.4/site-packages/sklearn/metrics/classification.py:1113: UndefinedMetricWarning: F-score is ill-defined and being set to 0.0 due to no predicted samples.\n",
      "  'precision', 'predicted', average, warn_for)\n",
      "/mounts/Users/student/asgari/.local/lib/python3.4/site-packages/sklearn/metrics/classification.py:1113: UndefinedMetricWarning: F-score is ill-defined and being set to 0.0 due to no predicted samples.\n",
      "  'precision', 'predicted', average, warn_for)\n",
      "/mounts/Users/student/asgari/.local/lib/python3.4/site-packages/sklearn/metrics/classification.py:1113: UndefinedMetricWarning: F-score is ill-defined and being set to 0.0 due to no predicted samples.\n",
      "  'precision', 'predicted', average, warn_for)\n",
      "/mounts/Users/student/asgari/.local/lib/python3.4/site-packages/sklearn/metrics/classification.py:1113: UndefinedMetricWarning: F-score is ill-defined and being set to 0.0 due to no predicted samples.\n",
      "  'precision', 'predicted', average, warn_for)\n",
      "/mounts/Users/student/asgari/.local/lib/python3.4/site-packages/sklearn/metrics/classification.py:1113: UndefinedMetricWarning: F-score is ill-defined and being set to 0.0 due to no predicted samples.\n",
      "  'precision', 'predicted', average, warn_for)\n",
      "/mounts/Users/student/asgari/.local/lib/python3.4/site-packages/sklearn/metrics/classification.py:1113: UndefinedMetricWarning: F-score is ill-defined and being set to 0.0 due to no predicted samples.\n",
      "  'precision', 'predicted', average, warn_for)\n",
      "/mounts/Users/student/asgari/.local/lib/python3.4/site-packages/sklearn/metrics/classification.py:1113: UndefinedMetricWarning: F-score is ill-defined and being set to 0.0 due to no predicted samples.\n",
      "  'precision', 'predicted', average, warn_for)\n",
      "/mounts/Users/student/asgari/.local/lib/python3.4/site-packages/sklearn/metrics/classification.py:1113: UndefinedMetricWarning: F-score is ill-defined and being set to 0.0 due to no predicted samples.\n",
      "  'precision', 'predicted', average, warn_for)\n",
      "/mounts/Users/student/asgari/.local/lib/python3.4/site-packages/sklearn/metrics/classification.py:1113: UndefinedMetricWarning: F-score is ill-defined and being set to 0.0 due to no predicted samples.\n",
      "  'precision', 'predicted', average, warn_for)\n",
      "/mounts/Users/student/asgari/.local/lib/python3.4/site-packages/sklearn/metrics/classification.py:1113: UndefinedMetricWarning: F-score is ill-defined and being set to 0.0 due to no predicted samples.\n",
      "  'precision', 'predicted', average, warn_for)\n",
      "/mounts/Users/student/asgari/.local/lib/python3.4/site-packages/sklearn/metrics/classification.py:1113: UndefinedMetricWarning: F-score is ill-defined and being set to 0.0 due to no predicted samples.\n",
      "  'precision', 'predicted', average, warn_for)\n",
      "/mounts/Users/student/asgari/.local/lib/python3.4/site-packages/sklearn/metrics/classification.py:1113: UndefinedMetricWarning: F-score is ill-defined and being set to 0.0 due to no predicted samples.\n",
      "  'precision', 'predicted', average, warn_for)\n",
      "/mounts/Users/student/asgari/.local/lib/python3.4/site-packages/sklearn/metrics/classification.py:1113: UndefinedMetricWarning: F-score is ill-defined and being set to 0.0 due to no predicted samples.\n",
      "  'precision', 'predicted', average, warn_for)\n",
      "/mounts/Users/student/asgari/.local/lib/python3.4/site-packages/sklearn/metrics/classification.py:1113: UndefinedMetricWarning: F-score is ill-defined and being set to 0.0 due to no predicted samples.\n",
      "  'precision', 'predicted', average, warn_for)\n",
      "/mounts/Users/student/asgari/.local/lib/python3.4/site-packages/sklearn/metrics/classification.py:1113: UndefinedMetricWarning: F-score is ill-defined and being set to 0.0 due to no predicted samples.\n",
      "  'precision', 'predicted', average, warn_for)\n",
      "/mounts/Users/student/asgari/.local/lib/python3.4/site-packages/sklearn/metrics/classification.py:1113: UndefinedMetricWarning: F-score is ill-defined and being set to 0.0 due to no predicted samples.\n",
      "  'precision', 'predicted', average, warn_for)\n",
      "/mounts/Users/student/asgari/.local/lib/python3.4/site-packages/sklearn/metrics/classification.py:1113: UndefinedMetricWarning: F-score is ill-defined and being set to 0.0 due to no predicted samples.\n",
      "  'precision', 'predicted', average, warn_for)\n",
      "/mounts/Users/student/asgari/.local/lib/python3.4/site-packages/sklearn/metrics/classification.py:1113: UndefinedMetricWarning: F-score is ill-defined and being set to 0.0 due to no predicted samples.\n",
      "  'precision', 'predicted', average, warn_for)\n",
      "/mounts/Users/student/asgari/.local/lib/python3.4/site-packages/sklearn/metrics/classification.py:1113: UndefinedMetricWarning: F-score is ill-defined and being set to 0.0 due to no predicted samples.\n",
      "  'precision', 'predicted', average, warn_for)\n",
      "/mounts/Users/student/asgari/.local/lib/python3.4/site-packages/sklearn/metrics/classification.py:1113: UndefinedMetricWarning: F-score is ill-defined and being set to 0.0 due to no predicted samples.\n",
      "  'precision', 'predicted', average, warn_for)\n",
      "/mounts/Users/student/asgari/.local/lib/python3.4/site-packages/sklearn/metrics/classification.py:1113: UndefinedMetricWarning: F-score is ill-defined and being set to 0.0 due to no predicted samples.\n",
      "  'precision', 'predicted', average, warn_for)\n",
      "/mounts/Users/student/asgari/.local/lib/python3.4/site-packages/sklearn/metrics/classification.py:1113: UndefinedMetricWarning: F-score is ill-defined and being set to 0.0 due to no predicted samples.\n",
      "  'precision', 'predicted', average, warn_for)\n",
      "/mounts/Users/student/asgari/.local/lib/python3.4/site-packages/sklearn/metrics/classification.py:1113: UndefinedMetricWarning: F-score is ill-defined and being set to 0.0 due to no predicted samples.\n",
      "  'precision', 'predicted', average, warn_for)\n",
      "/mounts/Users/student/asgari/.local/lib/python3.4/site-packages/sklearn/metrics/classification.py:1113: UndefinedMetricWarning: F-score is ill-defined and being set to 0.0 due to no predicted samples.\n",
      "  'precision', 'predicted', average, warn_for)\n",
      "/mounts/Users/student/asgari/.local/lib/python3.4/site-packages/sklearn/metrics/classification.py:1113: UndefinedMetricWarning: F-score is ill-defined and being set to 0.0 due to no predicted samples.\n",
      "  'precision', 'predicted', average, warn_for)\n",
      "/mounts/Users/student/asgari/.local/lib/python3.4/site-packages/sklearn/metrics/classification.py:1113: UndefinedMetricWarning: F-score is ill-defined and being set to 0.0 due to no predicted samples.\n",
      "  'precision', 'predicted', average, warn_for)\n",
      "/mounts/Users/student/asgari/.local/lib/python3.4/site-packages/sklearn/metrics/classification.py:1113: UndefinedMetricWarning: F-score is ill-defined and being set to 0.0 due to no predicted samples.\n",
      "  'precision', 'predicted', average, warn_for)\n",
      "/mounts/Users/student/asgari/.local/lib/python3.4/site-packages/sklearn/metrics/classification.py:1113: UndefinedMetricWarning: F-score is ill-defined and being set to 0.0 due to no predicted samples.\n",
      "  'precision', 'predicted', average, warn_for)\n",
      "/mounts/Users/student/asgari/.local/lib/python3.4/site-packages/sklearn/metrics/classification.py:1113: UndefinedMetricWarning: F-score is ill-defined and being set to 0.0 due to no predicted samples.\n",
      "  'precision', 'predicted', average, warn_for)\n",
      "/mounts/Users/student/asgari/.local/lib/python3.4/site-packages/sklearn/metrics/classification.py:1113: UndefinedMetricWarning: F-score is ill-defined and being set to 0.0 due to no predicted samples.\n",
      "  'precision', 'predicted', average, warn_for)\n",
      "/mounts/Users/student/asgari/.local/lib/python3.4/site-packages/sklearn/metrics/classification.py:1113: UndefinedMetricWarning: F-score is ill-defined and being set to 0.0 due to no predicted samples.\n",
      "  'precision', 'predicted', average, warn_for)\n",
      "/mounts/Users/student/asgari/.local/lib/python3.4/site-packages/sklearn/metrics/classification.py:1113: UndefinedMetricWarning: F-score is ill-defined and being set to 0.0 due to no predicted samples.\n",
      "  'precision', 'predicted', average, warn_for)\n",
      "/mounts/Users/student/asgari/.local/lib/python3.4/site-packages/sklearn/metrics/classification.py:1113: UndefinedMetricWarning: F-score is ill-defined and being set to 0.0 due to no predicted samples.\n",
      "  'precision', 'predicted', average, warn_for)\n",
      "/mounts/Users/student/asgari/.local/lib/python3.4/site-packages/sklearn/metrics/classification.py:1113: UndefinedMetricWarning: F-score is ill-defined and being set to 0.0 due to no predicted samples.\n",
      "  'precision', 'predicted', average, warn_for)\n",
      "/mounts/Users/student/asgari/.local/lib/python3.4/site-packages/sklearn/metrics/classification.py:1113: UndefinedMetricWarning: F-score is ill-defined and being set to 0.0 due to no predicted samples.\n",
      "  'precision', 'predicted', average, warn_for)\n",
      "/mounts/Users/student/asgari/.local/lib/python3.4/site-packages/sklearn/metrics/classification.py:1113: UndefinedMetricWarning: F-score is ill-defined and being set to 0.0 due to no predicted samples.\n",
      "  'precision', 'predicted', average, warn_for)\n",
      "/mounts/Users/student/asgari/.local/lib/python3.4/site-packages/sklearn/metrics/classification.py:1113: UndefinedMetricWarning: F-score is ill-defined and being set to 0.0 due to no predicted samples.\n",
      "  'precision', 'predicted', average, warn_for)\n",
      "/mounts/Users/student/asgari/.local/lib/python3.4/site-packages/sklearn/metrics/classification.py:1113: UndefinedMetricWarning: F-score is ill-defined and being set to 0.0 due to no predicted samples.\n",
      "  'precision', 'predicted', average, warn_for)\n",
      "/mounts/Users/student/asgari/.local/lib/python3.4/site-packages/sklearn/metrics/classification.py:1113: UndefinedMetricWarning: F-score is ill-defined and being set to 0.0 due to no predicted samples.\n",
      "  'precision', 'predicted', average, warn_for)\n",
      "/mounts/Users/student/asgari/.local/lib/python3.4/site-packages/sklearn/metrics/classification.py:1113: UndefinedMetricWarning: F-score is ill-defined and being set to 0.0 due to no predicted samples.\n",
      "  'precision', 'predicted', average, warn_for)\n",
      "/mounts/Users/student/asgari/.local/lib/python3.4/site-packages/sklearn/metrics/classification.py:1113: UndefinedMetricWarning: F-score is ill-defined and being set to 0.0 due to no predicted samples.\n",
      "  'precision', 'predicted', average, warn_for)\n",
      "/mounts/Users/student/asgari/.local/lib/python3.4/site-packages/sklearn/metrics/classification.py:1113: UndefinedMetricWarning: F-score is ill-defined and being set to 0.0 due to no predicted samples.\n",
      "  'precision', 'predicted', average, warn_for)\n",
      "/mounts/Users/student/asgari/.local/lib/python3.4/site-packages/sklearn/metrics/classification.py:1113: UndefinedMetricWarning: F-score is ill-defined and being set to 0.0 due to no predicted samples.\n",
      "  'precision', 'predicted', average, warn_for)\n",
      "/mounts/Users/student/asgari/.local/lib/python3.4/site-packages/sklearn/metrics/classification.py:1113: UndefinedMetricWarning: F-score is ill-defined and being set to 0.0 due to no predicted samples.\n",
      "  'precision', 'predicted', average, warn_for)\n",
      "/mounts/Users/student/asgari/.local/lib/python3.4/site-packages/sklearn/metrics/classification.py:1113: UndefinedMetricWarning: F-score is ill-defined and being set to 0.0 due to no predicted samples.\n",
      "  'precision', 'predicted', average, warn_for)\n",
      "/mounts/Users/student/asgari/.local/lib/python3.4/site-packages/sklearn/metrics/classification.py:1113: UndefinedMetricWarning: F-score is ill-defined and being set to 0.0 due to no predicted samples.\n",
      "  'precision', 'predicted', average, warn_for)\n",
      "/mounts/Users/student/asgari/.local/lib/python3.4/site-packages/sklearn/metrics/classification.py:1113: UndefinedMetricWarning: F-score is ill-defined and being set to 0.0 due to no predicted samples.\n",
      "  'precision', 'predicted', average, warn_for)\n",
      "/mounts/Users/student/asgari/.local/lib/python3.4/site-packages/sklearn/metrics/classification.py:1113: UndefinedMetricWarning: F-score is ill-defined and being set to 0.0 due to no predicted samples.\n",
      "  'precision', 'predicted', average, warn_for)\n",
      "/mounts/Users/student/asgari/.local/lib/python3.4/site-packages/sklearn/metrics/classification.py:1113: UndefinedMetricWarning: F-score is ill-defined and being set to 0.0 due to no predicted samples.\n",
      "  'precision', 'predicted', average, warn_for)\n",
      "/mounts/Users/student/asgari/.local/lib/python3.4/site-packages/sklearn/metrics/classification.py:1113: UndefinedMetricWarning: F-score is ill-defined and being set to 0.0 due to no predicted samples.\n",
      "  'precision', 'predicted', average, warn_for)\n",
      "/mounts/Users/student/asgari/.local/lib/python3.4/site-packages/sklearn/metrics/classification.py:1113: UndefinedMetricWarning: F-score is ill-defined and being set to 0.0 due to no predicted samples.\n",
      "  'precision', 'predicted', average, warn_for)\n",
      "/mounts/Users/student/asgari/.local/lib/python3.4/site-packages/sklearn/metrics/classification.py:1113: UndefinedMetricWarning: F-score is ill-defined and being set to 0.0 due to no predicted samples.\n",
      "  'precision', 'predicted', average, warn_for)\n",
      "/mounts/Users/student/asgari/.local/lib/python3.4/site-packages/sklearn/metrics/classification.py:1113: UndefinedMetricWarning: F-score is ill-defined and being set to 0.0 due to no predicted samples.\n",
      "  'precision', 'predicted', average, warn_for)\n",
      "/mounts/Users/student/asgari/.local/lib/python3.4/site-packages/sklearn/metrics/classification.py:1113: UndefinedMetricWarning: F-score is ill-defined and being set to 0.0 due to no predicted samples.\n",
      "  'precision', 'predicted', average, warn_for)\n",
      "/mounts/Users/student/asgari/.local/lib/python3.4/site-packages/sklearn/metrics/classification.py:1113: UndefinedMetricWarning: F-score is ill-defined and being set to 0.0 due to no predicted samples.\n",
      "  'precision', 'predicted', average, warn_for)\n",
      "/mounts/Users/student/asgari/.local/lib/python3.4/site-packages/sklearn/metrics/classification.py:1113: UndefinedMetricWarning: F-score is ill-defined and being set to 0.0 due to no predicted samples.\n",
      "  'precision', 'predicted', average, warn_for)\n",
      "/mounts/Users/student/asgari/.local/lib/python3.4/site-packages/sklearn/metrics/classification.py:1113: UndefinedMetricWarning: F-score is ill-defined and being set to 0.0 due to no predicted samples.\n",
      "  'precision', 'predicted', average, warn_for)\n",
      "/mounts/Users/student/asgari/.local/lib/python3.4/site-packages/sklearn/metrics/classification.py:1113: UndefinedMetricWarning: F-score is ill-defined and being set to 0.0 due to no predicted samples.\n",
      "  'precision', 'predicted', average, warn_for)\n",
      "/mounts/Users/student/asgari/.local/lib/python3.4/site-packages/sklearn/metrics/classification.py:1113: UndefinedMetricWarning: F-score is ill-defined and being set to 0.0 due to no predicted samples.\n",
      "  'precision', 'predicted', average, warn_for)\n",
      "/mounts/Users/student/asgari/.local/lib/python3.4/site-packages/sklearn/metrics/classification.py:1113: UndefinedMetricWarning: F-score is ill-defined and being set to 0.0 due to no predicted samples.\n",
      "  'precision', 'predicted', average, warn_for)\n",
      "/mounts/Users/student/asgari/.local/lib/python3.4/site-packages/sklearn/metrics/classification.py:1113: UndefinedMetricWarning: F-score is ill-defined and being set to 0.0 due to no predicted samples.\n",
      "  'precision', 'predicted', average, warn_for)\n",
      "/mounts/Users/student/asgari/.local/lib/python3.4/site-packages/sklearn/metrics/classification.py:1113: UndefinedMetricWarning: F-score is ill-defined and being set to 0.0 due to no predicted samples.\n",
      "  'precision', 'predicted', average, warn_for)\n",
      "/mounts/Users/student/asgari/.local/lib/python3.4/site-packages/sklearn/metrics/classification.py:1113: UndefinedMetricWarning: F-score is ill-defined and being set to 0.0 due to no predicted samples.\n",
      "  'precision', 'predicted', average, warn_for)\n",
      "/mounts/Users/student/asgari/.local/lib/python3.4/site-packages/sklearn/metrics/classification.py:1113: UndefinedMetricWarning: F-score is ill-defined and being set to 0.0 due to no predicted samples.\n",
      "  'precision', 'predicted', average, warn_for)\n",
      "/mounts/Users/student/asgari/.local/lib/python3.4/site-packages/sklearn/metrics/classification.py:1113: UndefinedMetricWarning: F-score is ill-defined and being set to 0.0 due to no predicted samples.\n",
      "  'precision', 'predicted', average, warn_for)\n",
      "/mounts/Users/student/asgari/.local/lib/python3.4/site-packages/sklearn/metrics/classification.py:1113: UndefinedMetricWarning: F-score is ill-defined and being set to 0.0 due to no predicted samples.\n",
      "  'precision', 'predicted', average, warn_for)\n",
      "/mounts/Users/student/asgari/.local/lib/python3.4/site-packages/sklearn/metrics/classification.py:1113: UndefinedMetricWarning: F-score is ill-defined and being set to 0.0 due to no predicted samples.\n",
      "  'precision', 'predicted', average, warn_for)\n",
      "/mounts/Users/student/asgari/.local/lib/python3.4/site-packages/sklearn/metrics/classification.py:1113: UndefinedMetricWarning: F-score is ill-defined and being set to 0.0 due to no predicted samples.\n",
      "  'precision', 'predicted', average, warn_for)\n",
      "/mounts/Users/student/asgari/.local/lib/python3.4/site-packages/sklearn/metrics/classification.py:1113: UndefinedMetricWarning: F-score is ill-defined and being set to 0.0 due to no predicted samples.\n",
      "  'precision', 'predicted', average, warn_for)\n",
      "/mounts/Users/student/asgari/.local/lib/python3.4/site-packages/sklearn/metrics/classification.py:1113: UndefinedMetricWarning: F-score is ill-defined and being set to 0.0 due to no predicted samples.\n",
      "  'precision', 'predicted', average, warn_for)\n",
      "/mounts/Users/student/asgari/.local/lib/python3.4/site-packages/sklearn/metrics/classification.py:1113: UndefinedMetricWarning: F-score is ill-defined and being set to 0.0 due to no predicted samples.\n",
      "  'precision', 'predicted', average, warn_for)\n",
      "/mounts/Users/student/asgari/.local/lib/python3.4/site-packages/sklearn/metrics/classification.py:1113: UndefinedMetricWarning: F-score is ill-defined and being set to 0.0 due to no predicted samples.\n",
      "  'precision', 'predicted', average, warn_for)\n",
      "/mounts/Users/student/asgari/.local/lib/python3.4/site-packages/sklearn/metrics/classification.py:1113: UndefinedMetricWarning: F-score is ill-defined and being set to 0.0 due to no predicted samples.\n",
      "  'precision', 'predicted', average, warn_for)\n",
      "/mounts/Users/student/asgari/.local/lib/python3.4/site-packages/sklearn/metrics/classification.py:1113: UndefinedMetricWarning: F-score is ill-defined and being set to 0.0 due to no predicted samples.\n",
      "  'precision', 'predicted', average, warn_for)\n"
     ]
    }
   ],
   "source": [
    "clf_random_forest=RandomForestClassifier(bootstrap=True, class_weight=None, criterion='gini',\n",
    "            max_depth=None, max_features='auto', max_leaf_nodes=None,\n",
    "            min_samples_leaf=1, min_samples_split=2,\n",
    "            min_weight_fraction_leaf=0.0, n_estimators=10, n_jobs=-1,\n",
    "            oob_score=False, random_state=None, verbose=0,\n",
    "            warm_start=False)\n",
    "\n",
    "param_grid = {\"n_estimators\": [100,200, 500],\n",
    "              \"criterion\": [\"gini\", \"entropy\"],\n",
    "              'max_features': ['auto', 'sqrt'],\n",
    "              'random_state': [None, 2]\n",
    "              #'min_samples_leaf':[1, 50, 100]\n",
    "              }\n",
    "\n",
    "cv = ShuffleSplit(n_splits=10, test_size=0.2, random_state=1)\n",
    "\n",
    "params=dict()\n",
    "for drug in drug_names:\n",
    "    clf = GridSearchCV(estimator=clf_random_forest, param_grid=param_grid, cv=cv, n_jobs=40, scoring='f1')\n",
    "    Xpart, Y=makeXY_prediction(X, drug2labeledisolates_mapping[drug], common_islt)\n",
    "    clf.fit(Xpart, Y)\n",
    "    params[drug]=clf"
   ]
  },
  {
   "cell_type": "code",
   "execution_count": 154,
   "metadata": {
    "collapsed": false,
    "deletable": true,
    "editable": true
   },
   "outputs": [
    {
     "name": "stdout",
     "output_type": "stream",
     "text": [
      "Ciprofloxacin\n",
      "0.803590046733\n",
      "{'criterion': 'entropy', 'n_estimators': 100, 'max_features': 'sqrt'}\n",
      "0.813840211963\n",
      "{'criterion': 'entropy', 'n_estimators': 500, 'max_features': 'sqrt', 'min_samples_leaf': 1}\n",
      "0.81120017809\n",
      "{'random_state': None, 'criterion': 'gini', 'n_estimators': 500, 'max_features': 'auto'}\n",
      "Meropenem\n",
      "0.870161952394\n",
      "{'criterion': 'entropy', 'n_estimators': 100, 'max_features': 'auto'}\n",
      "0.870519736143\n",
      "{'criterion': 'entropy', 'n_estimators': 100, 'max_features': 'auto', 'min_samples_leaf': 1}\n",
      "0.869603544888\n",
      "{'random_state': None, 'criterion': 'entropy', 'n_estimators': 100, 'max_features': 'sqrt'}\n",
      "Ceftazidim\n",
      "0.744345319083\n",
      "{'criterion': 'entropy', 'n_estimators': 100, 'max_features': 'auto'}\n",
      "0.76446175729\n",
      "{'criterion': 'gini', 'n_estimators': 500, 'max_features': 'auto', 'min_samples_leaf': 1}\n",
      "0.758660464532\n",
      "{'random_state': 2, 'criterion': 'entropy', 'n_estimators': 100, 'max_features': 'auto'}\n",
      "Tobramycin\n",
      "0.884130825498\n",
      "{'criterion': 'gini', 'n_estimators': 100, 'max_features': 'auto'}\n",
      "0.881687758703\n",
      "{'criterion': 'gini', 'n_estimators': 200, 'max_features': 'auto', 'min_samples_leaf': 1}\n",
      "0.883161746268\n",
      "{'random_state': 2, 'criterion': 'gini', 'n_estimators': 200, 'max_features': 'auto'}\n",
      "Colistin\n",
      "0.270952380952\n",
      "{'criterion': 'gini', 'n_estimators': 100, 'max_features': 'auto'}\n",
      "0.373333333333\n",
      "{'criterion': 'gini', 'n_estimators': 100, 'max_features': 'sqrt', 'min_samples_leaf': 1}\n",
      "0.285238095238\n",
      "{'random_state': None, 'criterion': 'gini', 'n_estimators': 500, 'max_features': 'auto'}\n"
     ]
    }
   ],
   "source": [
    "for x in list(first_try_param.keys()):\n",
    "    print (x)\n",
    "    print(first_try_param[x].best_score_)\n",
    "    print(first_try_param[x].best_params_)\n",
    "    print(second_try_param[x].best_score_)\n",
    "    print(second_try_param[x].best_params_)\n",
    "    print(params[x].best_score_)\n",
    "    print(params[x].best_params_)"
   ]
  },
  {
   "cell_type": "code",
   "execution_count": 152,
   "metadata": {
    "collapsed": false,
    "deletable": true,
    "editable": true
   },
   "outputs": [
    {
     "name": "stdout",
     "output_type": "stream",
     "text": [
      "Ciprofloxacin\n",
      "0.813840211963\n"
     ]
    },
    {
     "ename": "NameError",
     "evalue": "name 'second' is not defined",
     "output_type": "error",
     "traceback": [
      "\u001b[0;31m---------------------------------------------------------------------------\u001b[0m",
      "\u001b[0;31mNameError\u001b[0m                                 Traceback (most recent call last)",
      "\u001b[0;32m<ipython-input-152-623999c3eb39>\u001b[0m in \u001b[0;36m<module>\u001b[0;34m()\u001b[0m\n\u001b[1;32m      2\u001b[0m     \u001b[0mprint\u001b[0m \u001b[0;34m(\u001b[0m\u001b[0mx\u001b[0m\u001b[0;34m)\u001b[0m\u001b[0;34m\u001b[0m\u001b[0m\n\u001b[1;32m      3\u001b[0m     \u001b[0mprint\u001b[0m\u001b[0;34m(\u001b[0m\u001b[0msecond_try_param\u001b[0m\u001b[0;34m[\u001b[0m\u001b[0mx\u001b[0m\u001b[0;34m]\u001b[0m\u001b[0;34m.\u001b[0m\u001b[0mbest_score_\u001b[0m\u001b[0;34m)\u001b[0m\u001b[0;34m\u001b[0m\u001b[0m\n\u001b[0;32m----> 4\u001b[0;31m     \u001b[0mprint\u001b[0m\u001b[0;34m(\u001b[0m\u001b[0msecond\u001b[0m\u001b[0;34m[\u001b[0m\u001b[0mx\u001b[0m\u001b[0;34m]\u001b[0m\u001b[0;34m.\u001b[0m\u001b[0mbest_params_\u001b[0m\u001b[0;34m)\u001b[0m\u001b[0;34m\u001b[0m\u001b[0m\n\u001b[0m",
      "\u001b[0;31mNameError\u001b[0m: name 'second' is not defined"
     ]
    }
   ],
   "source": [
    "for x in list(first_try_param.keys()):\n",
    "    print (x)\n",
    "    print(second_try_param[x].best_score_)\n",
    "    print(second_try_param[x].best_params_)"
   ]
  },
  {
   "cell_type": "code",
   "execution_count": 103,
   "metadata": {
    "collapsed": false,
    "deletable": true,
    "editable": true
   },
   "outputs": [
    {
     "name": "stdout",
     "output_type": "stream",
     "text": [
      "Ciprofloxacin\n",
      "precision: 0.63 (+/- 0.04)\n",
      "recall: 0.73 (+/- 0.07)\n",
      "f1: 0.77 (+/- 0.04)\n",
      "f1: 0.81 (+/- 0.04)\n",
      "Tobramycin\n",
      "precision: 0.98 (+/- 0.03)\n",
      "recall: 0.80 (+/- 0.05)\n",
      "f1: 0.85 (+/- 0.04)\n",
      "f1: 0.93 (+/- 0.03)\n"
     ]
    },
    {
     "name": "stderr",
     "output_type": "stream",
     "text": [
      "/mounts/Users/student/asgari/.local/lib/python3.4/site-packages/sklearn/metrics/classification.py:1113: UndefinedMetricWarning: Precision is ill-defined and being set to 0.0 due to no predicted samples.\n",
      "  'precision', 'predicted', average, warn_for)\n",
      "/mounts/Users/student/asgari/.local/lib/python3.4/site-packages/sklearn/metrics/classification.py:1113: UndefinedMetricWarning: Precision is ill-defined and being set to 0.0 due to no predicted samples.\n",
      "  'precision', 'predicted', average, warn_for)\n",
      "/mounts/Users/student/asgari/.local/lib/python3.4/site-packages/sklearn/metrics/classification.py:1113: UndefinedMetricWarning: Precision is ill-defined and being set to 0.0 due to no predicted samples.\n",
      "  'precision', 'predicted', average, warn_for)\n",
      "/mounts/Users/student/asgari/.local/lib/python3.4/site-packages/sklearn/metrics/classification.py:1113: UndefinedMetricWarning: Precision is ill-defined and being set to 0.0 due to no predicted samples.\n",
      "  'precision', 'predicted', average, warn_for)\n",
      "/mounts/Users/student/asgari/.local/lib/python3.4/site-packages/sklearn/metrics/classification.py:1113: UndefinedMetricWarning: Precision is ill-defined and being set to 0.0 due to no predicted samples.\n",
      "  'precision', 'predicted', average, warn_for)\n",
      "/mounts/Users/student/asgari/.local/lib/python3.4/site-packages/sklearn/metrics/classification.py:1113: UndefinedMetricWarning: Precision is ill-defined and being set to 0.0 due to no predicted samples.\n",
      "  'precision', 'predicted', average, warn_for)\n",
      "/mounts/Users/student/asgari/.local/lib/python3.4/site-packages/sklearn/metrics/classification.py:1113: UndefinedMetricWarning: Precision is ill-defined and being set to 0.0 due to no predicted samples.\n",
      "  'precision', 'predicted', average, warn_for)\n",
      "/mounts/Users/student/asgari/.local/lib/python3.4/site-packages/sklearn/metrics/classification.py:1113: UndefinedMetricWarning: Precision is ill-defined and being set to 0.0 due to no predicted samples.\n",
      "  'precision', 'predicted', average, warn_for)\n",
      "/mounts/Users/student/asgari/.local/lib/python3.4/site-packages/sklearn/metrics/classification.py:1113: UndefinedMetricWarning: Precision is ill-defined and being set to 0.0 due to no predicted samples.\n",
      "  'precision', 'predicted', average, warn_for)\n",
      "/mounts/Users/student/asgari/.local/lib/python3.4/site-packages/sklearn/metrics/classification.py:1113: UndefinedMetricWarning: Precision is ill-defined and being set to 0.0 due to no predicted samples.\n",
      "  'precision', 'predicted', average, warn_for)\n"
     ]
    },
    {
     "name": "stdout",
     "output_type": "stream",
     "text": [
      "Colistin\n",
      "precision: 0.00 (+/- 0.00)\n",
      "recall: 0.14 (+/- 0.17)\n"
     ]
    },
    {
     "name": "stderr",
     "output_type": "stream",
     "text": [
      "/mounts/Users/student/asgari/.local/lib/python3.4/site-packages/sklearn/metrics/classification.py:1113: UndefinedMetricWarning: F-score is ill-defined and being set to 0.0 due to no predicted samples.\n",
      "  'precision', 'predicted', average, warn_for)\n",
      "/mounts/Users/student/asgari/.local/lib/python3.4/site-packages/sklearn/metrics/classification.py:1113: UndefinedMetricWarning: F-score is ill-defined and being set to 0.0 due to no predicted samples.\n",
      "  'precision', 'predicted', average, warn_for)\n",
      "/mounts/Users/student/asgari/.local/lib/python3.4/site-packages/sklearn/metrics/classification.py:1113: UndefinedMetricWarning: F-score is ill-defined and being set to 0.0 due to no predicted samples.\n",
      "  'precision', 'predicted', average, warn_for)\n",
      "/mounts/Users/student/asgari/.local/lib/python3.4/site-packages/sklearn/metrics/classification.py:1113: UndefinedMetricWarning: F-score is ill-defined and being set to 0.0 due to no predicted samples.\n",
      "  'precision', 'predicted', average, warn_for)\n",
      "/mounts/Users/student/asgari/.local/lib/python3.4/site-packages/sklearn/metrics/classification.py:1113: UndefinedMetricWarning: F-score is ill-defined and being set to 0.0 due to no predicted samples.\n",
      "  'precision', 'predicted', average, warn_for)\n"
     ]
    },
    {
     "name": "stdout",
     "output_type": "stream",
     "text": [
      "f1: 0.22 (+/- 0.24)\n",
      "f1: 0.82 (+/- 0.14)\n",
      "Ceftazidim\n",
      "precision: 0.57 (+/- 0.05)\n",
      "recall: 0.69 (+/- 0.08)\n",
      "f1: 0.69 (+/- 0.06)\n",
      "f1: 0.74 (+/- 0.04)\n",
      "Meropenem\n",
      "precision: 0.76 (+/- 0.04)\n",
      "recall: 0.88 (+/- 0.05)\n",
      "f1: 0.85 (+/- 0.03)\n",
      "f1: 0.66 (+/- 0.06)\n"
     ]
    }
   ],
   "source": [
    "## Classification\n",
    "from sklearn import svm\n",
    "\n",
    "clf_svm = svm.SVC(kernel='rbf', C=1)\n",
    "cv = ShuffleSplit(n_splits=10, test_size=0.2, random_state=1)\n",
    "\n",
    "results_svm=dict()\n",
    "for drug in drug_names:\n",
    "    results_svm[drug]=[]\n",
    "    Xpart, Y=makeXY_prediction(X, drug2labeledisolates_mapping[drug], common_islt)\n",
    "    scores = cross_val_score(clf_svm, Xpart, Y, cv=cv, scoring='precision')\n",
    "    print (drug)\n",
    "    print(\"precision: %0.2f (+/- %0.2f)\" % (scores.mean(), scores.std()))\n",
    "    results_svm[drug].append(('RF','precision',scores.mean(), scores.std()))\n",
    "\n",
    "    scores = cross_val_score(clf_random_forest, Xpart, Y, cv=cv, scoring='recall')\n",
    "    print(\"recall: %0.2f (+/- %0.2f)\" % (scores.mean(), scores.std()))\n",
    "    results_svm[drug].append(('RF','recall',scores.mean(), scores.std()))\n",
    "\n",
    "    scores = cross_val_score(clf_random_forest, Xpart, Y, cv=cv, scoring='f1')\n",
    "    print(\"f1: %0.2f (+/- %0.2f)\" % (scores.mean(), scores.std()))\n",
    "    results_svm[drug].append(('RF','f1',scores.mean(), scores.std()))\n",
    "\n",
    "    scores = cross_val_score(clf_random_forest, Xpart, Y, cv=cv, scoring='roc_auc')\n",
    "    print(\"f1: %0.2f (+/- %0.2f)\" % (scores.mean(), scores.std()))\n",
    "    results_svm[drug].append(('RF','roc_auc',scores.mean(), scores.std()))\n",
    "\n",
    "\n",
    "\n"
   ]
  },
  {
   "cell_type": "code",
   "execution_count": null,
   "metadata": {
    "collapsed": true,
    "deletable": true,
    "editable": true
   },
   "outputs": [],
   "source": [
    "from sklearn.manifold import TSNE\n",
    "import codecs\n",
    "from numpy import *\n",
    "import numpy as np\n",
    "\n",
    "from matplotlib.colors import LogNorm\n",
    "import matplotlib.pyplot as plt\n",
    "import numpy as np\n",
    "import scipy.ndimage\n",
    "from sklearn.cluster import KMeans\n",
    "from nltk import FreqDist\n",
    "\n",
    "\n",
    "data_dir='/mounts/data/proj/asgari/github_data/data/pseudomonas/data/'\n",
    "label_files='MIC/v2/mic_bin_with_intermediate.txt'\n",
    "gene_expression_file='gene_expression/rpg_log_transformed.txt'\n",
    "snps_files='snp/v2/all_SNPs_final_bin.txt'\n",
    "\n",
    "# data reading\n",
    "label_mapping={str(l.strip().split('\\t')[0]):[int(float(str(x)))  for x in l.strip().split('\\t')[1::]] if len(l.strip().split('\\t')[1::])==5 else [0,0,0,0,0] for l in codecs.open(data_dir+label_files,'r','utf-8').readlines()[1::]}\n",
    "\n",
    "gene_expression=[l.strip() for l in codecs.open(data_dir+gene_expression_file,'r','utf-8').readlines()]\n",
    "gene_expression_mapping={str(entry.split('\\t')[0]):[float(str(x)) for x in entry.split('\\t')[1::]] for entry in gene_expression[1::]}\n",
    "\n",
    "snps=[l.strip().replace(' ','') for l in codecs.open(data_dir+snps_files,'r','utf-8').readlines()]\n",
    "mapping={'0.0':-1,'0':-1,'1.0':1,'1':1,'':0}\n",
    "snps_mapping={str(entry.split('\\t')[0]):[mapping[str(x)] for x in entry.split('\\t')[1::]] for entry in snps[1::]}\n",
    "\n",
    "training_instances=list(set(label_mapping.keys()).intersection(gene_expression_mapping.keys()).intersection(snps_mapping.keys()))\n",
    "\n",
    "X1=np.array([gene_expression_mapping[x] for x in training_instances])\n",
    "\n",
    "X2=np.array([snps_mapping[x] for x in training_instances])\n",
    "\n",
    "X=np.concatenate((X1,X2), axis=1)\n",
    "\n",
    "D=np.array([label_mapping[x] for x in training_instances])\n",
    "\n",
    "kmeans = KMeans(n_clusters=10, random_state=0).fit(D)\n",
    "classes = np.zeros((D.shape[0], 1))\n",
    "classes[:,0] = (kmeans.labels_ + 1)\n",
    "\n",
    "model = TSNE(n_components=2)\n",
    "np.set_printoptions(suppress=False)\n",
    "tsne_res = model.fit_transform(X)\n",
    "\n",
    "mat=np.append(tsne_res, classes, axis=1)\n",
    "\n",
    "for row_num, row in enumerate(list(mat)):\n",
    "    print('\\t'.join([str(row[0]), str(row[1]), str(int(row[2]))]))\n",
    "\n",
    "np.savetxt('tsne_data.txt', mat, dtype=np.float16)\n",
    "texts=[x+': '+' '.join([drugs[idx] for idx, k in enumerate(label_mapping[x]) if k==1]) for x in training_instances]\n"
   ]
  },
  {
   "cell_type": "code",
   "execution_count": 2,
   "metadata": {
    "collapsed": true,
    "deletable": true,
    "editable": true
   },
   "outputs": [],
   "source": [
    "\n"
   ]
  },
  {
   "cell_type": "code",
   "execution_count": 4,
   "metadata": {
    "collapsed": false,
    "deletable": true,
    "editable": true
   },
   "outputs": [],
   "source": [
    "model = TSNE(n_components=2)\n",
    "np.set_printoptions(suppress=False)\n",
    "tsne_res = model.fit_transform(X)"
   ]
  },
  {
   "cell_type": "code",
   "execution_count": 5,
   "metadata": {
    "collapsed": true,
    "deletable": true,
    "editable": true
   },
   "outputs": [],
   "source": [
    "from nltk import FreqDist"
   ]
  },
  {
   "cell_type": "code",
   "execution_count": 7,
   "metadata": {
    "collapsed": false,
    "deletable": true,
    "editable": true
   },
   "outputs": [],
   "source": [
    "labels=FreqDist(list(classes[:,0]))"
   ]
  },
  {
   "cell_type": "code",
   "execution_count": 8,
   "metadata": {
    "collapsed": false,
    "deletable": true,
    "editable": true
   },
   "outputs": [
    {
     "data": {
      "text/plain": [
       "[(2.0, 92),\n",
       " (4.0, 66),\n",
       " (3.0, 59),\n",
       " (5.0, 38),\n",
       " (1.0, 36),\n",
       " (8.0, 35),\n",
       " (7.0, 34),\n",
       " (9.0, 29),\n",
       " (6.0, 20),\n",
       " (10.0, 17)]"
      ]
     },
     "execution_count": 8,
     "metadata": {},
     "output_type": "execute_result"
    }
   ],
   "source": [
    "labels.most_common(10)"
   ]
  },
  {
   "cell_type": "code",
   "execution_count": 9,
   "metadata": {
    "collapsed": true,
    "deletable": true,
    "editable": true
   },
   "outputs": [],
   "source": [
    "mat=np.append(tsne_res, classes, axis=1)"
   ]
  },
  {
   "cell_type": "code",
   "execution_count": 21,
   "metadata": {
    "collapsed": false,
    "deletable": true,
    "editable": true
   },
   "outputs": [
    {
     "name": "stdout",
     "output_type": "stream",
     "text": [
      "-38.5584293282\t6.89185748346\t4\n",
      "10.3328021736\t-31.8234916287\t9\n",
      "-13.9148703117\t34.1394212438\t1\n",
      "-13.0778748734\t-40.3378382872\t2\n",
      "-22.488314215\t-21.64009622\t6\n",
      "8.35988590893\t-61.1374421049\t2\n",
      "6.67745898613\t-49.8800157139\t8\n",
      "10.9443111592\t-51.3003688887\t8\n",
      "-4.47232843117\t38.0497184234\t3\n",
      "-16.9570871923\t-23.1609048846\t2\n",
      "23.7159072187\t-21.9834507487\t3\n",
      "-40.9625799256\t-33.9930703093\t1\n",
      "28.4002962614\t-33.3767862794\t4\n",
      "-14.8187397893\t27.432343193\t3\n",
      "9.9643581152\t-12.0662473947\t3\n",
      "-2.79637268739\t35.6821164939\t7\n",
      "26.5394892612\t-44.8682334757\t2\n",
      "-30.3138810909\t20.2568593362\t7\n",
      "-13.3519560662\t6.85222119007\t3\n",
      "-23.7410488735\t33.9834508089\t10\n",
      "-34.3570335346\t-15.7567751892\t1\n",
      "21.0503998084\t-34.3409223696\t2\n",
      "36.6795559108\t-4.87309541833\t3\n",
      "33.2093971384\t-44.040824797\t4\n",
      "-9.60170656801\t-47.8021365902\t8\n",
      "12.6901952933\t34.4878285666\t8\n",
      "-22.2639228432\t-17.3925452326\t7\n",
      "-52.2342608393\t9.39903583648\t7\n",
      "37.8635677343\t-10.1031933906\t8\n",
      "26.9408238119\t-25.3882916932\t2\n",
      "-7.15925657439\t26.6662383845\t4\n",
      "20.538271582\t19.3162174833\t10\n",
      "21.3495395518\t-57.2040736629\t2\n",
      "-23.5139080411\t14.0759815565\t1\n",
      "10.3640183077\t-66.1097442639\t6\n",
      "4.81010899524\t-35.9059876192\t2\n",
      "-44.8154507274\t-15.797064917\t10\n",
      "20.0600865127\t-21.4865616418\t5\n",
      "27.8776520938\t-28.1462118668\t4\n",
      "-31.390349062\t11.0462411029\t1\n",
      "22.3204199881\t-50.3155653962\t8\n",
      "26.5854745763\t-56.5480575816\t8\n",
      "15.3607196604\t-11.3700201345\t10\n",
      "0.189322879391\t19.5646559763\t1\n",
      "17.5750891\t-48.9164228133\t2\n",
      "9.84257914121\t-26.7489152854\t9\n",
      "4.63717176509\t-9.74821602987\t7\n",
      "-54.1929392151\t-5.49322423323\t4\n",
      "14.1621631571\t-52.1602237244\t8\n",
      "-9.40769654035\t19.8317142951\t5\n",
      "19.9039056795\t-21.3194476226\t5\n",
      "-32.7815884774\t36.7653822985\t3\n",
      "-0.29778152121\t-44.8904992131\t3\n",
      "-16.6310454727\t-6.52785886292\t4\n",
      "-7.9954887889\t14.7904718302\t2\n",
      "18.0612547722\t-11.0706236747\t3\n",
      "-23.3488965587\t4.30851139101\t7\n",
      "-15.6868075262\t14.4892666578\t7\n",
      "-6.91301012715\t34.1445807433\t3\n",
      "14.2279030277\t-37.5875351498\t2\n",
      "-34.1205984818\t-6.61002081672\t4\n",
      "-33.1468776589\t-34.0041091514\t1\n",
      "-15.9992813093\t0.914957988383\t5\n",
      "-21.5478816384\t-2.52886486095\t2\n",
      "5.2392778804\t-18.4710548242\t9\n",
      "-0.414071797126\t-8.09318295985\t8\n",
      "-1.9458696567\t-24.2998483351\t4\n",
      "9.54919092477\t-26.1965125194\t5\n",
      "7.69332889547\t-26.2143093009\t9\n",
      "-14.6094747005\t32.0459983553\t3\n",
      "-1.41407106455\t22.9695053187\t5\n",
      "-4.41537694755\t14.8336579866\t4\n",
      "-10.1763972422\t8.88668281289\t6\n",
      "-33.2996818443\t-14.1814251955\t10\n",
      "7.94362200807\t11.4301537797\t7\n",
      "-46.5958591981\t-8.06891485724\t1\n",
      "-45.3477726461\t2.13077538245\t9\n",
      "-27.5354124138\t-8.8465249099\t4\n",
      "-22.3983448934\t-1.57402145192\t4\n",
      "-35.3203177807\t11.4392040956\t4\n",
      "-44.4348990697\t-2.01708883464\t1\n",
      "25.3936378871\t-29.8146426097\t3\n",
      "-44.02204023\t-11.537113532\t2\n",
      "-41.9335415747\t-10.2946353567\t5\n",
      "-39.9169667952\t4.65962524923\t4\n",
      "-34.1727571448\t-21.9795101382\t1\n",
      "-45.3297069421\t-15.4273332443\t1\n",
      "7.20430803248\t-42.016144818\t4\n",
      "-14.5640861763\t-21.8208675285\t9\n",
      "9.15887909414\t-43.6522995733\t7\n",
      "-1.23836010644\t-51.9199065084\t2\n",
      "-27.9751876145\t29.3313496752\t4\n",
      "22.6476950723\t-8.00630841271\t3\n",
      "-31.6242614646\t5.72896939125\t7\n",
      "-1.42685012072\t-33.0449471715\t4\n",
      "-31.0150180217\t-14.3606322718\t3\n",
      "-35.4963679614\t1.89308920522\t1\n",
      "2.22933644167\t-64.1304082225\t2\n",
      "14.1181810245\t-44.940311173\t2\n",
      "2.26702727191\t-53.7184575813\t2\n",
      "10.2634906666\t38.0280276474\t2\n",
      "23.7240765354\t-43.1043766593\t2\n",
      "-39.4831665481\t-35.5113502527\t3\n",
      "16.4825557841\t37.2905268952\t8\n",
      "-6.21874690178\t-40.3915500825\t4\n",
      "-0.97244889463\t-19.0535549875\t3\n",
      "-39.7772991826\t2.76358422398\t4\n",
      "-37.5513773638\t-30.3383962654\t1\n",
      "-0.946981313785\t-17.327306841\t5\n",
      "-34.5904003879\t-38.8339441733\t1\n",
      "-3.09522565788\t-0.118564994259\t1\n",
      "-27.7311079331\t-32.280562221\t7\n",
      "-22.2451909962\t11.1919867707\t7\n",
      "18.1664762628\t-37.9838950485\t2\n",
      "-29.2056158827\t-33.7131902658\t4\n",
      "-7.88631435805\t-50.0837208501\t2\n",
      "0.318256345253\t-34.4272746027\t4\n",
      "31.7946061252\t-51.7521143681\t8\n",
      "18.9005468124\t21.5572691108\t5\n",
      "-13.7807138114\t35.5642636846\t1\n",
      "8.61606430943\t-23.1403410598\t7\n",
      "-0.294458182064\t5.67586493137\t10\n",
      "-28.8779589945\t-3.87785280912\t10\n",
      "-14.3096799615\t21.112141143\t3\n",
      "39.5251451853\t-61.7524074211\t2\n",
      "-49.0007440421\t-7.3973191477\t1\n",
      "21.604234697\t-25.5609936417\t10\n",
      "-31.9881949397\t-38.5177511813\t7\n",
      "17.2285271935\t-19.5984121734\t7\n",
      "19.4381585323\t-45.7225813909\t2\n",
      "-28.4433502105\t-13.0387444883\t4\n",
      "-7.4393642335\t-21.1451254307\t2\n",
      "-46.8779002522\t-16.7075530889\t1\n",
      "14.1828559181\t-31.9373615612\t1\n",
      "-23.8810289381\t17.3108522188\t2\n",
      "-19.1999242378\t14.1468443535\t4\n",
      "23.765982718\t-54.0207922746\t8\n",
      "20.9342838906\t-16.950616403\t7\n",
      "4.22038110603\t-28.6830048684\t4\n",
      "-21.0646342668\t4.19081031142\t4\n",
      "3.58541127498\t-4.08363514252\t10\n",
      "18.3145002569\t-34.0113794146\t2\n",
      "9.81256779797\t-28.0648578657\t5\n",
      "28.9053775083\t-28.9168362059\t4\n",
      "40.5690662098\t-7.46120635336\t2\n",
      "-34.8391278467\t36.2625845926\t4\n",
      "-25.9370083707\t29.9986491545\t7\n",
      "-13.5573988897\t-32.0769655242\t5\n",
      "-27.00510608\t-6.33973512318\t4\n",
      "-14.8609087201\t-20.1410291478\t8\n",
      "13.7078871847\t-7.20311814664\t5\n",
      "6.65808863831\t37.2017014594\t8\n",
      "-9.4121232956\t-15.4210635964\t2\n",
      "-2.28569496477\t9.10411262295\t7\n",
      "24.7817679175\t17.5170704634\t7\n",
      "-32.603122462\t47.9896926665\t8\n",
      "-14.0796927637\t-24.258560878\t2\n",
      "-25.9036358144\t12.8544380102\t5\n",
      "-11.8384695106\t-22.7484239532\t2\n",
      "-32.7848578987\t-25.758343649\t2\n",
      "-12.5481499092\t-19.2721944514\t2\n",
      "-49.1924028126\t-13.7084266068\t9\n",
      "17.6866261867\t-56.6016622997\t6\n",
      "19.9078859951\t21.1019677067\t5\n",
      "-21.3294190834\t-12.2623136724\t2\n",
      "-28.1793565192\t-31.6346250747\t5\n",
      "-47.0917351039\t3.95005251942\t5\n",
      "-22.2498858461\t23.5058586274\t6\n",
      "-27.7079572194\t16.2251014263\t1\n",
      "36.3207155687\t-8.6854343786\t3\n",
      "-47.5740201724\t-3.33783963495\t1\n",
      "-37.0766033904\t19.0707359309\t4\n",
      "-19.6251518604\t-17.3011257278\t8\n",
      "-22.4131651953\t-0.973961760293\t7\n",
      "18.9262769256\t-10.0157932044\t3\n",
      "-0.547891934685\t12.8349371396\t9\n",
      "8.56779638509\t-41.7854851389\t9\n",
      "-50.160521321\t-9.17057601033\t1\n",
      "-34.7529022182\t-28.6536808117\t1\n",
      "-51.6395105902\t11.6009726179\t4\n",
      "-18.5818407832\t-1.43787886682\t4\n",
      "-12.7576224083\t-13.7369560192\t2\n",
      "17.0023721741\t18.6103989802\t6\n",
      "-2.86858287555\t-42.2769322141\t8\n",
      "-21.6083908148\t22.8110821853\t6\n",
      "-17.2012658413\t5.74526473771\t7\n",
      "12.0167518964\t-40.7740735512\t2\n",
      "-4.93215586249\t-16.5685742358\t2\n",
      "-8.18458315708\t-33.1571678825\t3\n",
      "-13.7483373268\t-3.6203306167\t9\n",
      "-8.75302986318\t-7.4216711684\t9\n",
      "-30.0958852498\t22.6397124602\t5\n",
      "-47.7211284036\t-3.96346119947\t8\n",
      "8.6228055786\t-9.9899944941\t4\n",
      "-7.85766072531\t-73.0022898414\t6\n",
      "21.9065518218\t-49.5023897266\t2\n",
      "9.09809678059\t-25.8169355103\t9\n",
      "19.4603819824\t2.52949456793\t8\n",
      "-48.5291747679\t-9.42917566473\t1\n",
      "7.64985126343\t-53.3680272916\t7\n",
      "-16.300217379\t-16.7429208067\t2\n",
      "34.9186528615\t-4.27387072675\t3\n",
      "30.1371715368\t1.55252436852\t2\n",
      "-18.5270463612\t-20.0603159543\t2\n",
      "-13.7994004296\t11.0686835248\t3\n",
      "-4.65370043109\t36.2912053008\t3\n",
      "-47.8192534702\t-15.6507178784\t3\n",
      "38.1477421901\t-10.3100527974\t2\n",
      "18.3824485771\t25.6513198628\t7\n",
      "-28.6384733733\t-36.537467035\t4\n",
      "11.5768402294\t6.78564716543\t5\n",
      "-34.9662368773\t19.1819551481\t10\n",
      "21.7631782025\t-41.2075800238\t2\n",
      "-36.6455200105\t7.5078905726\t9\n",
      "9.78203861543\t-50.3825176787\t6\n",
      "-16.5845804584\t27.5969504051\t2\n",
      "-30.8531976362\t-29.8256662591\t3\n",
      "17.6964993585\t40.6347828718\t8\n",
      "-15.3223534295\t-34.2532238675\t9\n",
      "39.9098535227\t-28.8042766313\t6\n",
      "25.2623730797\t-9.61424104666\t4\n",
      "25.1676925384\t-49.90738091\t2\n",
      "-43.0685536131\t-5.26072014009\t9\n",
      "24.9059787622\t-36.6438574587\t2\n",
      "7.20394434372\t13.5202375767\t7\n",
      "-32.8593126549\t-8.10504755895\t5\n",
      "39.3610537792\t2.48902986539\t2\n",
      "16.6817665433\t-61.8140548127\t2\n",
      "-2.40409132137\t-8.39051288658\t2\n",
      "2.37534798988\t35.745345695\t2\n",
      "-36.6063264174\t8.16364351395\t4\n",
      "39.0191642653\t-27.4003496506\t2\n",
      "-7.87938449837\t23.8563003247\t10\n",
      "-35.6218278279\t-31.1357899201\t1\n",
      "24.7001675162\t-24.4442836205\t5\n",
      "-14.3697476505\t-15.2764452342\t2\n",
      "-34.2014874266\t-0.55155086297\t1\n",
      "-0.206445301536\t-8.24711832719\t2\n",
      "-40.3611159331\t-9.64557061326\t10\n",
      "14.4699041272\t23.6163328328\t2\n",
      "-13.864869408\t15.5399762352\t3\n",
      "-20.825766368\t-10.6413697063\t7\n",
      "13.7073614582\t31.1816624725\t4\n",
      "21.6629025542\t-9.51989346512\t7\n",
      "-12.4691649093\t-37.2626069377\t1\n",
      "-16.8756956996\t-9.42689127957\t3\n",
      "-45.0405290243\t-32.2391550638\t5\n",
      "13.2694035667\t-32.5297644568\t6\n",
      "-12.9530166856\t3.87203422715\t3\n",
      "34.79217714\t-55.7815169071\t8\n",
      "12.0763354747\t-53.5134453021\t8\n",
      "4.27239820663\t10.3828575994\t4\n",
      "12.6947385153\t34.321675194\t8\n",
      "-34.1056325075\t3.35891929226\t3\n",
      "14.0762281844\t-22.7924246076\t4\n",
      "-29.0716296349\t-6.23774094308\t4\n",
      "19.328748164\t-42.9314136136\t2\n",
      "-7.57296338081\t-4.27198767832\t5\n",
      "-30.4879968133\t-15.2013659845\t1\n",
      "-41.4158495477\t-22.738294293\t4\n",
      "9.82235169336\t-11.8586834152\t5\n",
      "-12.033649947\t-1.37513885509\t9\n",
      "13.0922851752\t10.6940196023\t4\n",
      "17.7521035904\t12.1268639108\t3\n",
      "-10.2556677648\t-48.2409021347\t8\n",
      "-23.7407512228\t16.3021273281\t8\n",
      "-10.2473125269\t-18.0315250517\t2\n",
      "31.457703267\t-29.9702140336\t2\n",
      "29.847286322\t-2.34020907427\t7\n",
      "-24.3654004866\t8.32915769703\t2\n",
      "15.5289113381\t-2.36228000143\t3\n",
      "-8.52376922481\t3.13244135987\t2\n",
      "-1.98919701784\t-32.2933117779\t9\n",
      "-6.01536339798\t3.23546229777\t5\n",
      "27.6641605437\t-6.83331342501\t10\n",
      "-35.3382845155\t-14.6313925219\t3\n",
      "-1.81616055506\t9.98752063552\t3\n",
      "6.61946212521\t-24.6097128807\t4\n",
      "-18.7438489462\t10.472974678\t3\n",
      "17.6260944531\t-49.1109128851\t8\n",
      "-51.3951459779\t-12.9191489652\t1\n",
      "-35.4733764868\t20.1534770326\t10\n",
      "-11.8590733555\t6.27887758707\t3\n",
      "-9.01624271941\t-27.0591971243\t2\n",
      "-0.798653251796\t-22.6846209231\t5\n",
      "10.0847310469\t35.6635509225\t8\n",
      "15.1354563312\t3.97891263671\t8\n",
      "41.234113874\t-1.56112431369\t2\n",
      "26.9299442684\t-6.33319645809\t5\n",
      "-1.5869455829\t-6.35198235401\t6\n",
      "-39.7909568706\t15.1559986926\t7\n",
      "-0.843366998911\t-4.58713913036\t9\n",
      "3.07607855024\t-6.17464929871\t2\n",
      "-25.8848181011\t-3.56070778281\t4\n",
      "-16.1400732527\t-24.6122688239\t2\n",
      "-1.17371256107\t22.5052760574\t3\n",
      "22.7754489184\t-51.808169726\t2\n",
      "-32.7845054265\t-18.9658218511\t3\n",
      "-6.24723914568\t-0.361634604112\t3\n",
      "19.4670524157\t16.0469650938\t7\n",
      "10.4784746087\t-19.3551787725\t9\n",
      "8.39164353222\t32.3112035072\t8\n",
      "-9.16244861368\t-22.6145392648\t2\n",
      "-36.9917697093\t11.2875832808\t2\n",
      "-12.5023914138\t-47.4869713914\t8\n",
      "-24.0018006093\t36.3430043838\t3\n",
      "-35.7271440861\t-6.54644465669\t5\n",
      "3.01626955514\t-59.6310510798\t2\n",
      "-51.8497124702\t21.768421043\t6\n",
      "13.4648632467\t-55.510548974\t2\n",
      "1.89742206916\t19.8183057276\t3\n",
      "6.42888587499\t-42.1482358423\t7\n",
      "8.8688707894\t-3.93558320744\t2\n",
      "-33.7919198819\t23.3461465097\t6\n",
      "-30.8980009739\t-0.671017289851\t10\n",
      "23.5865523342\t23.8964809972\t5\n",
      "23.6057849598\t-21.2092889494\t5\n",
      "-50.7003519701\t-4.70127933607\t1\n",
      "-44.4634758035\t-0.424449977352\t4\n",
      "-17.9721794349\t20.0369511243\t2\n",
      "31.7917844326\t-31.1863220536\t3\n",
      "-26.1316930013\t-9.39107397111\t1\n",
      "17.8302658669\t-57.198148977\t2\n",
      "-50.7705438113\t0.590772755082\t1\n",
      "8.4506864681\t-62.1141805607\t3\n",
      "-12.2242197482\t34.4493282327\t1\n",
      "2.1378719298\t-49.287539915\t2\n",
      "14.3519271216\t-20.1394333965\t3\n",
      "-4.68547208791\t11.0747170089\t7\n",
      "-28.0486299426\t3.04673474384\t4\n",
      "19.1062083779\t-24.4097543658\t4\n",
      "-34.5899024708\t15.0881062336\t4\n",
      "24.2056796806\t-46.869773726\t2\n",
      "-5.11048804094\t34.4984892925\t3\n",
      "-35.0519013138\t25.4081826513\t2\n",
      "37.7369241532\t-0.872169868671\t9\n",
      "9.9877781401\t-19.1928394589\t5\n",
      "0.797973242455\t-1.38634353765\t3\n",
      "17.7557453805\t-6.04228217731\t3\n",
      "-22.8044500138\t9.49095958154\t4\n",
      "27.8535491491\t-44.3376437658\t2\n",
      "38.860163905\t-2.50098800766\t2\n",
      "19.2704745906\t6.37715696486\t4\n",
      "22.1262969913\t23.6219495785\t4\n",
      "7.70536954133\t-27.011760833\t9\n",
      "20.0067133418\t-39.2069857554\t8\n",
      "-8.43790165889\t-37.498301694\t4\n",
      "24.1469359496\t-34.5353805436\t2\n",
      "23.6813888407\t-50.6244214584\t2\n",
      "34.3708922225\t-44.6422872669\t2\n",
      "-36.7856453334\t-36.8550735689\t5\n",
      "8.21293055114\t30.2250762521\t1\n",
      "21.8498600999\t-38.3527157083\t10\n",
      "-25.189364785\t-29.3558428113\t2\n",
      "37.672601169\t0.848114501623\t2\n",
      "6.19040873963\t0.821184794021\t4\n",
      "-2.71422059809\t-21.849274101\t3\n",
      "-23.3886642663\t-8.72950090697\t3\n",
      "-15.5065180077\t-8.44372790619\t4\n",
      "0.591601365568\t7.69668670248\t4\n",
      "-9.54949553295\t30.5821946262\t4\n",
      "-41.8528912454\t7.10966847291\t9\n",
      "21.5928514921\t-19.2501513068\t3\n",
      "-35.2614710639\t-31.6687813406\t8\n",
      "20.730878611\t5.38332409827\t6\n",
      "40.497725854\t-3.6807861637\t5\n",
      "18.6279521665\t-24.9346820878\t5\n",
      "-3.31340020581\t22.040304923\t9\n",
      "-7.45156039333\t14.925941236\t1\n",
      "-22.7879888923\t-17.120616979\t4\n",
      "-26.4722611162\t-34.2992737824\t1\n",
      "-19.975253771\t3.65479791884\t4\n",
      "1.59757215402\t15.6055935746\t5\n",
      "-1.46428585821\t-55.4482648538\t8\n",
      "-29.1481770944\t-26.9332096208\t6\n",
      "17.3882793191\t-18.6167011783\t9\n",
      "-8.57531768414\t5.05114188819\t7\n",
      "13.8339674396\t-44.7628769658\t8\n",
      "-4.15850934264\t-35.5659945387\t9\n",
      "22.8362037301\t-54.7712938178\t8\n",
      "15.7415764974\t-8.04884036812\t4\n",
      "2.15005070751\t-58.0276434487\t6\n",
      "-51.7466809548\t-11.2289266964\t6\n",
      "21.6675264568\t-18.5526387511\t3\n",
      "-13.0139591782\t-13.7908017353\t2\n",
      "-30.9813531248\t-2.08704520616\t4\n",
      "-34.0249473785\t-4.3220540383\t4\n",
      "-15.2693095375\t-3.91034326251\t3\n",
      "2.57277148928\t-52.4313680327\t6\n",
      "-43.4200424331\t-4.25994239383\t5\n",
      "-26.5380416773\t12.8226353434\t5\n",
      "-12.6388960574\t32.8797846557\t9\n",
      "-0.358839200701\t30.4740466969\t9\n",
      "-1.32340883574\t-35.7309291374\t7\n",
      "-13.7626282996\t25.8919754027\t4\n",
      "10.6725629097\t-49.7614156999\t2\n",
      "-52.1567812182\t20.7822492403\t3\n",
      "-29.2876441292\t7.03968579683\t3\n",
      "9.8571485068\t6.4602061398\t3\n",
      "-15.1082473407\t20.4503180569\t4\n",
      "-43.5157126214\t11.3938301425\t9\n",
      "-31.9907002433\t15.2841827894\t3\n",
      "-6.14230274382\t9.53742255502\t6\n",
      "6.29945949348\t-28.5195799074\t5\n",
      "-53.4226285819\t-10.0566985746\t3\n",
      "18.1941732136\t-39.5037262193\t2\n",
      "16.8184837363\t-15.3859849362\t4\n",
      "-0.687499381792\t-43.8157666196\t2\n",
      "-0.0361065635896\t-41.4041405681\t2\n",
      "14.4404830875\t8.11433659825\t2\n",
      "-18.5863410864\t-4.13470133336\t3\n",
      "4.58417418436\t-48.9077962507\t2\n",
      "-11.0814972135\t-27.4080477192\t2\n",
      "-10.0987901989\t-54.8671631208\t2\n",
      "-19.4989420853\t16.4099101611\t3\n",
      "-34.6961408029\t26.9071473924\t4\n",
      "-16.6934248986\t-26.8481278201\t2\n",
      "-25.9843466272\t19.3196173561\t3\n",
      "-12.9919756407\t-53.3910224073\t2\n",
      "-32.1127403799\t-30.7899267858\t5\n",
      "2.15842718129\t-24.2631228195\t4\n",
      "-12.2761888355\t19.2612407428\t4\n",
      "-7.01712802374\t-32.1095254106\t7\n",
      "-1.0995134119\t26.5424429685\t9\n",
      "-39.6171457673\t10.9662940112\t10\n",
      "31.2470050817\t-46.0394657638\t2\n"
     ]
    }
   ],
   "source": []
  },
  {
   "cell_type": "code",
   "execution_count": 20,
   "metadata": {
    "collapsed": false,
    "deletable": true,
    "editable": true
   },
   "outputs": [
    {
     "ename": "TypeError",
     "evalue": "savetxt() got an unexpected keyword argument 'dtype'",
     "output_type": "error",
     "traceback": [
      "\u001b[0;31m---------------------------------------------------------------------------\u001b[0m",
      "\u001b[0;31mTypeError\u001b[0m                                 Traceback (most recent call last)",
      "\u001b[0;32m<ipython-input-20-411edfc08096>\u001b[0m in \u001b[0;36m<module>\u001b[0;34m()\u001b[0m\n\u001b[0;32m----> 1\u001b[0;31m \u001b[0mnp\u001b[0m\u001b[0;34m.\u001b[0m\u001b[0msavetxt\u001b[0m\u001b[0;34m(\u001b[0m\u001b[0;34m'tsne_data.txt'\u001b[0m\u001b[0;34m,\u001b[0m \u001b[0mmat\u001b[0m\u001b[0;34m,\u001b[0m \u001b[0mdtype\u001b[0m\u001b[0;34m=\u001b[0m\u001b[0mnp\u001b[0m\u001b[0;34m.\u001b[0m\u001b[0mfloat32\u001b[0m\u001b[0;34m)\u001b[0m\u001b[0;34m\u001b[0m\u001b[0m\n\u001b[0m",
      "\u001b[0;31mTypeError\u001b[0m: savetxt() got an unexpected keyword argument 'dtype'"
     ]
    }
   ],
   "source": [
    "np.savetxt('tsne_data.txt', mat, dtype=np.float16)"
   ]
  },
  {
   "cell_type": "code",
   "execution_count": 12,
   "metadata": {
    "collapsed": true,
    "deletable": true,
    "editable": true
   },
   "outputs": [],
   "source": [
    "drugs= ['Ciprofloxacin','Tobramycin','Colistin','Ceftazidim','Meropenem']"
   ]
  },
  {
   "cell_type": "code",
   "execution_count": 17,
   "metadata": {
    "collapsed": false,
    "deletable": true,
    "editable": true
   },
   "outputs": [],
   "source": [
    "texts=[x+': '+' '.join([drugs[idx] for idx, k in enumerate(label_mapping[x]) if k==1]) for x in training_instances]"
   ]
  },
  {
   "cell_type": "code",
   "execution_count": 18,
   "metadata": {
    "collapsed": false,
    "deletable": true,
    "editable": true
   },
   "outputs": [],
   "source": [
    "f=open('labels.txt','w')\n",
    "for t in texts:\n",
    "    f.write(t+'\\n')\n",
    "f.close()"
   ]
  },
  {
   "cell_type": "code",
   "execution_count": null,
   "metadata": {
    "collapsed": true,
    "deletable": true,
    "editable": true
   },
   "outputs": [],
   "source": []
  }
 ],
 "metadata": {
  "kernelspec": {
   "display_name": "Python 3",
   "language": "python",
   "name": "python3"
  },
  "language_info": {
   "codemirror_mode": {
    "name": "ipython",
    "version": 3
   },
   "file_extension": ".py",
   "mimetype": "text/x-python",
   "name": "python",
   "nbconvert_exporter": "python",
   "pygments_lexer": "ipython3",
   "version": "3.4.5"
  }
 },
 "nbformat": 4,
 "nbformat_minor": 2
}
