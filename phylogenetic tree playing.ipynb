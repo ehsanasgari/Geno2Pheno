{
 "cells": [
  {
   "cell_type": "code",
   "execution_count": 5,
   "metadata": {
    "collapsed": true,
    "deletable": true,
    "editable": true
   },
   "outputs": [],
   "source": [
    "import sys\n",
    "sys.path.append('amrprediction/')\n",
    "from Bio.Phylo import BaseTree\n",
    "from Bio import Phylo\n",
    "from amrprediction.isolate_relation_analysis import IsolatesRelations\n",
    "import itertools\n",
    "import numpy as np\n",
    "import codecs"
   ]
  },
  {
   "cell_type": "code",
   "execution_count": 6,
   "metadata": {
    "collapsed": true,
    "deletable": true,
    "editable": true
   },
   "outputs": [],
   "source": [
    "def get_path_edges(node_seq):\n",
    "    '''\n",
    "    from node sequence to edges\n",
    "    '''\n",
    "    edges=list()\n",
    "    for first, second in zip(node_seq, node_seq[1:]):\n",
    "        edges.append(([x.name for x in first.get_terminals()],[x.name for x in second.get_terminals()]))\n",
    "    return edges"
   ]
  },
  {
   "cell_type": "code",
   "execution_count": 7,
   "metadata": {
    "collapsed": true,
    "deletable": true,
    "editable": true
   },
   "outputs": [],
   "source": [
    "def gain_loss_edges(ISR, A, B, drug_idx):\n",
    "    isolates=ISR.DrugRel.get_isolate_list()\n",
    "    idxs_A=[isolates.index(x) for x in A if x in isolates]\n",
    "    idxs_B=[isolates.index(x) for x in B if x in isolates]\n",
    "    A_labels=[ISR.DrugRel.drug_vectors[drug_idx,idx] for idx in idxs_A]\n",
    "    B_labels=[ISR.DrugRel.drug_vectors[drug_idx,idx] for idx in idxs_B]\n",
    "    A_labels=list(set(A_labels))\n",
    "    B_labels=list(set(B_labels))\n",
    "    A_labels.sort()\n",
    "    B_labels.sort()\n",
    "    check={str([0.5]):'I',str([0.0,1.0]):'SR',str([]):'NONE', str([1.0]):'R',str([0.0]):'S',str([0.5,1.0]):'IR',str([0.0,0.5]):'SI',str([0.0,0.5,1.0]):'SIR'}\n",
    "    result=(check[str(A_labels)],check[str(B_labels)])\n",
    "\n",
    "    final_check={('SIR','I'):'I',('SIR','R'):'R',('SIR','S'):'S',('SI','I'):'I',('SI','S'):'S',('IR','I'):'I',('IR','R'):'R',('SR','R'):'R',('SR','S'):'S'}    \n",
    "    if result in final_check:\n",
    "        return A_labels, B_labels, final_check[result]\n",
    "    else:\n",
    "        return False"
   ]
  },
  {
   "cell_type": "code",
   "execution_count": 8,
   "metadata": {
    "collapsed": true,
    "deletable": true,
    "editable": true
   },
   "outputs": [],
   "source": [
    "tree = Phylo.read(\"amrprediction/data_config/tree.nwk\", \"newick\")\n",
    "ISR=IsolatesRelations()\n",
    "terminals=tree.get_terminals()\n",
    "all_edges=list()\n",
    "for t in terminals:\n",
    "    all_edges.append(get_path_edges(tree.get_path(t)))\n",
    "all_edges_tot=list(itertools.chain(*all_edges))"
   ]
  },
  {
   "cell_type": "code",
   "execution_count": null,
   "metadata": {
    "collapsed": true,
    "deletable": true,
    "editable": true
   },
   "outputs": [],
   "source": [
    "# check results\n",
    "for edge in all_edges_tot:\n",
    "    res=gain_loss_edges(ISR, edge[0], edge[1],0)\n",
    "    if res:\n",
    "        print(gain_loss_edges(ISR, edge[0], edge[1],0))"
   ]
  },
  {
   "cell_type": "code",
   "execution_count": 17,
   "metadata": {
    "collapsed": false,
    "deletable": true,
    "editable": true
   },
   "outputs": [
    {
     "name": "stdout",
     "output_type": "stream",
     "text": [
      "Ciprofloxacin\n",
      "Tobramycin\n",
      "Colistin\n",
      "Ceftazidim\n",
      "Meropenem\n"
     ]
    }
   ],
   "source": [
    "import codecs\n",
    "for drug_idx, drug in enumerate(ISR.DrugRel.drugs):\n",
    "    print(drug)\n",
    "    f=codecs.open('amrprediction/data_config/GL_'+drug+'.txt','w','utf-8')\n",
    "    for edge in all_edges_tot:\n",
    "        res=gain_loss_edges(ISR, edge[0], edge[1],drug_idx)\n",
    "        if res:\n",
    "            f.write('\\t'.join([' '.join(edge[0]),' '.join(edge[1]), '\\t'.join([str(r) for r in res])])+'\\n')\n",
    "    f.close()"
   ]
  },
  {
   "cell_type": "markdown",
   "metadata": {
    "deletable": true,
    "editable": true
   },
   "source": [
    "## Create mapping"
   ]
  },
  {
   "cell_type": "code",
   "execution_count": 18,
   "metadata": {
    "collapsed": true,
    "deletable": true,
    "editable": true
   },
   "outputs": [],
   "source": [
    "isolates=ISR.DrugRel.get_isolate_list()\n",
    "idxs_A=[isolates.index(x) for x in isolates]\n",
    "label_map={0:'V',1:'R',0.5:'I'}\n",
    "maps=list()\n",
    "for drugidx,drug in enumerate(ISR.DrugRel.drugs):\n",
    "    mapping={isol:label_map[ISR.DrugRel.drug_vectors[drugidx,idx]] for idx, isol in enumerate(isolates)}\n",
    "    maps.append(mapping)\n",
    "\n"
   ]
  },
  {
   "cell_type": "code",
   "execution_count": null,
   "metadata": {
    "collapsed": true,
    "deletable": true,
    "editable": true
   },
   "outputs": [],
   "source": []
  }
 ],
 "metadata": {
  "kernelspec": {
   "display_name": "Python 3",
   "language": "python",
   "name": "python3"
  },
  "language_info": {
   "codemirror_mode": {
    "name": "ipython",
    "version": 3
   },
   "file_extension": ".py",
   "mimetype": "text/x-python",
   "name": "python",
   "nbconvert_exporter": "python",
   "pygments_lexer": "ipython3",
   "version": "3.4.6"
  }
 },
 "nbformat": 4,
 "nbformat_minor": 2
}
